{
 "cells": [
  {
   "cell_type": "markdown",
   "metadata": {},
   "source": [
    "# Определение перспективного тарифа для телеком-компании"
   ]
  },
  {
   "cell_type": "markdown",
   "metadata": {},
   "source": [
    "## Изучение данных из файлов"
   ]
  },
  {
   "cell_type": "code",
   "execution_count": 2,
   "metadata": {},
   "outputs": [],
   "source": [
    "# Импорт библиотеки pandas.\n",
    "import pandas as pd \n",
    "\n",
    "# Импорт библиотеки matplotlib.\n",
    "import matplotlib.pyplot as plt\n",
    "\n",
    "# Импорт библтотеки numpy\n",
    "import numpy as np\n",
    "\n",
    "# Импортируем пакет scipy.stats\n",
    "from scipy import stats as st\n",
    "\n",
    "import math\n",
    "\n",
    "import seaborn as sns\n",
    "\n",
    "# Прописываем настройки чтобы избавиться от лишних запятых при работе метода `describe` и убрать экспонентациальные формы\n",
    "pd.set_option('display.float_format', '{:,.2f}'.format)\n"
   ]
  },
  {
   "cell_type": "code",
   "execution_count": 70,
   "metadata": {
    "scrolled": false
   },
   "outputs": [
    {
     "data": {
      "text/html": [
       "<div>\n",
       "<style scoped>\n",
       "    .dataframe tbody tr th:only-of-type {\n",
       "        vertical-align: middle;\n",
       "    }\n",
       "\n",
       "    .dataframe tbody tr th {\n",
       "        vertical-align: top;\n",
       "    }\n",
       "\n",
       "    .dataframe thead th {\n",
       "        text-align: right;\n",
       "    }\n",
       "</style>\n",
       "<table border=\"1\" class=\"dataframe\">\n",
       "  <thead>\n",
       "    <tr style=\"text-align: right;\">\n",
       "      <th></th>\n",
       "      <th>id</th>\n",
       "      <th>call_date</th>\n",
       "      <th>duration</th>\n",
       "      <th>user_id</th>\n",
       "    </tr>\n",
       "  </thead>\n",
       "  <tbody>\n",
       "    <tr>\n",
       "      <td>0</td>\n",
       "      <td>1000_0</td>\n",
       "      <td>2018-07-25</td>\n",
       "      <td>0.00</td>\n",
       "      <td>1000</td>\n",
       "    </tr>\n",
       "    <tr>\n",
       "      <td>1</td>\n",
       "      <td>1000_1</td>\n",
       "      <td>2018-08-17</td>\n",
       "      <td>0.00</td>\n",
       "      <td>1000</td>\n",
       "    </tr>\n",
       "    <tr>\n",
       "      <td>2</td>\n",
       "      <td>1000_2</td>\n",
       "      <td>2018-06-11</td>\n",
       "      <td>2.85</td>\n",
       "      <td>1000</td>\n",
       "    </tr>\n",
       "    <tr>\n",
       "      <td>3</td>\n",
       "      <td>1000_3</td>\n",
       "      <td>2018-09-21</td>\n",
       "      <td>13.80</td>\n",
       "      <td>1000</td>\n",
       "    </tr>\n",
       "    <tr>\n",
       "      <td>4</td>\n",
       "      <td>1000_4</td>\n",
       "      <td>2018-12-15</td>\n",
       "      <td>5.18</td>\n",
       "      <td>1000</td>\n",
       "    </tr>\n",
       "  </tbody>\n",
       "</table>\n",
       "</div>"
      ],
      "text/plain": [
       "       id   call_date  duration  user_id\n",
       "0  1000_0  2018-07-25      0.00     1000\n",
       "1  1000_1  2018-08-17      0.00     1000\n",
       "2  1000_2  2018-06-11      2.85     1000\n",
       "3  1000_3  2018-09-21     13.80     1000\n",
       "4  1000_4  2018-12-15      5.18     1000"
      ]
     },
     "metadata": {},
     "output_type": "display_data"
    },
    {
     "name": "stdout",
     "output_type": "stream",
     "text": [
      "<class 'pandas.core.frame.DataFrame'>\n",
      "RangeIndex: 202607 entries, 0 to 202606\n",
      "Data columns (total 4 columns):\n",
      "id           202607 non-null object\n",
      "call_date    202607 non-null object\n",
      "duration     202607 non-null float64\n",
      "user_id      202607 non-null int64\n",
      "dtypes: float64(1), int64(1), object(2)\n",
      "memory usage: 6.2+ MB\n"
     ]
    },
    {
     "data": {
      "text/plain": [
       "None"
      ]
     },
     "metadata": {},
     "output_type": "display_data"
    },
    {
     "data": {
      "text/html": [
       "<div>\n",
       "<style scoped>\n",
       "    .dataframe tbody tr th:only-of-type {\n",
       "        vertical-align: middle;\n",
       "    }\n",
       "\n",
       "    .dataframe tbody tr th {\n",
       "        vertical-align: top;\n",
       "    }\n",
       "\n",
       "    .dataframe thead th {\n",
       "        text-align: right;\n",
       "    }\n",
       "</style>\n",
       "<table border=\"1\" class=\"dataframe\">\n",
       "  <thead>\n",
       "    <tr style=\"text-align: right;\">\n",
       "      <th></th>\n",
       "      <th>Unnamed: 0</th>\n",
       "      <th>id</th>\n",
       "      <th>mb_used</th>\n",
       "      <th>session_date</th>\n",
       "      <th>user_id</th>\n",
       "    </tr>\n",
       "  </thead>\n",
       "  <tbody>\n",
       "    <tr>\n",
       "      <td>0</td>\n",
       "      <td>0</td>\n",
       "      <td>1000_0</td>\n",
       "      <td>112.95</td>\n",
       "      <td>2018-11-25</td>\n",
       "      <td>1000</td>\n",
       "    </tr>\n",
       "    <tr>\n",
       "      <td>1</td>\n",
       "      <td>1</td>\n",
       "      <td>1000_1</td>\n",
       "      <td>1,052.81</td>\n",
       "      <td>2018-09-07</td>\n",
       "      <td>1000</td>\n",
       "    </tr>\n",
       "    <tr>\n",
       "      <td>2</td>\n",
       "      <td>2</td>\n",
       "      <td>1000_2</td>\n",
       "      <td>1,197.26</td>\n",
       "      <td>2018-06-25</td>\n",
       "      <td>1000</td>\n",
       "    </tr>\n",
       "    <tr>\n",
       "      <td>3</td>\n",
       "      <td>3</td>\n",
       "      <td>1000_3</td>\n",
       "      <td>550.27</td>\n",
       "      <td>2018-08-22</td>\n",
       "      <td>1000</td>\n",
       "    </tr>\n",
       "    <tr>\n",
       "      <td>4</td>\n",
       "      <td>4</td>\n",
       "      <td>1000_4</td>\n",
       "      <td>302.56</td>\n",
       "      <td>2018-09-24</td>\n",
       "      <td>1000</td>\n",
       "    </tr>\n",
       "  </tbody>\n",
       "</table>\n",
       "</div>"
      ],
      "text/plain": [
       "   Unnamed: 0      id  mb_used session_date  user_id\n",
       "0           0  1000_0   112.95   2018-11-25     1000\n",
       "1           1  1000_1 1,052.81   2018-09-07     1000\n",
       "2           2  1000_2 1,197.26   2018-06-25     1000\n",
       "3           3  1000_3   550.27   2018-08-22     1000\n",
       "4           4  1000_4   302.56   2018-09-24     1000"
      ]
     },
     "metadata": {},
     "output_type": "display_data"
    },
    {
     "name": "stdout",
     "output_type": "stream",
     "text": [
      "<class 'pandas.core.frame.DataFrame'>\n",
      "RangeIndex: 149396 entries, 0 to 149395\n",
      "Data columns (total 5 columns):\n",
      "Unnamed: 0      149396 non-null int64\n",
      "id              149396 non-null object\n",
      "mb_used         149396 non-null float64\n",
      "session_date    149396 non-null object\n",
      "user_id         149396 non-null int64\n",
      "dtypes: float64(1), int64(2), object(2)\n",
      "memory usage: 5.7+ MB\n"
     ]
    },
    {
     "data": {
      "text/plain": [
       "None"
      ]
     },
     "metadata": {},
     "output_type": "display_data"
    },
    {
     "data": {
      "text/html": [
       "<div>\n",
       "<style scoped>\n",
       "    .dataframe tbody tr th:only-of-type {\n",
       "        vertical-align: middle;\n",
       "    }\n",
       "\n",
       "    .dataframe tbody tr th {\n",
       "        vertical-align: top;\n",
       "    }\n",
       "\n",
       "    .dataframe thead th {\n",
       "        text-align: right;\n",
       "    }\n",
       "</style>\n",
       "<table border=\"1\" class=\"dataframe\">\n",
       "  <thead>\n",
       "    <tr style=\"text-align: right;\">\n",
       "      <th></th>\n",
       "      <th>id</th>\n",
       "      <th>message_date</th>\n",
       "      <th>user_id</th>\n",
       "    </tr>\n",
       "  </thead>\n",
       "  <tbody>\n",
       "    <tr>\n",
       "      <td>0</td>\n",
       "      <td>1000_0</td>\n",
       "      <td>2018-06-27</td>\n",
       "      <td>1000</td>\n",
       "    </tr>\n",
       "    <tr>\n",
       "      <td>1</td>\n",
       "      <td>1000_1</td>\n",
       "      <td>2018-10-08</td>\n",
       "      <td>1000</td>\n",
       "    </tr>\n",
       "    <tr>\n",
       "      <td>2</td>\n",
       "      <td>1000_2</td>\n",
       "      <td>2018-08-04</td>\n",
       "      <td>1000</td>\n",
       "    </tr>\n",
       "    <tr>\n",
       "      <td>3</td>\n",
       "      <td>1000_3</td>\n",
       "      <td>2018-06-16</td>\n",
       "      <td>1000</td>\n",
       "    </tr>\n",
       "    <tr>\n",
       "      <td>4</td>\n",
       "      <td>1000_4</td>\n",
       "      <td>2018-12-05</td>\n",
       "      <td>1000</td>\n",
       "    </tr>\n",
       "  </tbody>\n",
       "</table>\n",
       "</div>"
      ],
      "text/plain": [
       "       id message_date  user_id\n",
       "0  1000_0   2018-06-27     1000\n",
       "1  1000_1   2018-10-08     1000\n",
       "2  1000_2   2018-08-04     1000\n",
       "3  1000_3   2018-06-16     1000\n",
       "4  1000_4   2018-12-05     1000"
      ]
     },
     "metadata": {},
     "output_type": "display_data"
    },
    {
     "name": "stdout",
     "output_type": "stream",
     "text": [
      "<class 'pandas.core.frame.DataFrame'>\n",
      "RangeIndex: 123036 entries, 0 to 123035\n",
      "Data columns (total 3 columns):\n",
      "id              123036 non-null object\n",
      "message_date    123036 non-null object\n",
      "user_id         123036 non-null int64\n",
      "dtypes: int64(1), object(2)\n",
      "memory usage: 2.8+ MB\n"
     ]
    },
    {
     "data": {
      "text/plain": [
       "None"
      ]
     },
     "metadata": {},
     "output_type": "display_data"
    },
    {
     "data": {
      "text/html": [
       "<div>\n",
       "<style scoped>\n",
       "    .dataframe tbody tr th:only-of-type {\n",
       "        vertical-align: middle;\n",
       "    }\n",
       "\n",
       "    .dataframe tbody tr th {\n",
       "        vertical-align: top;\n",
       "    }\n",
       "\n",
       "    .dataframe thead th {\n",
       "        text-align: right;\n",
       "    }\n",
       "</style>\n",
       "<table border=\"1\" class=\"dataframe\">\n",
       "  <thead>\n",
       "    <tr style=\"text-align: right;\">\n",
       "      <th></th>\n",
       "      <th>messages_included</th>\n",
       "      <th>mb_per_month_included</th>\n",
       "      <th>minutes_included</th>\n",
       "      <th>rub_monthly_fee</th>\n",
       "      <th>rub_per_gb</th>\n",
       "      <th>rub_per_message</th>\n",
       "      <th>rub_per_minute</th>\n",
       "      <th>tariff_name</th>\n",
       "    </tr>\n",
       "  </thead>\n",
       "  <tbody>\n",
       "    <tr>\n",
       "      <td>0</td>\n",
       "      <td>50</td>\n",
       "      <td>15360</td>\n",
       "      <td>500</td>\n",
       "      <td>550</td>\n",
       "      <td>200</td>\n",
       "      <td>3</td>\n",
       "      <td>3</td>\n",
       "      <td>smart</td>\n",
       "    </tr>\n",
       "    <tr>\n",
       "      <td>1</td>\n",
       "      <td>1000</td>\n",
       "      <td>30720</td>\n",
       "      <td>3000</td>\n",
       "      <td>1950</td>\n",
       "      <td>150</td>\n",
       "      <td>1</td>\n",
       "      <td>1</td>\n",
       "      <td>ultra</td>\n",
       "    </tr>\n",
       "  </tbody>\n",
       "</table>\n",
       "</div>"
      ],
      "text/plain": [
       "   messages_included  mb_per_month_included  minutes_included  \\\n",
       "0                 50                  15360               500   \n",
       "1               1000                  30720              3000   \n",
       "\n",
       "   rub_monthly_fee  rub_per_gb  rub_per_message  rub_per_minute tariff_name  \n",
       "0              550         200                3               3       smart  \n",
       "1             1950         150                1               1       ultra  "
      ]
     },
     "metadata": {},
     "output_type": "display_data"
    },
    {
     "name": "stdout",
     "output_type": "stream",
     "text": [
      "<class 'pandas.core.frame.DataFrame'>\n",
      "RangeIndex: 2 entries, 0 to 1\n",
      "Data columns (total 8 columns):\n",
      "messages_included        2 non-null int64\n",
      "mb_per_month_included    2 non-null int64\n",
      "minutes_included         2 non-null int64\n",
      "rub_monthly_fee          2 non-null int64\n",
      "rub_per_gb               2 non-null int64\n",
      "rub_per_message          2 non-null int64\n",
      "rub_per_minute           2 non-null int64\n",
      "tariff_name              2 non-null object\n",
      "dtypes: int64(7), object(1)\n",
      "memory usage: 256.0+ bytes\n"
     ]
    },
    {
     "data": {
      "text/plain": [
       "None"
      ]
     },
     "metadata": {},
     "output_type": "display_data"
    },
    {
     "data": {
      "text/html": [
       "<div>\n",
       "<style scoped>\n",
       "    .dataframe tbody tr th:only-of-type {\n",
       "        vertical-align: middle;\n",
       "    }\n",
       "\n",
       "    .dataframe tbody tr th {\n",
       "        vertical-align: top;\n",
       "    }\n",
       "\n",
       "    .dataframe thead th {\n",
       "        text-align: right;\n",
       "    }\n",
       "</style>\n",
       "<table border=\"1\" class=\"dataframe\">\n",
       "  <thead>\n",
       "    <tr style=\"text-align: right;\">\n",
       "      <th></th>\n",
       "      <th>user_id</th>\n",
       "      <th>age</th>\n",
       "      <th>churn_date</th>\n",
       "      <th>city</th>\n",
       "      <th>first_name</th>\n",
       "      <th>last_name</th>\n",
       "      <th>reg_date</th>\n",
       "      <th>tariff</th>\n",
       "    </tr>\n",
       "  </thead>\n",
       "  <tbody>\n",
       "    <tr>\n",
       "      <td>0</td>\n",
       "      <td>1000</td>\n",
       "      <td>52</td>\n",
       "      <td>NaN</td>\n",
       "      <td>Краснодар</td>\n",
       "      <td>Рафаил</td>\n",
       "      <td>Верещагин</td>\n",
       "      <td>2018-05-25</td>\n",
       "      <td>ultra</td>\n",
       "    </tr>\n",
       "    <tr>\n",
       "      <td>1</td>\n",
       "      <td>1001</td>\n",
       "      <td>41</td>\n",
       "      <td>NaN</td>\n",
       "      <td>Москва</td>\n",
       "      <td>Иван</td>\n",
       "      <td>Ежов</td>\n",
       "      <td>2018-11-01</td>\n",
       "      <td>smart</td>\n",
       "    </tr>\n",
       "    <tr>\n",
       "      <td>2</td>\n",
       "      <td>1002</td>\n",
       "      <td>59</td>\n",
       "      <td>NaN</td>\n",
       "      <td>Стерлитамак</td>\n",
       "      <td>Евгений</td>\n",
       "      <td>Абрамович</td>\n",
       "      <td>2018-06-17</td>\n",
       "      <td>smart</td>\n",
       "    </tr>\n",
       "    <tr>\n",
       "      <td>3</td>\n",
       "      <td>1003</td>\n",
       "      <td>23</td>\n",
       "      <td>NaN</td>\n",
       "      <td>Москва</td>\n",
       "      <td>Белла</td>\n",
       "      <td>Белякова</td>\n",
       "      <td>2018-08-17</td>\n",
       "      <td>ultra</td>\n",
       "    </tr>\n",
       "    <tr>\n",
       "      <td>4</td>\n",
       "      <td>1004</td>\n",
       "      <td>68</td>\n",
       "      <td>NaN</td>\n",
       "      <td>Новокузнецк</td>\n",
       "      <td>Татьяна</td>\n",
       "      <td>Авдеенко</td>\n",
       "      <td>2018-05-14</td>\n",
       "      <td>ultra</td>\n",
       "    </tr>\n",
       "  </tbody>\n",
       "</table>\n",
       "</div>"
      ],
      "text/plain": [
       "   user_id  age churn_date         city first_name  last_name    reg_date  \\\n",
       "0     1000   52        NaN    Краснодар     Рафаил  Верещагин  2018-05-25   \n",
       "1     1001   41        NaN       Москва       Иван       Ежов  2018-11-01   \n",
       "2     1002   59        NaN  Стерлитамак    Евгений  Абрамович  2018-06-17   \n",
       "3     1003   23        NaN       Москва      Белла   Белякова  2018-08-17   \n",
       "4     1004   68        NaN  Новокузнецк    Татьяна   Авдеенко  2018-05-14   \n",
       "\n",
       "  tariff  \n",
       "0  ultra  \n",
       "1  smart  \n",
       "2  smart  \n",
       "3  ultra  \n",
       "4  ultra  "
      ]
     },
     "metadata": {},
     "output_type": "display_data"
    },
    {
     "name": "stdout",
     "output_type": "stream",
     "text": [
      "<class 'pandas.core.frame.DataFrame'>\n",
      "RangeIndex: 500 entries, 0 to 499\n",
      "Data columns (total 8 columns):\n",
      "user_id       500 non-null int64\n",
      "age           500 non-null int64\n",
      "churn_date    38 non-null object\n",
      "city          500 non-null object\n",
      "first_name    500 non-null object\n",
      "last_name     500 non-null object\n",
      "reg_date      500 non-null object\n",
      "tariff        500 non-null object\n",
      "dtypes: int64(2), object(6)\n",
      "memory usage: 31.4+ KB\n"
     ]
    },
    {
     "data": {
      "text/plain": [
       "None"
      ]
     },
     "metadata": {},
     "output_type": "display_data"
    }
   ],
   "source": [
    "# Чтение файла с данными и сохранение в df.\n",
    "calls = pd.read_csv('/datasets/calls.csv') \n",
    "internet = pd.read_csv('/datasets/internet.csv') \n",
    "messages = pd.read_csv('/datasets/messages.csv') \n",
    "tariffs = pd.read_csv('/datasets/tariffs.csv')\n",
    "users = pd.read_csv('/datasets/users.csv') \n",
    "\n",
    "# Получение первых 5 строк таблицы df и общую информацию о данных в таблице.\n",
    "display(calls.head())\n",
    "display(calls.info())\n",
    "\n",
    "display(internet.head())\n",
    "display(internet.info())\n",
    "\n",
    "display(messages.head())\n",
    "display(messages.info())\n",
    "\n",
    "display(tariffs.head())\n",
    "display(tariffs.info())\n",
    "\n",
    "display(users.head())\n",
    "display(users.info())"
   ]
  },
  {
   "cell_type": "code",
   "execution_count": 71,
   "metadata": {},
   "outputs": [
    {
     "data": {
      "text/plain": [
       "0"
      ]
     },
     "metadata": {},
     "output_type": "display_data"
    },
    {
     "data": {
      "text/plain": [
       "0"
      ]
     },
     "metadata": {},
     "output_type": "display_data"
    },
    {
     "data": {
      "text/plain": [
       "0"
      ]
     },
     "metadata": {},
     "output_type": "display_data"
    },
    {
     "data": {
      "text/plain": [
       "0"
      ]
     },
     "metadata": {},
     "output_type": "display_data"
    }
   ],
   "source": [
    "# Проверяем на наличие явных дубликатов\n",
    "display(calls.duplicated().sum())\n",
    "display(messages.duplicated().sum())\n",
    "display(internet.duplicated().sum())\n",
    "display(users.duplicated().sum())"
   ]
  },
  {
   "cell_type": "markdown",
   "metadata": {},
   "source": [
    "**Общая информация о данных в таблицах:**\n",
    "- В таблице calls 4 столбца, тип данных столбцов - float64(1), int64(1), object(2). Количество значений в столбцах одинаковое, значит в данных нет пропущенных значений;\n",
    "- В таблице internet 5 столбцов, тип данных столбцов - float64(1), int64(2), object(2). Количество значений в столбцах одинаковое, значит в данных нет пропущенных значений;\n",
    "- В таблице messages 3 столбца, тип данных столбцов - int64(1), object(2). Количество значений в столбцах различается, значит в данных есть пропущенные значения;\n",
    "- В таблице tariffs 8 столбцов, тип данных столбцов - int64(7), int(1). Количество значений в столбцах равное, значит в данных пропущенных значений нет;\n",
    "- В таблице users 8 столбцов, тип данных столбцов - int64(2), object(6). Количество значений в столбцах различается, однако это не значит, что в данных есть пропущенные значения. Пропущенные значения в столобце churn_date свидетельствуют о том, что пользователь пользуется тарифом на момент выгрузки данных;\n",
    "- Дубликаты в таблицах отсутствуют.\n",
    "\n",
    "Таблица **users** (информация о пользователях):\n",
    "- user_id — уникальный идентификатор пользователя\n",
    "- first_name — имя пользователя\n",
    "- last_name — фамилия пользователя\n",
    "- age — возраст пользователя (годы)\n",
    "- reg_date — дата подключения тарифа (день, месяц, год)\n",
    "- churn_date — дата прекращения пользования тарифом (если значение пропущено, то тариф ещё действовал на момент выгрузки данных)\n",
    "- city — город проживания пользователя\n",
    "- tarif — название тарифного плана\n",
    "\n",
    "Таблица **calls** (информация о звонках):\n",
    "- id — уникальный номер звонка\n",
    "- call_date — дата звонка\n",
    "- duration — длительность звонка в минутах\n",
    "- user_id — идентификатор пользователя, сделавшего звонок\n",
    "\n",
    "Таблица **messages** (информация о сообщениях):\n",
    "- id — уникальный номер сообщения\n",
    "- message_date — дата сообщения\n",
    "- user_id — идентификатор пользователя, отправившего сообщение\n",
    "\n",
    "Таблица **internet** (информация об интернет-сессиях):\n",
    "- id — уникальный номер сессии\n",
    "- mb_used — объём потраченного за сессию интернет-трафика (в мегабайтах)\n",
    "- session_date — дата интернет-сессии\n",
    "- user_id — идентификатор пользователя\n",
    "\n",
    "Таблица **tariffs** (информация о тарифах):\n",
    "- tariff_name — название тарифа\n",
    "- rub_monthly_fee — ежемесячная абонентская плата в рублях\n",
    "- minutes_included — количество минут разговора в месяц, включённых в абонентскую плату\n",
    "- messages_included — количество сообщений в месяц, включённых в абонентскую плату\n",
    "- mb_per_month_included — объём интернет-трафика, включённого в абонентскую плату (в мегабайтах)\n",
    "- rub_per_minute — стоимость минуты разговора сверх тарифного пакета (например, если в тарифе 100 минут разговора в месяц, то со 101 минуты будет взиматься плата)\n",
    "- rub_per_message — стоимость отправки сообщения сверх тарифного пакета\n",
    "- rub_per_gb — стоимость дополнительного гигабайта интернет-трафика сверх тарифного пакета (1 гигабайт = 1024 мегабайта)\n",
    "\n",
    "**Проблемы в данных:**\n",
    "- во всех таблицах дата отображена в формате object, необходимо заменить на datetime; \n",
    "- в таблице internet есть столбец Unnamed:0, удалим его, так как там идут номера строк; \n",
    "- в столбце churn_date таблицы users имеются пропуски. Там, где тариф действует на момент выгрузки данных, мы заменим на `-`.\n"
   ]
  },
  {
   "cell_type": "markdown",
   "metadata": {},
   "source": [
    "## предобработка данных"
   ]
  },
  {
   "cell_type": "code",
   "execution_count": 72,
   "metadata": {},
   "outputs": [],
   "source": [
    "# Заполняем проруски в столбце churn_date тиаблицы users.\n",
    "users['churn_date'] = users['churn_date'].fillna('2022-01-01')"
   ]
  },
  {
   "cell_type": "code",
   "execution_count": 73,
   "metadata": {},
   "outputs": [],
   "source": [
    "# Меняем тип данных в столбцах с датой на тип данных datetime. \n",
    "def datetime(df, columns):\n",
    "    df[columns] = pd.to_datetime(df[columns], format='%Y-%m-%d %H:%M')\n",
    "\n",
    "datetime(calls, 'call_date')\n",
    "datetime(messages, 'message_date')\n",
    "datetime(internet, 'session_date')\n",
    "datetime(users, 'reg_date')\n",
    "datetime(users, 'churn_date')"
   ]
  },
  {
   "cell_type": "code",
   "execution_count": 74,
   "metadata": {},
   "outputs": [],
   "source": [
    "# Удаляем столбец Unnamed: 0 в таблице internet\n",
    "internet = internet.drop(['Unnamed: 0'], axis=1)"
   ]
  },
  {
   "cell_type": "code",
   "execution_count": 75,
   "metadata": {},
   "outputs": [],
   "source": [
    "# Округляем значения в столбце duration в большую сторон, меняем тип данных на int\n",
    "calls['duration'] = calls['duration'].apply(np.ceil).astype('int')\n",
    "\n",
    "# Округляем значения в столбце mb_used в большую сторону, меняем тип данных на int\n",
    "internet['mb_used'] = internet['mb_used'].apply(np.ceil).astype('int')"
   ]
  },
  {
   "cell_type": "code",
   "execution_count": 76,
   "metadata": {},
   "outputs": [
    {
     "name": "stdout",
     "output_type": "stream",
     "text": [
      "<class 'pandas.core.frame.DataFrame'>\n",
      "RangeIndex: 202607 entries, 0 to 202606\n",
      "Data columns (total 4 columns):\n",
      "id           202607 non-null object\n",
      "call_date    202607 non-null datetime64[ns]\n",
      "duration     202607 non-null int64\n",
      "user_id      202607 non-null int64\n",
      "dtypes: datetime64[ns](1), int64(2), object(1)\n",
      "memory usage: 6.2+ MB\n"
     ]
    },
    {
     "data": {
      "text/plain": [
       "None"
      ]
     },
     "metadata": {},
     "output_type": "display_data"
    },
    {
     "name": "stdout",
     "output_type": "stream",
     "text": [
      "<class 'pandas.core.frame.DataFrame'>\n",
      "RangeIndex: 123036 entries, 0 to 123035\n",
      "Data columns (total 3 columns):\n",
      "id              123036 non-null object\n",
      "message_date    123036 non-null datetime64[ns]\n",
      "user_id         123036 non-null int64\n",
      "dtypes: datetime64[ns](1), int64(1), object(1)\n",
      "memory usage: 2.8+ MB\n"
     ]
    },
    {
     "data": {
      "text/plain": [
       "None"
      ]
     },
     "metadata": {},
     "output_type": "display_data"
    },
    {
     "name": "stdout",
     "output_type": "stream",
     "text": [
      "<class 'pandas.core.frame.DataFrame'>\n",
      "RangeIndex: 149396 entries, 0 to 149395\n",
      "Data columns (total 4 columns):\n",
      "id              149396 non-null object\n",
      "mb_used         149396 non-null int64\n",
      "session_date    149396 non-null datetime64[ns]\n",
      "user_id         149396 non-null int64\n",
      "dtypes: datetime64[ns](1), int64(2), object(1)\n",
      "memory usage: 4.6+ MB\n"
     ]
    },
    {
     "data": {
      "text/plain": [
       "None"
      ]
     },
     "metadata": {},
     "output_type": "display_data"
    },
    {
     "name": "stdout",
     "output_type": "stream",
     "text": [
      "<class 'pandas.core.frame.DataFrame'>\n",
      "RangeIndex: 500 entries, 0 to 499\n",
      "Data columns (total 8 columns):\n",
      "user_id       500 non-null int64\n",
      "age           500 non-null int64\n",
      "churn_date    500 non-null datetime64[ns]\n",
      "city          500 non-null object\n",
      "first_name    500 non-null object\n",
      "last_name     500 non-null object\n",
      "reg_date      500 non-null datetime64[ns]\n",
      "tariff        500 non-null object\n",
      "dtypes: datetime64[ns](2), int64(2), object(4)\n",
      "memory usage: 31.4+ KB\n"
     ]
    },
    {
     "data": {
      "text/plain": [
       "None"
      ]
     },
     "metadata": {},
     "output_type": "display_data"
    }
   ],
   "source": [
    "# Проверяем изменения.\n",
    "display(calls.info())\n",
    "display(messages.info())\n",
    "display(internet.info())\n",
    "display(users.info())"
   ]
  },
  {
   "cell_type": "markdown",
   "metadata": {},
   "source": [
    "Во всех таблицах дата была отображена в формате object, заменили на тип данных datetime. В таблице internet удалили столбец Unnamed:0, так как там идут номера строк,в столбце churn_date таблицы users имелись пропуски. Там, где тариф действует на момент выгрузки данных, мы заменим на `01-01-2022`."
   ]
  },
  {
   "cell_type": "markdown",
   "metadata": {},
   "source": [
    "## Количество сделанных звонков и израсходованных минут разговора по месяцам"
   ]
  },
  {
   "cell_type": "code",
   "execution_count": 77,
   "metadata": {},
   "outputs": [
    {
     "data": {
      "text/html": [
       "<div>\n",
       "<style scoped>\n",
       "    .dataframe tbody tr th:only-of-type {\n",
       "        vertical-align: middle;\n",
       "    }\n",
       "\n",
       "    .dataframe tbody tr th {\n",
       "        vertical-align: top;\n",
       "    }\n",
       "\n",
       "    .dataframe thead th {\n",
       "        text-align: right;\n",
       "    }\n",
       "</style>\n",
       "<table border=\"1\" class=\"dataframe\">\n",
       "  <thead>\n",
       "    <tr style=\"text-align: right;\">\n",
       "      <th></th>\n",
       "      <th></th>\n",
       "      <th>calls_duration</th>\n",
       "      <th>calls_amount</th>\n",
       "    </tr>\n",
       "    <tr>\n",
       "      <th>user_id</th>\n",
       "      <th>month</th>\n",
       "      <th></th>\n",
       "      <th></th>\n",
       "    </tr>\n",
       "  </thead>\n",
       "  <tbody>\n",
       "    <tr>\n",
       "      <td rowspan=\"5\" valign=\"top\">1000</td>\n",
       "      <td>5</td>\n",
       "      <td>159</td>\n",
       "      <td>22</td>\n",
       "    </tr>\n",
       "    <tr>\n",
       "      <td>6</td>\n",
       "      <td>172</td>\n",
       "      <td>43</td>\n",
       "    </tr>\n",
       "    <tr>\n",
       "      <td>7</td>\n",
       "      <td>340</td>\n",
       "      <td>47</td>\n",
       "    </tr>\n",
       "    <tr>\n",
       "      <td>8</td>\n",
       "      <td>408</td>\n",
       "      <td>52</td>\n",
       "    </tr>\n",
       "    <tr>\n",
       "      <td>9</td>\n",
       "      <td>466</td>\n",
       "      <td>58</td>\n",
       "    </tr>\n",
       "  </tbody>\n",
       "</table>\n",
       "</div>"
      ],
      "text/plain": [
       "               calls_duration  calls_amount\n",
       "user_id month                              \n",
       "1000    5                 159            22\n",
       "        6                 172            43\n",
       "        7                 340            47\n",
       "        8                 408            52\n",
       "        9                 466            58"
      ]
     },
     "execution_count": 77,
     "metadata": {},
     "output_type": "execute_result"
    }
   ],
   "source": [
    "# Добавляем столбец с месяцем звонков   \n",
    "calls['month'] = calls['call_date'].dt.month\n",
    "\n",
    "# Делаем сводную таблицу, группируем данные по столбцу user_id, month и сравнивыаем со значениями в столбце duration,\n",
    "# считаем количество звонков и сумму израсходованных минут в месяц\n",
    "calls_group = calls.pivot_table(index=['user_id', 'month'], values='duration',\n",
    "                                                   aggfunc=['sum', 'count'])\n",
    "calls_group.reset_index()\n",
    "\n",
    "# Переименовываем столбцы\n",
    "calls_group.columns = ['calls_duration', 'calls_amount']\n",
    "\n",
    "calls_group.head()"
   ]
  },
  {
   "cell_type": "markdown",
   "metadata": {},
   "source": [
    "## Количество отправленных сообщений по месяцам"
   ]
  },
  {
   "cell_type": "code",
   "execution_count": 78,
   "metadata": {},
   "outputs": [
    {
     "data": {
      "text/html": [
       "<div>\n",
       "<style scoped>\n",
       "    .dataframe tbody tr th:only-of-type {\n",
       "        vertical-align: middle;\n",
       "    }\n",
       "\n",
       "    .dataframe tbody tr th {\n",
       "        vertical-align: top;\n",
       "    }\n",
       "\n",
       "    .dataframe thead th {\n",
       "        text-align: right;\n",
       "    }\n",
       "</style>\n",
       "<table border=\"1\" class=\"dataframe\">\n",
       "  <thead>\n",
       "    <tr style=\"text-align: right;\">\n",
       "      <th></th>\n",
       "      <th></th>\n",
       "      <th>messages_amount</th>\n",
       "    </tr>\n",
       "    <tr>\n",
       "      <th>user_id</th>\n",
       "      <th>month</th>\n",
       "      <th></th>\n",
       "    </tr>\n",
       "  </thead>\n",
       "  <tbody>\n",
       "    <tr>\n",
       "      <td rowspan=\"5\" valign=\"top\">1000</td>\n",
       "      <td>5</td>\n",
       "      <td>22</td>\n",
       "    </tr>\n",
       "    <tr>\n",
       "      <td>6</td>\n",
       "      <td>60</td>\n",
       "    </tr>\n",
       "    <tr>\n",
       "      <td>7</td>\n",
       "      <td>75</td>\n",
       "    </tr>\n",
       "    <tr>\n",
       "      <td>8</td>\n",
       "      <td>81</td>\n",
       "    </tr>\n",
       "    <tr>\n",
       "      <td>9</td>\n",
       "      <td>57</td>\n",
       "    </tr>\n",
       "  </tbody>\n",
       "</table>\n",
       "</div>"
      ],
      "text/plain": [
       "               messages_amount\n",
       "user_id month                 \n",
       "1000    5                   22\n",
       "        6                   60\n",
       "        7                   75\n",
       "        8                   81\n",
       "        9                   57"
      ]
     },
     "execution_count": 78,
     "metadata": {},
     "output_type": "execute_result"
    }
   ],
   "source": [
    "# Добавляем столбец с месяцем отправки сообщения   \n",
    "messages['month'] = messages['message_date'].dt.month\n",
    "\n",
    "# Делаем сводную таблицу, группируем данные по столбцу user_id, month и сравнивыаем со значениями в столбце id,\n",
    "# считаем количество сообщений в месяц\n",
    "messages_group = messages.pivot_table(index=['user_id', 'month'], values='id', aggfunc='count')\n",
    "\n",
    "messages_group.reset_index()\n",
    "\n",
    "# Переименовываем столбец\n",
    "messages_group.columns=['messages_amount']\n",
    "\n",
    "messages_group.head()"
   ]
  },
  {
   "cell_type": "markdown",
   "metadata": {},
   "source": [
    "## Объем израсходованного интернет-трафика по месяцам"
   ]
  },
  {
   "cell_type": "code",
   "execution_count": 79,
   "metadata": {},
   "outputs": [
    {
     "data": {
      "text/html": [
       "<div>\n",
       "<style scoped>\n",
       "    .dataframe tbody tr th:only-of-type {\n",
       "        vertical-align: middle;\n",
       "    }\n",
       "\n",
       "    .dataframe tbody tr th {\n",
       "        vertical-align: top;\n",
       "    }\n",
       "\n",
       "    .dataframe thead th {\n",
       "        text-align: right;\n",
       "    }\n",
       "</style>\n",
       "<table border=\"1\" class=\"dataframe\">\n",
       "  <thead>\n",
       "    <tr style=\"text-align: right;\">\n",
       "      <th></th>\n",
       "      <th></th>\n",
       "      <th>gb_used</th>\n",
       "    </tr>\n",
       "    <tr>\n",
       "      <th>user_id</th>\n",
       "      <th>month</th>\n",
       "      <th></th>\n",
       "    </tr>\n",
       "  </thead>\n",
       "  <tbody>\n",
       "    <tr>\n",
       "      <td rowspan=\"5\" valign=\"top\">1000</td>\n",
       "      <td>5</td>\n",
       "      <td>3</td>\n",
       "    </tr>\n",
       "    <tr>\n",
       "      <td>6</td>\n",
       "      <td>23</td>\n",
       "    </tr>\n",
       "    <tr>\n",
       "      <td>7</td>\n",
       "      <td>14</td>\n",
       "    </tr>\n",
       "    <tr>\n",
       "      <td>8</td>\n",
       "      <td>14</td>\n",
       "    </tr>\n",
       "    <tr>\n",
       "      <td>9</td>\n",
       "      <td>15</td>\n",
       "    </tr>\n",
       "  </tbody>\n",
       "</table>\n",
       "</div>"
      ],
      "text/plain": [
       "               gb_used\n",
       "user_id month         \n",
       "1000    5            3\n",
       "        6           23\n",
       "        7           14\n",
       "        8           14\n",
       "        9           15"
      ]
     },
     "execution_count": 79,
     "metadata": {},
     "output_type": "execute_result"
    }
   ],
   "source": [
    "# Добавляем столбец с месяцем интернет-сессии.   \n",
    "internet['month'] = internet['session_date'].dt.month\n",
    "\n",
    "# Добавляем столбец gb_used, в котором хранится количество потраченных гигобайт\n",
    "internet['gb_used'] = internet['mb_used'] / 1024\n",
    "\n",
    "# Группируем данные по столбцу user_id, month и сравнивыаем со значениями в столбце gb_used.\n",
    "internet_group = internet.pivot_table(index=['user_id', 'month'], values='gb_used', aggfunc=['sum'])\n",
    "\n",
    "internet_group.reset_index()\n",
    "\n",
    "# переименовываем столлбец\n",
    "internet_group.columns = ['gb_used']\n",
    "\n",
    "# Округляем значения столбца gb_used в большую сторону и приводим к целочисленному значению.\n",
    "internet_group['gb_used'] = internet_group['gb_used'].apply(np.ceil).astype('int')\n",
    "\n",
    "internet_group.head()"
   ]
  },
  {
   "cell_type": "markdown",
   "metadata": {},
   "source": [
    "## Помесячная выручка с каждого пользователя "
   ]
  },
  {
   "cell_type": "code",
   "execution_count": 80,
   "metadata": {},
   "outputs": [
    {
     "data": {
      "text/html": [
       "<div>\n",
       "<style scoped>\n",
       "    .dataframe tbody tr th:only-of-type {\n",
       "        vertical-align: middle;\n",
       "    }\n",
       "\n",
       "    .dataframe tbody tr th {\n",
       "        vertical-align: top;\n",
       "    }\n",
       "\n",
       "    .dataframe thead th {\n",
       "        text-align: right;\n",
       "    }\n",
       "</style>\n",
       "<table border=\"1\" class=\"dataframe\">\n",
       "  <thead>\n",
       "    <tr style=\"text-align: right;\">\n",
       "      <th></th>\n",
       "      <th>user_id</th>\n",
       "      <th>month</th>\n",
       "      <th>calls_amount</th>\n",
       "      <th>calls_duration</th>\n",
       "      <th>gb_used</th>\n",
       "      <th>messages_amount</th>\n",
       "    </tr>\n",
       "  </thead>\n",
       "  <tbody>\n",
       "    <tr>\n",
       "      <td>0</td>\n",
       "      <td>1000</td>\n",
       "      <td>5</td>\n",
       "      <td>22.00</td>\n",
       "      <td>159.00</td>\n",
       "      <td>3.00</td>\n",
       "      <td>22.00</td>\n",
       "    </tr>\n",
       "    <tr>\n",
       "      <td>1</td>\n",
       "      <td>1000</td>\n",
       "      <td>6</td>\n",
       "      <td>43.00</td>\n",
       "      <td>172.00</td>\n",
       "      <td>23.00</td>\n",
       "      <td>60.00</td>\n",
       "    </tr>\n",
       "    <tr>\n",
       "      <td>2</td>\n",
       "      <td>1000</td>\n",
       "      <td>7</td>\n",
       "      <td>47.00</td>\n",
       "      <td>340.00</td>\n",
       "      <td>14.00</td>\n",
       "      <td>75.00</td>\n",
       "    </tr>\n",
       "    <tr>\n",
       "      <td>3</td>\n",
       "      <td>1000</td>\n",
       "      <td>8</td>\n",
       "      <td>52.00</td>\n",
       "      <td>408.00</td>\n",
       "      <td>14.00</td>\n",
       "      <td>81.00</td>\n",
       "    </tr>\n",
       "    <tr>\n",
       "      <td>4</td>\n",
       "      <td>1000</td>\n",
       "      <td>9</td>\n",
       "      <td>58.00</td>\n",
       "      <td>466.00</td>\n",
       "      <td>15.00</td>\n",
       "      <td>57.00</td>\n",
       "    </tr>\n",
       "  </tbody>\n",
       "</table>\n",
       "</div>"
      ],
      "text/plain": [
       "   user_id  month  calls_amount  calls_duration  gb_used  messages_amount\n",
       "0     1000      5         22.00          159.00     3.00            22.00\n",
       "1     1000      6         43.00          172.00    23.00            60.00\n",
       "2     1000      7         47.00          340.00    14.00            75.00\n",
       "3     1000      8         52.00          408.00    14.00            81.00\n",
       "4     1000      9         58.00          466.00    15.00            57.00"
      ]
     },
     "execution_count": 80,
     "metadata": {},
     "output_type": "execute_result"
    }
   ],
   "source": [
    "# Объединяем таблицу calls_group и messages_group по столбцам user_id, month\n",
    "calls_messages = calls_group.merge(messages_group, on=['user_id', 'month'], how='outer', suffixes=['_calls', '_message'])\n",
    "\n",
    "# Объединяем таблицу calls_group и internet_group по столбцам user_id, month\n",
    "calls_internet = calls_group.merge(internet_group, on=['user_id', 'month'], how='outer')\n",
    "\n",
    "# Объединяем таблицу calls_internet и messages_group по столбцам user_id, month\n",
    "all_traffic = calls_internet.merge(messages_group, on=['user_id', 'month'], how='outer')\n",
    "\n",
    "# Делаем сводную таблицу, группируем данные по столбцам user_id, month.\n",
    "all_traffic_pvt = all_traffic.pivot_table(index=['user_id', 'month'])\n",
    "all_traffic_pvt = all_traffic_pvt.reset_index()\n",
    "\n",
    "all_traffic_pvt.head()\n"
   ]
  },
  {
   "cell_type": "code",
   "execution_count": 81,
   "metadata": {},
   "outputs": [
    {
     "data": {
      "text/html": [
       "<div>\n",
       "<style scoped>\n",
       "    .dataframe tbody tr th:only-of-type {\n",
       "        vertical-align: middle;\n",
       "    }\n",
       "\n",
       "    .dataframe tbody tr th {\n",
       "        vertical-align: top;\n",
       "    }\n",
       "\n",
       "    .dataframe thead th {\n",
       "        text-align: right;\n",
       "    }\n",
       "</style>\n",
       "<table border=\"1\" class=\"dataframe\">\n",
       "  <thead>\n",
       "    <tr style=\"text-align: right;\">\n",
       "      <th></th>\n",
       "      <th>user_id</th>\n",
       "      <th>first_name</th>\n",
       "      <th>last_name</th>\n",
       "      <th>age</th>\n",
       "      <th>city</th>\n",
       "      <th>tariff</th>\n",
       "      <th>reg_date</th>\n",
       "      <th>churn_date</th>\n",
       "      <th>month</th>\n",
       "      <th>calls_amount</th>\n",
       "      <th>calls_duration</th>\n",
       "      <th>gb_used</th>\n",
       "      <th>messages_amount</th>\n",
       "    </tr>\n",
       "  </thead>\n",
       "  <tbody>\n",
       "    <tr>\n",
       "      <td>0</td>\n",
       "      <td>1000</td>\n",
       "      <td>Рафаил</td>\n",
       "      <td>Верещагин</td>\n",
       "      <td>52</td>\n",
       "      <td>Краснодар</td>\n",
       "      <td>ultra</td>\n",
       "      <td>2018-05-25</td>\n",
       "      <td>2022-01-01</td>\n",
       "      <td>5.00</td>\n",
       "      <td>22.00</td>\n",
       "      <td>159.00</td>\n",
       "      <td>3.00</td>\n",
       "      <td>22.00</td>\n",
       "    </tr>\n",
       "    <tr>\n",
       "      <td>1</td>\n",
       "      <td>1000</td>\n",
       "      <td>Рафаил</td>\n",
       "      <td>Верещагин</td>\n",
       "      <td>52</td>\n",
       "      <td>Краснодар</td>\n",
       "      <td>ultra</td>\n",
       "      <td>2018-05-25</td>\n",
       "      <td>2022-01-01</td>\n",
       "      <td>6.00</td>\n",
       "      <td>43.00</td>\n",
       "      <td>172.00</td>\n",
       "      <td>23.00</td>\n",
       "      <td>60.00</td>\n",
       "    </tr>\n",
       "    <tr>\n",
       "      <td>2</td>\n",
       "      <td>1000</td>\n",
       "      <td>Рафаил</td>\n",
       "      <td>Верещагин</td>\n",
       "      <td>52</td>\n",
       "      <td>Краснодар</td>\n",
       "      <td>ultra</td>\n",
       "      <td>2018-05-25</td>\n",
       "      <td>2022-01-01</td>\n",
       "      <td>7.00</td>\n",
       "      <td>47.00</td>\n",
       "      <td>340.00</td>\n",
       "      <td>14.00</td>\n",
       "      <td>75.00</td>\n",
       "    </tr>\n",
       "    <tr>\n",
       "      <td>3</td>\n",
       "      <td>1000</td>\n",
       "      <td>Рафаил</td>\n",
       "      <td>Верещагин</td>\n",
       "      <td>52</td>\n",
       "      <td>Краснодар</td>\n",
       "      <td>ultra</td>\n",
       "      <td>2018-05-25</td>\n",
       "      <td>2022-01-01</td>\n",
       "      <td>8.00</td>\n",
       "      <td>52.00</td>\n",
       "      <td>408.00</td>\n",
       "      <td>14.00</td>\n",
       "      <td>81.00</td>\n",
       "    </tr>\n",
       "    <tr>\n",
       "      <td>4</td>\n",
       "      <td>1000</td>\n",
       "      <td>Рафаил</td>\n",
       "      <td>Верещагин</td>\n",
       "      <td>52</td>\n",
       "      <td>Краснодар</td>\n",
       "      <td>ultra</td>\n",
       "      <td>2018-05-25</td>\n",
       "      <td>2022-01-01</td>\n",
       "      <td>9.00</td>\n",
       "      <td>58.00</td>\n",
       "      <td>466.00</td>\n",
       "      <td>15.00</td>\n",
       "      <td>57.00</td>\n",
       "    </tr>\n",
       "  </tbody>\n",
       "</table>\n",
       "</div>"
      ],
      "text/plain": [
       "   user_id first_name  last_name  age       city tariff   reg_date churn_date  \\\n",
       "0     1000     Рафаил  Верещагин   52  Краснодар  ultra 2018-05-25 2022-01-01   \n",
       "1     1000     Рафаил  Верещагин   52  Краснодар  ultra 2018-05-25 2022-01-01   \n",
       "2     1000     Рафаил  Верещагин   52  Краснодар  ultra 2018-05-25 2022-01-01   \n",
       "3     1000     Рафаил  Верещагин   52  Краснодар  ultra 2018-05-25 2022-01-01   \n",
       "4     1000     Рафаил  Верещагин   52  Краснодар  ultra 2018-05-25 2022-01-01   \n",
       "\n",
       "   month  calls_amount  calls_duration  gb_used  messages_amount  \n",
       "0   5.00         22.00          159.00     3.00            22.00  \n",
       "1   6.00         43.00          172.00    23.00            60.00  \n",
       "2   7.00         47.00          340.00    14.00            75.00  \n",
       "3   8.00         52.00          408.00    14.00            81.00  \n",
       "4   9.00         58.00          466.00    15.00            57.00  "
      ]
     },
     "execution_count": 81,
     "metadata": {},
     "output_type": "execute_result"
    }
   ],
   "source": [
    "# Объединяем таблицу all_traffic_pvt и users, создаем сводную таблицу\n",
    "traffic_users = all_traffic_pvt.merge(users, on='user_id', how='outer').pivot_table(\n",
    "    index=['user_id', 'first_name', 'last_name', 'age', 'city', 'tariff', 'reg_date', 'churn_date', 'month'])\n",
    "\n",
    "traffic_users = traffic_users.reset_index()\n",
    "\n",
    "traffic_users.head()\n"
   ]
  },
  {
   "cell_type": "code",
   "execution_count": 96,
   "metadata": {
    "scrolled": false
   },
   "outputs": [
    {
     "data": {
      "text/html": [
       "<div>\n",
       "<style scoped>\n",
       "    .dataframe tbody tr th:only-of-type {\n",
       "        vertical-align: middle;\n",
       "    }\n",
       "\n",
       "    .dataframe tbody tr th {\n",
       "        vertical-align: top;\n",
       "    }\n",
       "\n",
       "    .dataframe thead th {\n",
       "        text-align: right;\n",
       "    }\n",
       "</style>\n",
       "<table border=\"1\" class=\"dataframe\">\n",
       "  <thead>\n",
       "    <tr style=\"text-align: right;\">\n",
       "      <th></th>\n",
       "      <th></th>\n",
       "      <th></th>\n",
       "      <th></th>\n",
       "      <th>age</th>\n",
       "      <th>calls_amount</th>\n",
       "      <th>calls_duration</th>\n",
       "      <th>gb_used</th>\n",
       "      <th>messages_amount</th>\n",
       "      <th>money</th>\n",
       "    </tr>\n",
       "    <tr>\n",
       "      <th>user_id</th>\n",
       "      <th>city</th>\n",
       "      <th>tariff</th>\n",
       "      <th>month</th>\n",
       "      <th></th>\n",
       "      <th></th>\n",
       "      <th></th>\n",
       "      <th></th>\n",
       "      <th></th>\n",
       "      <th></th>\n",
       "    </tr>\n",
       "  </thead>\n",
       "  <tbody>\n",
       "    <tr>\n",
       "      <td rowspan=\"5\" valign=\"top\">1000</td>\n",
       "      <td rowspan=\"5\" valign=\"top\">Краснодар</td>\n",
       "      <td rowspan=\"5\" valign=\"top\">ultra</td>\n",
       "      <td>5.00</td>\n",
       "      <td>52</td>\n",
       "      <td>22.00</td>\n",
       "      <td>159.00</td>\n",
       "      <td>3.00</td>\n",
       "      <td>22.00</td>\n",
       "      <td>1,950.00</td>\n",
       "    </tr>\n",
       "    <tr>\n",
       "      <td>6.00</td>\n",
       "      <td>52</td>\n",
       "      <td>43.00</td>\n",
       "      <td>172.00</td>\n",
       "      <td>23.00</td>\n",
       "      <td>60.00</td>\n",
       "      <td>1,950.00</td>\n",
       "    </tr>\n",
       "    <tr>\n",
       "      <td>7.00</td>\n",
       "      <td>52</td>\n",
       "      <td>47.00</td>\n",
       "      <td>340.00</td>\n",
       "      <td>14.00</td>\n",
       "      <td>75.00</td>\n",
       "      <td>1,950.00</td>\n",
       "    </tr>\n",
       "    <tr>\n",
       "      <td>8.00</td>\n",
       "      <td>52</td>\n",
       "      <td>52.00</td>\n",
       "      <td>408.00</td>\n",
       "      <td>14.00</td>\n",
       "      <td>81.00</td>\n",
       "      <td>1,950.00</td>\n",
       "    </tr>\n",
       "    <tr>\n",
       "      <td>9.00</td>\n",
       "      <td>52</td>\n",
       "      <td>58.00</td>\n",
       "      <td>466.00</td>\n",
       "      <td>15.00</td>\n",
       "      <td>57.00</td>\n",
       "      <td>1,950.00</td>\n",
       "    </tr>\n",
       "  </tbody>\n",
       "</table>\n",
       "</div>"
      ],
      "text/plain": [
       "                                age  calls_amount  calls_duration  gb_used  \\\n",
       "user_id city      tariff month                                               \n",
       "1000    Краснодар ultra  5.00    52         22.00          159.00     3.00   \n",
       "                         6.00    52         43.00          172.00    23.00   \n",
       "                         7.00    52         47.00          340.00    14.00   \n",
       "                         8.00    52         52.00          408.00    14.00   \n",
       "                         9.00    52         58.00          466.00    15.00   \n",
       "\n",
       "                                messages_amount    money  \n",
       "user_id city      tariff month                            \n",
       "1000    Краснодар ultra  5.00             22.00 1,950.00  \n",
       "                         6.00             60.00 1,950.00  \n",
       "                         7.00             75.00 1,950.00  \n",
       "                         8.00             81.00 1,950.00  \n",
       "                         9.00             57.00 1,950.00  "
      ]
     },
     "execution_count": 96,
     "metadata": {},
     "output_type": "execute_result"
    }
   ],
   "source": [
    "# Создадим столбец gb_per_month_included с количеством включенных в тариф гигабайт. \n",
    "tariffs['gb_per_month_included'] = tariffs['mb_per_month_included'] / 1024\n",
    "\n",
    "# создаем функцию для подсчета помесячной выручки с каждого пользователя\n",
    "def monthly_revenue(row):\n",
    "    if row['tariff'] == 'smart':\n",
    "        if row['messages_amount'] > tariffs.loc[0, 'messages_included']:\n",
    "            messages_extra = (row['messages_amount'] - tariffs.loc[0, 'messages_included']) * tariffs.loc[0, 'rub_per_message']\n",
    "        else:\n",
    "            messages_extra = 0\n",
    "        if row['calls_amount'] > tariffs.loc[0, 'minutes_included']:\n",
    "            calls_extra = (row['calls_amount'] - tariffs.loc[0, 'minutes_included']) * tariffs.loc[0, 'rub_per_minute']\n",
    "        else:\n",
    "            calls_extra = 0\n",
    "        if row['gb_used'] > tariffs.loc[0, 'gb_per_month_included']:\n",
    "            gb_extra = (row['gb_used'] - tariffs.loc[0, 'gb_per_month_included']) * tariffs.loc[0, 'rub_per_gb']\n",
    "        else:\n",
    "            gb_extra = 0\n",
    "        money = messages_extra + calls_extra + gb_extra + 550\n",
    "    if row['tariff'] == 'ultra':\n",
    "        if row['messages_amount'] > tariffs.loc[1, 'messages_included']:\n",
    "            messages_extra = (row['messages_amount'] - tariffs.loc[1, 'messages_included']) * tariffs.loc[1, 'rub_per_message']\n",
    "        else:\n",
    "            messages_extra = 0\n",
    "        if row['calls_amount'] > tariffs.loc[1, 'minutes_included']:\n",
    "            calls_extra = (row['calls_amount'] - tariffs.loc[1, 'minutes_included']) * tariffs.loc[1, 'rub_per_minute']\n",
    "        else:\n",
    "            calls_extra = 0\n",
    "        if row['gb_used'] > tariffs.loc[1, 'gb_per_month_included']:\n",
    "            gb_extra = (row['gb_used'] - tariffs.loc[1, 'gb_per_month_included']) * tariffs.loc[1, 'rub_per_gb']\n",
    "        else:\n",
    "            gb_extra = 0\n",
    "        money = messages_extra + calls_extra + gb_extra + 1950\n",
    "    return money\n",
    "\n",
    "# Создаем столбец money, в котором содержатся сведения о помесячной выручке и применяем функцию monthly_revenue.\n",
    "traffic_users['money'] = traffic_users.apply(monthly_revenue, axis=1)\n",
    "\n",
    "# Выводим сводную таблицу\n",
    "traffic_users.pivot_table(index=['user_id', 'city', 'tariff','month']).head()\n"
   ]
  },
  {
   "cell_type": "markdown",
   "metadata": {},
   "source": [
    "## Поведение клиентов оператора "
   ]
  },
  {
   "cell_type": "code",
   "execution_count": 105,
   "metadata": {
    "scrolled": false
   },
   "outputs": [
    {
     "data": {
      "text/html": [
       "<div>\n",
       "<style scoped>\n",
       "    .dataframe tbody tr th:only-of-type {\n",
       "        vertical-align: middle;\n",
       "    }\n",
       "\n",
       "    .dataframe tbody tr th {\n",
       "        vertical-align: top;\n",
       "    }\n",
       "\n",
       "    .dataframe thead th {\n",
       "        text-align: right;\n",
       "    }\n",
       "</style>\n",
       "<table border=\"1\" class=\"dataframe\">\n",
       "  <thead>\n",
       "    <tr style=\"text-align: right;\">\n",
       "      <th></th>\n",
       "      <th>0</th>\n",
       "    </tr>\n",
       "  </thead>\n",
       "  <tbody>\n",
       "    <tr>\n",
       "      <td>user_id</td>\n",
       "      <td>0</td>\n",
       "    </tr>\n",
       "    <tr>\n",
       "      <td>first_name</td>\n",
       "      <td>0</td>\n",
       "    </tr>\n",
       "    <tr>\n",
       "      <td>last_name</td>\n",
       "      <td>0</td>\n",
       "    </tr>\n",
       "    <tr>\n",
       "      <td>age</td>\n",
       "      <td>0</td>\n",
       "    </tr>\n",
       "    <tr>\n",
       "      <td>city</td>\n",
       "      <td>0</td>\n",
       "    </tr>\n",
       "    <tr>\n",
       "      <td>tariff</td>\n",
       "      <td>0</td>\n",
       "    </tr>\n",
       "    <tr>\n",
       "      <td>reg_date</td>\n",
       "      <td>0</td>\n",
       "    </tr>\n",
       "    <tr>\n",
       "      <td>churn_date</td>\n",
       "      <td>0</td>\n",
       "    </tr>\n",
       "    <tr>\n",
       "      <td>month</td>\n",
       "      <td>0</td>\n",
       "    </tr>\n",
       "    <tr>\n",
       "      <td>calls_amount</td>\n",
       "      <td>40</td>\n",
       "    </tr>\n",
       "    <tr>\n",
       "      <td>calls_duration</td>\n",
       "      <td>40</td>\n",
       "    </tr>\n",
       "    <tr>\n",
       "      <td>gb_used</td>\n",
       "      <td>11</td>\n",
       "    </tr>\n",
       "    <tr>\n",
       "      <td>messages_amount</td>\n",
       "      <td>497</td>\n",
       "    </tr>\n",
       "    <tr>\n",
       "      <td>money</td>\n",
       "      <td>0</td>\n",
       "    </tr>\n",
       "    <tr>\n",
       "      <td>region</td>\n",
       "      <td>0</td>\n",
       "    </tr>\n",
       "  </tbody>\n",
       "</table>\n",
       "</div>"
      ],
      "text/plain": [
       "                   0\n",
       "user_id            0\n",
       "first_name         0\n",
       "last_name          0\n",
       "age                0\n",
       "city               0\n",
       "tariff             0\n",
       "reg_date           0\n",
       "churn_date         0\n",
       "month              0\n",
       "calls_amount      40\n",
       "calls_duration    40\n",
       "gb_used           11\n",
       "messages_amount  497\n",
       "money              0\n",
       "region             0"
      ]
     },
     "metadata": {},
     "output_type": "display_data"
    },
    {
     "data": {
      "text/html": [
       "<div>\n",
       "<style scoped>\n",
       "    .dataframe tbody tr th:only-of-type {\n",
       "        vertical-align: middle;\n",
       "    }\n",
       "\n",
       "    .dataframe tbody tr th {\n",
       "        vertical-align: top;\n",
       "    }\n",
       "\n",
       "    .dataframe thead th {\n",
       "        text-align: right;\n",
       "    }\n",
       "</style>\n",
       "<table border=\"1\" class=\"dataframe\">\n",
       "  <thead>\n",
       "    <tr style=\"text-align: right;\">\n",
       "      <th></th>\n",
       "      <th>0</th>\n",
       "    </tr>\n",
       "  </thead>\n",
       "  <tbody>\n",
       "    <tr>\n",
       "      <td>user_id</td>\n",
       "      <td>0.00</td>\n",
       "    </tr>\n",
       "    <tr>\n",
       "      <td>first_name</td>\n",
       "      <td>0.00</td>\n",
       "    </tr>\n",
       "    <tr>\n",
       "      <td>last_name</td>\n",
       "      <td>0.00</td>\n",
       "    </tr>\n",
       "    <tr>\n",
       "      <td>age</td>\n",
       "      <td>0.00</td>\n",
       "    </tr>\n",
       "    <tr>\n",
       "      <td>city</td>\n",
       "      <td>0.00</td>\n",
       "    </tr>\n",
       "    <tr>\n",
       "      <td>tariff</td>\n",
       "      <td>0.00</td>\n",
       "    </tr>\n",
       "    <tr>\n",
       "      <td>reg_date</td>\n",
       "      <td>0.00</td>\n",
       "    </tr>\n",
       "    <tr>\n",
       "      <td>churn_date</td>\n",
       "      <td>0.00</td>\n",
       "    </tr>\n",
       "    <tr>\n",
       "      <td>month</td>\n",
       "      <td>0.00</td>\n",
       "    </tr>\n",
       "    <tr>\n",
       "      <td>calls_amount</td>\n",
       "      <td>0.01</td>\n",
       "    </tr>\n",
       "    <tr>\n",
       "      <td>calls_duration</td>\n",
       "      <td>0.01</td>\n",
       "    </tr>\n",
       "    <tr>\n",
       "      <td>gb_used</td>\n",
       "      <td>0.00</td>\n",
       "    </tr>\n",
       "    <tr>\n",
       "      <td>messages_amount</td>\n",
       "      <td>0.15</td>\n",
       "    </tr>\n",
       "    <tr>\n",
       "      <td>money</td>\n",
       "      <td>0.00</td>\n",
       "    </tr>\n",
       "    <tr>\n",
       "      <td>region</td>\n",
       "      <td>0.00</td>\n",
       "    </tr>\n",
       "  </tbody>\n",
       "</table>\n",
       "</div>"
      ],
      "text/plain": [
       "                   0\n",
       "user_id         0.00\n",
       "first_name      0.00\n",
       "last_name       0.00\n",
       "age             0.00\n",
       "city            0.00\n",
       "tariff          0.00\n",
       "reg_date        0.00\n",
       "churn_date      0.00\n",
       "month           0.00\n",
       "calls_amount    0.01\n",
       "calls_duration  0.01\n",
       "gb_used         0.00\n",
       "messages_amount 0.15\n",
       "money           0.00\n",
       "region          0.00"
      ]
     },
     "metadata": {},
     "output_type": "display_data"
    },
    {
     "data": {
      "text/html": [
       "<div>\n",
       "<style scoped>\n",
       "    .dataframe tbody tr th:only-of-type {\n",
       "        vertical-align: middle;\n",
       "    }\n",
       "\n",
       "    .dataframe tbody tr th {\n",
       "        vertical-align: top;\n",
       "    }\n",
       "\n",
       "    .dataframe thead tr th {\n",
       "        text-align: left;\n",
       "    }\n",
       "\n",
       "    .dataframe thead tr:last-of-type th {\n",
       "        text-align: right;\n",
       "    }\n",
       "</style>\n",
       "<table border=\"1\" class=\"dataframe\">\n",
       "  <thead>\n",
       "    <tr>\n",
       "      <th></th>\n",
       "      <th colspan=\"3\" halign=\"left\">calls_duration</th>\n",
       "      <th colspan=\"3\" halign=\"left\">gb_used</th>\n",
       "      <th colspan=\"3\" halign=\"left\">messages_amount</th>\n",
       "    </tr>\n",
       "    <tr>\n",
       "      <th></th>\n",
       "      <th>mean</th>\n",
       "      <th>std</th>\n",
       "      <th>var</th>\n",
       "      <th>mean</th>\n",
       "      <th>std</th>\n",
       "      <th>var</th>\n",
       "      <th>mean</th>\n",
       "      <th>std</th>\n",
       "      <th>var</th>\n",
       "    </tr>\n",
       "    <tr>\n",
       "      <th>tariff</th>\n",
       "      <th></th>\n",
       "      <th></th>\n",
       "      <th></th>\n",
       "      <th></th>\n",
       "      <th></th>\n",
       "      <th></th>\n",
       "      <th></th>\n",
       "      <th></th>\n",
       "      <th></th>\n",
       "    </tr>\n",
       "  </thead>\n",
       "  <tbody>\n",
       "    <tr>\n",
       "      <td>smart</td>\n",
       "      <td>419.06</td>\n",
       "      <td>189.33</td>\n",
       "      <td>35,844.19</td>\n",
       "      <td>16.37</td>\n",
       "      <td>5.75</td>\n",
       "      <td>33.05</td>\n",
       "      <td>38.72</td>\n",
       "      <td>26.79</td>\n",
       "      <td>717.59</td>\n",
       "    </tr>\n",
       "    <tr>\n",
       "      <td>ultra</td>\n",
       "      <td>545.45</td>\n",
       "      <td>306.93</td>\n",
       "      <td>94,203.42</td>\n",
       "      <td>19.73</td>\n",
       "      <td>9.71</td>\n",
       "      <td>94.38</td>\n",
       "      <td>61.16</td>\n",
       "      <td>45.93</td>\n",
       "      <td>2,109.66</td>\n",
       "    </tr>\n",
       "  </tbody>\n",
       "</table>\n",
       "</div>"
      ],
      "text/plain": [
       "       calls_duration                  gb_used            messages_amount  \\\n",
       "                 mean    std       var    mean  std   var            mean   \n",
       "tariff                                                                      \n",
       "smart          419.06 189.33 35,844.19   16.37 5.75 33.05           38.72   \n",
       "ultra          545.45 306.93 94,203.42   19.73 9.71 94.38           61.16   \n",
       "\n",
       "                       \n",
       "         std      var  \n",
       "tariff                 \n",
       "smart  26.79   717.59  \n",
       "ultra  45.93 2,109.66  "
      ]
     },
     "execution_count": 105,
     "metadata": {},
     "output_type": "execute_result"
    }
   ],
   "source": [
    "# Создаем сводную таблицу, горуппируем по столбцу tariff,\n",
    "# сравниваем со значениями столбцов calls_duration', 'messages_amount', 'gb_used',\n",
    "# считаем среднее, дисперсию и стандартное отклонение\n",
    "traffic_users.pivot_table(index=['tariff'], values=['calls_duration', 'messages_amount', 'gb_used'], \n",
    "                         aggfunc={'calls_duration': ['mean', 'var', 'std'], \n",
    "                                  'messages_amount': ['mean', 'var', 'std'], \n",
    "                                  'gb_used': ['mean', 'var', 'std']})  \n"
   ]
  },
  {
   "cell_type": "code",
   "execution_count": 98,
   "metadata": {},
   "outputs": [
    {
     "data": {
      "image/png": "[encoded data removed]",
      "text/plain": [
       "<Figure size 360x360 with 1 Axes>"
      ]
     },
     "metadata": {
      "needs_background": "light"
     },
     "output_type": "display_data"
    },
    {
     "data": {
      "image/png": "[encoded data removed]",
      "text/plain": [
       "<Figure size 360x360 with 1 Axes>"
      ]
     },
     "metadata": {
      "needs_background": "light"
     },
     "output_type": "display_data"
    },
    {
     "data": {
      "image/png": "[encoded data removed]",
      "text/plain": [
       "<Figure size 360x360 with 1 Axes>"
      ]
     },
     "metadata": {
      "needs_background": "light"
     },
     "output_type": "display_data"
    }
   ],
   "source": [
    "# Строим диаграммы размаха, нанесем точечную диаграмму рассеивания на блочную.   \n",
    "for column in ['calls_duration', 'messages_amount', 'gb_used']:    \n",
    "    sns.catplot(x='tariff', y=column, kind='box', data=traffic_users)\n",
    "    sns.stripplot(x='tariff', y=column, data=traffic_users,  alpha=0.3, color='orange')"
   ]
  },
  {
   "cell_type": "code",
   "execution_count": 99,
   "metadata": {
    "scrolled": true
   },
   "outputs": [
    {
     "data": {
      "image/png": "[encoded data removed]",
      "text/plain": [
       "<Figure size 432x288 with 1 Axes>"
      ]
     },
     "metadata": {
      "needs_background": "light"
     },
     "output_type": "display_data"
    }
   ],
   "source": [
    "# Строим диаграмму продолжительности звонков в месяц на тарифах \"Смарт\" и \"Ультра\"\n",
    "for tariff in ['ultra', 'smart']:\n",
    "    sns.distplot(traffic_users.query('tariff == @tariff')['calls_duration'], bins=50)\n",
    "    plt.title('Продолжительность звонков в месяц на тарифах \"Смарт\" и \"Ультра\"')\n",
    "    plt.xlabel('Продолжительность звонков')\n",
    "    plt.ylabel('Количество абонентов')\n",
    "    plt.legend(['ultra', 'smart'])\n",
    "    "
   ]
  },
  {
   "cell_type": "code",
   "execution_count": 113,
   "metadata": {
    "scrolled": false
   },
   "outputs": [
    {
     "data": {
      "image/png": "[encoded data removed]",
      "text/plain": [
       "<Figure size 432x288 with 1 Axes>"
      ]
     },
     "metadata": {
      "needs_background": "light"
     },
     "output_type": "display_data"
    }
   ],
   "source": [
    "# Строим диаграмму количества израсходованных сообщений в месяц на тарифах \"Смарт\" и \"Ультра\"\n",
    "for tariff in ['ultra', 'smart']:\n",
    "    sns.distplot(traffic_users.query('tariff == @tariff')['messages_amount'], bins=50, label=tariff)\n",
    "    plt.title('Количество израсходованных сообщений в месяц на тарифах \"Смарт\" и \"Ультра\"')\n",
    "    plt.xlabel('Количество израсходованных сообщений ')\n",
    "    plt.ylabel('Количество абонентов')\n",
    "    plt.legend(['ultra', 'smart'])"
   ]
  },
  {
   "cell_type": "code",
   "execution_count": 115,
   "metadata": {
    "scrolled": true
   },
   "outputs": [
    {
     "data": {
      "image/png": "[encoded data removed]",
      "text/plain": [
       "<Figure size 432x288 with 1 Axes>"
      ]
     },
     "metadata": {
      "needs_background": "light"
     },
     "output_type": "display_data"
    }
   ],
   "source": [
    "# Строим диаграмму количества израсходованного интернет-трафика в месяц на тарифах \"Смарт\" и \"Ультра\"\n",
    "for tariff in ['ultra', 'smart']:\n",
    "    sns.distplot(traffic_users.query('tariff == @tariff')['gb_used'], bins=30, label=tariff)\n",
    "    plt.title('Количество израсходованного интернет-трафика в месяц на тарифах \"Смарт\" и \"Ультра\"')\n",
    "    plt.xlabel('Количество израсходованного интернет-трафика')\n",
    "    plt.ylabel('Количество абонентов')\n",
    "    plt.legend(['ultra', 'smart'])"
   ]
  },
  {
   "cell_type": "markdown",
   "metadata": {},
   "source": [
    "Количество использованных минут, сообщений и интернет-трафика по тарифу \"Смарт\" имеют меньшее среднее и дисперсию по сравнению с тарифом \"Ультра\", а количество выбросов в рамках тарифа \"Смарт\"существенно больше. К томуже, пользователи тарифа \"Смарт\" часто выходят за пределы предоставленного трафика(минуты, СМС и интернет), в то время как пользователи тарифа \"Ультра\" практически не выходят за пределы предоставленного трафика. "
   ]
  },
  {
   "cell_type": "markdown",
   "metadata": {},
   "source": [
    "## Проверка гипотез"
   ]
  },
  {
   "cell_type": "markdown",
   "metadata": {},
   "source": [
    "### Cредняя выручка пользователей тарифов \"Ультра\" и \"Смарт\" различаются"
   ]
  },
  {
   "cell_type": "markdown",
   "metadata": {},
   "source": [
    "- H0 — средняя выручка пользователей тарифа \"Ультра\" равна средней выручке пользователей тарифа «Смарт».\n",
    "- H1  — средняя выручка пользователей тарифов \"Ультра\" и «Смарт» различаются.\n",
    "- alpha 1%"
   ]
  },
  {
   "cell_type": "code",
   "execution_count": 101,
   "metadata": {},
   "outputs": [
    {
     "name": "stdout",
     "output_type": "stream",
     "text": [
      "p-значение: 0.0\n",
      "Отвергаем нулевую гипотезу\n"
     ]
    }
   ],
   "source": [
    "# Устанавливаем критический уровень статистической значимости в 1 %\n",
    "alpha = .01\n",
    "\n",
    "# Применяем тест ttest_ind для проверки гипотезы о равенстве средних двух генеральных совокупностей\n",
    "results = st.ttest_ind(\n",
    "    traffic_users.query('tariff == \"ultra\"')['money'], \n",
    "    traffic_users.query('tariff == \"smart\"')['money'], \n",
    "    equal_var=False)\n",
    "\n",
    "print('p-значение:', results.pvalue)\n",
    "\n",
    "if (results.pvalue < alpha):\n",
    "    print(\"Отвергаем нулевую гипотезу\")\n",
    "else:\n",
    "    print(\"Не получилось отвергнуть нулевую гипотезу\")"
   ]
  },
  {
   "cell_type": "code",
   "execution_count": 102,
   "metadata": {},
   "outputs": [
    {
     "data": {
      "text/html": [
       "<div>\n",
       "<style scoped>\n",
       "    .dataframe tbody tr th:only-of-type {\n",
       "        vertical-align: middle;\n",
       "    }\n",
       "\n",
       "    .dataframe tbody tr th {\n",
       "        vertical-align: top;\n",
       "    }\n",
       "\n",
       "    .dataframe thead th {\n",
       "        text-align: right;\n",
       "    }\n",
       "</style>\n",
       "<table border=\"1\" class=\"dataframe\">\n",
       "  <thead>\n",
       "    <tr style=\"text-align: right;\">\n",
       "      <th></th>\n",
       "      <th>money</th>\n",
       "    </tr>\n",
       "    <tr>\n",
       "      <th>tariff</th>\n",
       "      <th></th>\n",
       "    </tr>\n",
       "  </thead>\n",
       "  <tbody>\n",
       "    <tr>\n",
       "      <td>smart</td>\n",
       "      <td>1,169.82</td>\n",
       "    </tr>\n",
       "    <tr>\n",
       "      <td>ultra</td>\n",
       "      <td>2,071.07</td>\n",
       "    </tr>\n",
       "  </tbody>\n",
       "</table>\n",
       "</div>"
      ],
      "text/plain": [
       "          money\n",
       "tariff         \n",
       "smart  1,169.82\n",
       "ultra  2,071.07"
      ]
     },
     "execution_count": 102,
     "metadata": {},
     "output_type": "execute_result"
    }
   ],
   "source": [
    "# создаем сводную таблицу, группируем данные по столбцу tariff,\n",
    "# сравниваем со значениями столбца money и считаем средний доход для тарифов \"Смарт\" и \"Ультра\"\n",
    "traffic_users.pivot_table(index='tariff', values='money', aggfunc='mean')"
   ]
  },
  {
   "cell_type": "markdown",
   "metadata": {},
   "source": [
    "Средняя выручка компании \"Мегалайн\" от пользователей тарифа \"Ультра\" действительно отличается от средней выручки компании от пользователейц тарифа \"Смарт\". Средняя выручка пользователей тарифа \"Ультра\" больше почти в 2 раза средней выручки пользователей тарифа \"Смарт\", при этом большинство пользователей тарифа \"Смарт\" с абонентской платой в 550 рублей выйдет за пределы тарифа и по итогам месяца заплатит гораздо больше из-за нехватки включенного трафика в тариф.\n"
   ]
  },
  {
   "cell_type": "markdown",
   "metadata": {},
   "source": [
    "### Cредняя выручка пользователей из Москвы отличается от выручки пользователей из других регионов."
   ]
  },
  {
   "cell_type": "markdown",
   "metadata": {},
   "source": [
    "- H0 — средняя выручка пользователей из Москвы равна средней выручке пользователей из других регионов.\n",
    "- H1 — средняя выручка пользователей из Москвы отличается от средней выручке пользователей из других регионов.\n",
    "- alpha 1 %"
   ]
  },
  {
   "cell_type": "code",
   "execution_count": 103,
   "metadata": {},
   "outputs": [
    {
     "name": "stdout",
     "output_type": "stream",
     "text": [
      "p-значение: 0.27548907475657886\n",
      "Не получилось отвергнуть нулевую гипотезу\n"
     ]
    }
   ],
   "source": [
    "# Устанавливаем критический уровень статистической значимости в 1 %\n",
    "alpha = .01\n",
    "\n",
    "# Применяем тест ttest_ind для проверки гипотезы о равенстве средних двух генеральных совокупностей\n",
    "results = st.ttest_ind(\n",
    "    traffic_users.query('city == \"Москва\"')['money'], \n",
    "    traffic_users.query('city != \"Москва\"')['money'], \n",
    "    equal_var=False)\n",
    "\n",
    "print('p-значение:', results.pvalue)\n",
    "\n",
    "if (results.pvalue < alpha):\n",
    "    print(\"Отвергаем нулевую гипотезу\")\n",
    "else:\n",
    "    print(\"Не получилось отвергнуть нулевую гипотезу\")"
   ]
  },
  {
   "cell_type": "code",
   "execution_count": 119,
   "metadata": {},
   "outputs": [
    {
     "data": {
      "text/html": [
       "<div>\n",
       "<style scoped>\n",
       "    .dataframe tbody tr th:only-of-type {\n",
       "        vertical-align: middle;\n",
       "    }\n",
       "\n",
       "    .dataframe tbody tr th {\n",
       "        vertical-align: top;\n",
       "    }\n",
       "\n",
       "    .dataframe thead th {\n",
       "        text-align: right;\n",
       "    }\n",
       "</style>\n",
       "<table border=\"1\" class=\"dataframe\">\n",
       "  <thead>\n",
       "    <tr style=\"text-align: right;\">\n",
       "      <th></th>\n",
       "      <th>money</th>\n",
       "    </tr>\n",
       "    <tr>\n",
       "      <th>region</th>\n",
       "      <th></th>\n",
       "    </tr>\n",
       "  </thead>\n",
       "  <tbody>\n",
       "    <tr>\n",
       "      <td>Другой регион</td>\n",
       "      <td>1,438.99</td>\n",
       "    </tr>\n",
       "    <tr>\n",
       "      <td>Москва</td>\n",
       "      <td>1,476.03</td>\n",
       "    </tr>\n",
       "  </tbody>\n",
       "</table>\n",
       "</div>"
      ],
      "text/plain": [
       "                 money\n",
       "region                \n",
       "Другой регион 1,438.99\n",
       "Москва        1,476.03"
      ]
     },
     "execution_count": 119,
     "metadata": {},
     "output_type": "execute_result"
    }
   ],
   "source": [
    "# Создаем функцию для создания столбца с регионом\n",
    "def region(city):\n",
    "    if city == 'Москва': return 'Москва'\n",
    "    else: return 'Другой регион'\n",
    "\n",
    "# Создаем столбец region, применяем функцию region   \n",
    "traffic_users['region'] = traffic_users['city'].apply(region)\n",
    "\n",
    "# Создаем сводную таблицу, группируем данные по столбцу region, \n",
    "# находим средний доход для Москвы и других регионов\n",
    "traffic_users.pivot_table(index='region', values='money', aggfunc='mean')"
   ]
  },
  {
   "cell_type": "markdown",
   "metadata": {},
   "source": [
    "Cтатистический тест указывает на то, что нулевую гипотезу о том, что доходы от пользователей из Москвы и из других регионов равны. Доходы от пользователей из Москвы практически не отличаются от доходов от пользователей из других регионов, средний доход в Москве 1493,8, а доход от пользователей из других регшионов составляет 1401,37, разница составляет 92,43 рубля."
   ]
  },
  {
   "cell_type": "markdown",
   "metadata": {},
   "source": [
    "## Вывод"
   ]
  },
  {
   "cell_type": "markdown",
   "metadata": {},
   "source": [
    "- Количество израсходованных минут, сообщений и интернет-трафика по тарифу \"Смарт\" имеет меньшее среднее и дисперсию по сравнению с тарифом \"Ультра\", а количество выбросов в рамках тарифа \"Смарт\"существенно больше. При этом, пользователи тарифа \"Смарт\" часто выходят за пределы предоставленного трафика(минуты, СМС и интернет), в то время как пользователи тарифа \"Ультра\" практически не выходят за пределы предоставленного трафика;\n",
    "- Средняя выручка компании \"Мегалайн\" от пользователей тарифа \"Ультра\" отличается от средней выручки компании от пользователей тарифа \"Смарт\". Средняя выручка пользователей тарифа \"Ультра\" больше почти в 2 раза средней выручки пользователей тарифа \"Смарт\" и составляет 2049,73 против 1170,46, при этом большинство пользователей тарифа \"Смарт\" с абонентской платой в 550 рублей выходит за пределы тарифа и по итогам месяца заплатит гораздо больше из-за нехватки включенного трафика в тариф (в среднем 1170,46 рублей, что больше апбонентскеой платы в 550 рублей на 112,8%), а пользователи тарифа \"Ультра\", напротив, не используют включенный в тариф трафик в полном объеме;\n",
    "- Доходы от пользователей из Москвы практически не отличаются от доходов от пользователей из других регионов, средний доход в Москве 1493,8, а доход от пользователей из других регшионов составляет 1401,37, разница составляет 92,43 рубля."
   ]
  }
 ],
 "metadata": {
  "ExecuteTimeLog": [
   {
    "duration": 1451,
    "start_time": "2021-12-25T06:57:41.916Z"
   },
   {
    "duration": 5,
    "start_time": "2021-12-25T06:58:04.313Z"
   },
   {
    "duration": 573,
    "start_time": "2021-12-25T07:01:31.733Z"
   },
   {
    "duration": 907,
    "start_time": "2021-12-25T07:13:57.100Z"
   },
   {
    "duration": 800,
    "start_time": "2021-12-25T07:14:15.199Z"
   },
   {
    "duration": 578,
    "start_time": "2021-12-25T07:14:39.598Z"
   },
   {
    "duration": 91,
    "start_time": "2021-12-25T07:16:31.372Z"
   },
   {
    "duration": 714,
    "start_time": "2021-12-25T07:27:32.272Z"
   },
   {
    "duration": 96,
    "start_time": "2021-12-25T07:55:30.477Z"
   },
   {
    "duration": 238,
    "start_time": "2021-12-25T07:55:56.733Z"
   },
   {
    "duration": 43,
    "start_time": "2021-12-25T07:56:13.664Z"
   },
   {
    "duration": 21,
    "start_time": "2021-12-25T07:56:30.121Z"
   },
   {
    "duration": 330,
    "start_time": "2021-12-25T08:00:41.585Z"
   },
   {
    "duration": 526,
    "start_time": "2021-12-25T08:01:01.496Z"
   },
   {
    "duration": 60,
    "start_time": "2021-12-25T08:01:27.558Z"
   },
   {
    "duration": 250,
    "start_time": "2021-12-25T08:03:04.571Z"
   },
   {
    "duration": 81,
    "start_time": "2021-12-25T08:05:34.392Z"
   },
   {
    "duration": 65,
    "start_time": "2021-12-25T08:05:52.066Z"
   },
   {
    "duration": 47,
    "start_time": "2021-12-25T08:05:54.252Z"
   },
   {
    "duration": 842,
    "start_time": "2021-12-25T08:07:02.605Z"
   },
   {
    "duration": 22,
    "start_time": "2021-12-25T08:07:28.324Z"
   },
   {
    "duration": 57,
    "start_time": "2021-12-25T08:07:41.520Z"
   },
   {
    "duration": 54,
    "start_time": "2021-12-25T08:14:20.305Z"
   },
   {
    "duration": 6,
    "start_time": "2021-12-25T08:14:37.632Z"
   },
   {
    "duration": 58,
    "start_time": "2021-12-25T08:14:38.414Z"
   },
   {
    "duration": 14,
    "start_time": "2021-12-25T08:18:02.750Z"
   },
   {
    "duration": 272,
    "start_time": "2021-12-25T08:18:03.864Z"
   },
   {
    "duration": 299,
    "start_time": "2021-12-25T08:19:02.142Z"
   },
   {
    "duration": 534,
    "start_time": "2021-12-25T08:19:02.930Z"
   },
   {
    "duration": 246,
    "start_time": "2021-12-25T08:19:12.357Z"
   },
   {
    "duration": 83,
    "start_time": "2021-12-25T08:20:54.406Z"
   },
   {
    "duration": 360,
    "start_time": "2021-12-25T08:21:15.578Z"
   },
   {
    "duration": 4,
    "start_time": "2021-12-25T08:22:04.896Z"
   },
   {
    "duration": 660,
    "start_time": "2021-12-25T08:22:05.422Z"
   },
   {
    "duration": 122,
    "start_time": "2021-12-25T08:22:06.085Z"
   },
   {
    "duration": 6,
    "start_time": "2021-12-25T08:22:06.210Z"
   },
   {
    "duration": 12,
    "start_time": "2021-12-25T08:22:06.337Z"
   },
   {
    "duration": 60,
    "start_time": "2021-12-25T08:22:06.553Z"
   },
   {
    "duration": 255,
    "start_time": "2021-12-25T08:23:19.354Z"
   },
   {
    "duration": 54,
    "start_time": "2021-12-25T08:23:20.023Z"
   },
   {
    "duration": 4,
    "start_time": "2021-12-25T08:23:28.567Z"
   },
   {
    "duration": 652,
    "start_time": "2021-12-25T08:23:28.881Z"
   },
   {
    "duration": 106,
    "start_time": "2021-12-25T08:23:29.564Z"
   },
   {
    "duration": 6,
    "start_time": "2021-12-25T08:23:29.673Z"
   },
   {
    "duration": 10,
    "start_time": "2021-12-25T08:23:29.727Z"
   },
   {
    "duration": 56,
    "start_time": "2021-12-25T08:23:29.916Z"
   },
   {
    "duration": 286,
    "start_time": "2021-12-25T08:26:25.922Z"
   },
   {
    "duration": 242,
    "start_time": "2021-12-25T08:26:32.477Z"
   },
   {
    "duration": 119,
    "start_time": "2021-12-25T08:27:00.672Z"
   },
   {
    "duration": 49,
    "start_time": "2021-12-25T08:27:16.034Z"
   },
   {
    "duration": 299,
    "start_time": "2021-12-25T08:27:30.168Z"
   },
   {
    "duration": 58,
    "start_time": "2021-12-25T08:27:35.506Z"
   },
   {
    "duration": 11,
    "start_time": "2021-12-25T08:27:41.091Z"
   },
   {
    "duration": 83,
    "start_time": "2021-12-25T08:30:32.389Z"
   },
   {
    "duration": 1366,
    "start_time": "2021-12-25T11:36:18.657Z"
   },
   {
    "duration": 657,
    "start_time": "2021-12-25T11:36:20.025Z"
   },
   {
    "duration": 123,
    "start_time": "2021-12-25T11:36:20.686Z"
   },
   {
    "duration": 6,
    "start_time": "2021-12-25T11:36:20.811Z"
   },
   {
    "duration": 16,
    "start_time": "2021-12-25T11:36:20.819Z"
   },
   {
    "duration": 71,
    "start_time": "2021-12-25T11:36:20.838Z"
   },
   {
    "duration": 16,
    "start_time": "2021-12-25T11:41:06.636Z"
   },
   {
    "duration": 12,
    "start_time": "2021-12-25T11:41:26.426Z"
   },
   {
    "duration": 11,
    "start_time": "2021-12-25T11:42:20.405Z"
   },
   {
    "duration": 13,
    "start_time": "2021-12-25T11:45:06.109Z"
   },
   {
    "duration": 16,
    "start_time": "2021-12-25T11:46:09.916Z"
   },
   {
    "duration": 4,
    "start_time": "2021-12-25T11:49:38.249Z"
   },
   {
    "duration": 703,
    "start_time": "2021-12-25T11:49:38.256Z"
   },
   {
    "duration": 117,
    "start_time": "2021-12-25T11:49:38.963Z"
   },
   {
    "duration": 6,
    "start_time": "2021-12-25T11:49:39.082Z"
   },
   {
    "duration": 19,
    "start_time": "2021-12-25T11:49:39.092Z"
   },
   {
    "duration": 76,
    "start_time": "2021-12-25T11:49:39.113Z"
   },
   {
    "duration": 445,
    "start_time": "2021-12-25T11:49:39.192Z"
   },
   {
    "duration": 363,
    "start_time": "2021-12-25T11:50:41.028Z"
   },
   {
    "duration": 322,
    "start_time": "2021-12-25T11:51:47.672Z"
   },
   {
    "duration": 409,
    "start_time": "2021-12-25T11:51:58.532Z"
   },
   {
    "duration": 422,
    "start_time": "2021-12-25T11:52:28.824Z"
   },
   {
    "duration": 24,
    "start_time": "2021-12-25T11:53:05.477Z"
   },
   {
    "duration": 15,
    "start_time": "2021-12-25T11:53:23.984Z"
   },
   {
    "duration": 5,
    "start_time": "2021-12-25T11:54:11.264Z"
   },
   {
    "duration": 651,
    "start_time": "2021-12-25T11:54:11.271Z"
   },
   {
    "duration": 102,
    "start_time": "2021-12-25T11:54:11.959Z"
   },
   {
    "duration": 6,
    "start_time": "2021-12-25T11:54:12.063Z"
   },
   {
    "duration": 16,
    "start_time": "2021-12-25T11:54:12.071Z"
   },
   {
    "duration": 89,
    "start_time": "2021-12-25T11:54:12.089Z"
   },
   {
    "duration": 753,
    "start_time": "2021-12-25T11:54:12.181Z"
   },
   {
    "duration": 15,
    "start_time": "2021-12-25T11:55:53.133Z"
   },
   {
    "duration": 91,
    "start_time": "2021-12-25T11:56:29.619Z"
   },
   {
    "duration": 399,
    "start_time": "2021-12-25T11:59:13.024Z"
   },
   {
    "duration": 415,
    "start_time": "2021-12-25T11:59:19.885Z"
   },
   {
    "duration": 320,
    "start_time": "2021-12-25T12:00:09.134Z"
   },
   {
    "duration": 320,
    "start_time": "2021-12-25T12:02:27.687Z"
   },
   {
    "duration": 365,
    "start_time": "2021-12-25T12:02:49.127Z"
   },
   {
    "duration": 13,
    "start_time": "2021-12-25T12:04:30.530Z"
   },
   {
    "duration": 13,
    "start_time": "2021-12-25T12:04:45.278Z"
   },
   {
    "duration": 442,
    "start_time": "2021-12-25T12:04:51.265Z"
   },
   {
    "duration": 25,
    "start_time": "2021-12-25T12:12:05.951Z"
   },
   {
    "duration": 6,
    "start_time": "2021-12-25T12:12:20.999Z"
   },
   {
    "duration": 899,
    "start_time": "2021-12-25T12:12:21.009Z"
   },
   {
    "duration": 128,
    "start_time": "2021-12-25T12:12:21.911Z"
   },
   {
    "duration": 17,
    "start_time": "2021-12-25T12:12:22.042Z"
   },
   {
    "duration": 11,
    "start_time": "2021-12-25T12:12:22.062Z"
   },
   {
    "duration": 91,
    "start_time": "2021-12-25T12:12:22.076Z"
   },
   {
    "duration": 12,
    "start_time": "2021-12-25T12:12:22.169Z"
   },
   {
    "duration": 21,
    "start_time": "2021-12-25T12:12:22.186Z"
   },
   {
    "duration": 15,
    "start_time": "2021-12-25T12:12:22.210Z"
   },
   {
    "duration": 344,
    "start_time": "2021-12-25T12:12:37.812Z"
   },
   {
    "duration": 5,
    "start_time": "2021-12-25T12:12:43.794Z"
   },
   {
    "duration": 660,
    "start_time": "2021-12-25T12:12:43.801Z"
   },
   {
    "duration": 108,
    "start_time": "2021-12-25T12:12:44.464Z"
   },
   {
    "duration": 6,
    "start_time": "2021-12-25T12:12:44.575Z"
   },
   {
    "duration": 14,
    "start_time": "2021-12-25T12:12:44.584Z"
   },
   {
    "duration": 85,
    "start_time": "2021-12-25T12:12:44.601Z"
   },
   {
    "duration": 11,
    "start_time": "2021-12-25T12:12:44.689Z"
   },
   {
    "duration": 442,
    "start_time": "2021-12-25T12:12:44.704Z"
   },
   {
    "duration": 1377,
    "start_time": "2021-12-25T12:12:43.773Z"
   },
   {
    "duration": 327,
    "start_time": "2021-12-25T12:13:01.649Z"
   },
   {
    "duration": 317,
    "start_time": "2021-12-25T12:13:23.498Z"
   },
   {
    "duration": 5,
    "start_time": "2021-12-25T12:13:50.110Z"
   },
   {
    "duration": 660,
    "start_time": "2021-12-25T12:13:50.118Z"
   },
   {
    "duration": 118,
    "start_time": "2021-12-25T12:13:50.782Z"
   },
   {
    "duration": 7,
    "start_time": "2021-12-25T12:13:50.903Z"
   },
   {
    "duration": 12,
    "start_time": "2021-12-25T12:13:50.913Z"
   },
   {
    "duration": 79,
    "start_time": "2021-12-25T12:13:50.928Z"
   },
   {
    "duration": 11,
    "start_time": "2021-12-25T12:13:51.009Z"
   },
   {
    "duration": 325,
    "start_time": "2021-12-25T12:13:51.061Z"
   },
   {
    "duration": 1394,
    "start_time": "2021-12-25T12:13:49.994Z"
   },
   {
    "duration": 6,
    "start_time": "2021-12-25T12:15:45.487Z"
   },
   {
    "duration": 11,
    "start_time": "2021-12-25T12:15:55.440Z"
   },
   {
    "duration": 3,
    "start_time": "2021-12-25T12:16:18.096Z"
   },
   {
    "duration": 6,
    "start_time": "2021-12-25T12:16:21.724Z"
   },
   {
    "duration": 11,
    "start_time": "2021-12-25T12:16:27.123Z"
   },
   {
    "duration": 12,
    "start_time": "2021-12-25T12:17:11.663Z"
   },
   {
    "duration": 14,
    "start_time": "2021-12-25T12:20:08.945Z"
   },
   {
    "duration": 13,
    "start_time": "2021-12-25T12:20:17.173Z"
   },
   {
    "duration": 13,
    "start_time": "2021-12-25T12:20:33.672Z"
   },
   {
    "duration": 420,
    "start_time": "2021-12-25T12:20:59.486Z"
   },
   {
    "duration": 14,
    "start_time": "2021-12-25T12:21:07.055Z"
   },
   {
    "duration": 39,
    "start_time": "2021-12-25T12:23:33.276Z"
   },
   {
    "duration": 25,
    "start_time": "2021-12-25T12:24:12.504Z"
   },
   {
    "duration": 411,
    "start_time": "2021-12-25T12:24:44.648Z"
   },
   {
    "duration": 20,
    "start_time": "2021-12-25T12:25:09.688Z"
   },
   {
    "duration": 23,
    "start_time": "2021-12-25T12:26:44.295Z"
   },
   {
    "duration": 33,
    "start_time": "2021-12-25T12:27:23.532Z"
   },
   {
    "duration": 106,
    "start_time": "2021-12-25T12:28:38.627Z"
   },
   {
    "duration": 23,
    "start_time": "2021-12-25T12:28:53.714Z"
   },
   {
    "duration": 33,
    "start_time": "2021-12-25T12:30:17.142Z"
   },
   {
    "duration": 25,
    "start_time": "2021-12-25T12:30:33.102Z"
   },
   {
    "duration": 5,
    "start_time": "2021-12-25T12:32:02.441Z"
   },
   {
    "duration": 643,
    "start_time": "2021-12-25T12:32:02.448Z"
   },
   {
    "duration": 118,
    "start_time": "2021-12-25T12:32:03.095Z"
   },
   {
    "duration": 8,
    "start_time": "2021-12-25T12:32:03.217Z"
   },
   {
    "duration": 14,
    "start_time": "2021-12-25T12:32:03.227Z"
   },
   {
    "duration": 63,
    "start_time": "2021-12-25T12:32:03.260Z"
   },
   {
    "duration": 18,
    "start_time": "2021-12-25T12:32:03.360Z"
   },
   {
    "duration": 40,
    "start_time": "2021-12-25T12:32:03.381Z"
   },
   {
    "duration": 58,
    "start_time": "2021-12-25T12:32:03.426Z"
   },
   {
    "duration": 5,
    "start_time": "2021-12-25T12:33:50.548Z"
   },
   {
    "duration": 706,
    "start_time": "2021-12-25T12:33:50.555Z"
   },
   {
    "duration": 137,
    "start_time": "2021-12-25T12:33:51.265Z"
   },
   {
    "duration": 6,
    "start_time": "2021-12-25T12:33:51.405Z"
   },
   {
    "duration": 17,
    "start_time": "2021-12-25T12:33:51.414Z"
   },
   {
    "duration": 98,
    "start_time": "2021-12-25T12:33:51.434Z"
   },
   {
    "duration": 40,
    "start_time": "2021-12-25T12:33:51.535Z"
   },
   {
    "duration": 42,
    "start_time": "2021-12-25T12:33:51.579Z"
   },
   {
    "duration": 55,
    "start_time": "2021-12-25T12:33:51.624Z"
   },
   {
    "duration": 17,
    "start_time": "2021-12-25T12:35:03.684Z"
   },
   {
    "duration": 9631,
    "start_time": "2021-12-25T12:39:11.047Z"
   },
   {
    "duration": 29,
    "start_time": "2021-12-25T12:39:53.706Z"
   },
   {
    "duration": 329,
    "start_time": "2021-12-25T12:40:59.882Z"
   },
   {
    "duration": 16,
    "start_time": "2021-12-25T12:41:33.425Z"
   },
   {
    "duration": 36,
    "start_time": "2021-12-25T12:42:04.273Z"
   },
   {
    "duration": 20,
    "start_time": "2021-12-25T12:42:05.527Z"
   },
   {
    "duration": 355,
    "start_time": "2021-12-25T12:42:57.883Z"
   },
   {
    "duration": 29,
    "start_time": "2021-12-25T12:43:14.538Z"
   },
   {
    "duration": 37,
    "start_time": "2021-12-25T12:43:48.404Z"
   },
   {
    "duration": 345,
    "start_time": "2021-12-25T12:46:41.775Z"
   },
   {
    "duration": 9052,
    "start_time": "2021-12-25T12:46:56.979Z"
   },
   {
    "duration": 1264,
    "start_time": "2021-12-25T12:48:30.532Z"
   },
   {
    "duration": 30,
    "start_time": "2021-12-25T12:51:36.952Z"
   },
   {
    "duration": 106,
    "start_time": "2021-12-25T12:54:36.689Z"
   },
   {
    "duration": 113,
    "start_time": "2021-12-25T12:54:51.839Z"
   },
   {
    "duration": 129,
    "start_time": "2021-12-25T12:55:06.389Z"
   },
   {
    "duration": 23,
    "start_time": "2021-12-25T12:55:19.427Z"
   },
   {
    "duration": 348,
    "start_time": "2021-12-25T12:55:51.012Z"
   },
   {
    "duration": 712,
    "start_time": "2021-12-25T12:58:13.467Z"
   },
   {
    "duration": 44,
    "start_time": "2021-12-25T12:59:07.139Z"
   },
   {
    "duration": 16,
    "start_time": "2021-12-25T12:59:35.982Z"
   },
   {
    "duration": 28,
    "start_time": "2021-12-25T12:59:43.545Z"
   },
   {
    "duration": 1429,
    "start_time": "2021-12-30T14:32:35.487Z"
   },
   {
    "duration": 679,
    "start_time": "2021-12-30T14:32:36.919Z"
   },
   {
    "duration": 120,
    "start_time": "2021-12-30T14:32:37.601Z"
   },
   {
    "duration": 7,
    "start_time": "2021-12-30T14:32:37.724Z"
   },
   {
    "duration": 29,
    "start_time": "2021-12-30T14:32:37.735Z"
   },
   {
    "duration": 64,
    "start_time": "2021-12-30T14:32:37.766Z"
   },
   {
    "duration": 15,
    "start_time": "2021-12-30T14:32:37.859Z"
   },
   {
    "duration": 38,
    "start_time": "2021-12-30T14:32:37.877Z"
   },
   {
    "duration": 63,
    "start_time": "2021-12-30T14:32:37.917Z"
   },
   {
    "duration": 29,
    "start_time": "2021-12-30T14:32:37.982Z"
   },
   {
    "duration": 52,
    "start_time": "2021-12-30T14:32:38.013Z"
   },
   {
    "duration": 22,
    "start_time": "2021-12-30T14:33:37.932Z"
   },
   {
    "duration": 24,
    "start_time": "2021-12-30T14:33:53.905Z"
   },
   {
    "duration": 490,
    "start_time": "2021-12-30T14:36:33.201Z"
   },
   {
    "duration": 23,
    "start_time": "2021-12-30T14:36:50.580Z"
   },
   {
    "duration": 8,
    "start_time": "2021-12-30T14:40:16.681Z"
   },
   {
    "duration": 9,
    "start_time": "2021-12-30T14:40:26.428Z"
   },
   {
    "duration": 6,
    "start_time": "2021-12-30T14:43:48.260Z"
   },
   {
    "duration": 11,
    "start_time": "2021-12-30T14:45:22.336Z"
   },
   {
    "duration": 12,
    "start_time": "2021-12-30T14:45:38.608Z"
   },
   {
    "duration": 558,
    "start_time": "2021-12-30T14:47:55.088Z"
   },
   {
    "duration": 519,
    "start_time": "2021-12-30T14:48:22.476Z"
   },
   {
    "duration": 12,
    "start_time": "2021-12-30T14:48:35.051Z"
   },
   {
    "duration": 40,
    "start_time": "2021-12-30T14:51:19.178Z"
   },
   {
    "duration": 35,
    "start_time": "2021-12-30T14:52:42.075Z"
   },
   {
    "duration": 391,
    "start_time": "2021-12-30T14:53:20.049Z"
   },
   {
    "duration": 44,
    "start_time": "2021-12-30T14:53:46.706Z"
   },
   {
    "duration": 29,
    "start_time": "2021-12-30T14:56:28.032Z"
   },
   {
    "duration": 21,
    "start_time": "2021-12-30T14:58:33.616Z"
   },
   {
    "duration": 33,
    "start_time": "2021-12-30T15:01:16.625Z"
   },
   {
    "duration": 37,
    "start_time": "2021-12-30T15:01:47.616Z"
   },
   {
    "duration": 8,
    "start_time": "2021-12-30T15:02:28.646Z"
   },
   {
    "duration": 38,
    "start_time": "2021-12-30T15:02:29.549Z"
   },
   {
    "duration": 45,
    "start_time": "2021-12-30T15:02:42.535Z"
   },
   {
    "duration": 71,
    "start_time": "2021-12-30T15:03:07.386Z"
   },
   {
    "duration": 67,
    "start_time": "2021-12-30T15:03:16.490Z"
   },
   {
    "duration": 67,
    "start_time": "2021-12-30T15:03:36.600Z"
   },
   {
    "duration": 37,
    "start_time": "2021-12-30T15:03:54.674Z"
   },
   {
    "duration": 45,
    "start_time": "2021-12-30T15:10:14.361Z"
   },
   {
    "duration": 35,
    "start_time": "2021-12-30T15:11:01.813Z"
   },
   {
    "duration": 41,
    "start_time": "2021-12-30T15:11:16.845Z"
   },
   {
    "duration": 41,
    "start_time": "2021-12-30T15:11:46.463Z"
   },
   {
    "duration": 49,
    "start_time": "2021-12-30T15:14:00.196Z"
   },
   {
    "duration": 57,
    "start_time": "2021-12-30T15:15:22.524Z"
   },
   {
    "duration": 46,
    "start_time": "2021-12-30T15:15:55.240Z"
   },
   {
    "duration": 59,
    "start_time": "2021-12-30T15:16:16.647Z"
   },
   {
    "duration": 66,
    "start_time": "2021-12-30T15:16:33.294Z"
   },
   {
    "duration": 58,
    "start_time": "2021-12-30T15:17:36.545Z"
   },
   {
    "duration": 36,
    "start_time": "2021-12-30T15:17:43.624Z"
   },
   {
    "duration": 62,
    "start_time": "2021-12-30T15:21:26.414Z"
   },
   {
    "duration": 37,
    "start_time": "2021-12-30T15:21:39.745Z"
   },
   {
    "duration": 46,
    "start_time": "2021-12-30T15:21:40.247Z"
   },
   {
    "duration": 320,
    "start_time": "2021-12-30T15:33:18.912Z"
   },
   {
    "duration": 369,
    "start_time": "2021-12-30T15:34:24.276Z"
   },
   {
    "duration": 18,
    "start_time": "2021-12-30T15:36:07.901Z"
   },
   {
    "duration": 71,
    "start_time": "2021-12-30T15:37:13.616Z"
   },
   {
    "duration": 38,
    "start_time": "2021-12-30T15:37:35.295Z"
   },
   {
    "duration": 49,
    "start_time": "2021-12-30T15:37:50.544Z"
   },
   {
    "duration": 332,
    "start_time": "2021-12-30T15:38:06.446Z"
   },
   {
    "duration": 868,
    "start_time": "2021-12-30T15:38:55.413Z"
   },
   {
    "duration": 332,
    "start_time": "2021-12-30T15:39:54.942Z"
   },
   {
    "duration": 320,
    "start_time": "2021-12-30T15:49:17.639Z"
   },
   {
    "duration": 17,
    "start_time": "2021-12-30T15:49:25.588Z"
   },
   {
    "duration": 351,
    "start_time": "2021-12-30T15:52:50.024Z"
   },
   {
    "duration": 17,
    "start_time": "2021-12-30T15:56:30.361Z"
   },
   {
    "duration": 45,
    "start_time": "2021-12-30T15:59:07.684Z"
   },
   {
    "duration": 17,
    "start_time": "2021-12-30T15:59:13.535Z"
   },
   {
    "duration": 16,
    "start_time": "2021-12-30T15:59:20.562Z"
   },
   {
    "duration": 328,
    "start_time": "2021-12-30T15:59:41.736Z"
   },
   {
    "duration": 31,
    "start_time": "2021-12-30T16:01:46.234Z"
   },
   {
    "duration": 32,
    "start_time": "2021-12-30T16:02:07.379Z"
   },
   {
    "duration": 37,
    "start_time": "2021-12-30T16:03:02.955Z"
   },
   {
    "duration": 34,
    "start_time": "2021-12-30T16:03:12.151Z"
   },
   {
    "duration": 39,
    "start_time": "2021-12-30T16:03:53.223Z"
   },
   {
    "duration": 31,
    "start_time": "2021-12-30T16:04:47.920Z"
   },
   {
    "duration": 47,
    "start_time": "2021-12-30T16:05:20.652Z"
   },
   {
    "duration": 44,
    "start_time": "2021-12-30T16:05:39.810Z"
   },
   {
    "duration": 7,
    "start_time": "2021-12-30T16:05:44.170Z"
   },
   {
    "duration": 696,
    "start_time": "2021-12-30T16:05:44.179Z"
   },
   {
    "duration": 135,
    "start_time": "2021-12-30T16:05:44.880Z"
   },
   {
    "duration": 9,
    "start_time": "2021-12-30T16:05:45.017Z"
   },
   {
    "duration": 35,
    "start_time": "2021-12-30T16:05:45.029Z"
   },
   {
    "duration": 57,
    "start_time": "2021-12-30T16:05:45.067Z"
   },
   {
    "duration": 94,
    "start_time": "2021-12-30T16:05:45.126Z"
   },
   {
    "duration": 53,
    "start_time": "2021-12-30T16:05:45.224Z"
   },
   {
    "duration": 50,
    "start_time": "2021-12-30T16:05:45.280Z"
   },
   {
    "duration": 826,
    "start_time": "2021-12-30T16:05:45.333Z"
   },
   {
    "duration": 24,
    "start_time": "2021-12-30T16:06:44.653Z"
   },
   {
    "duration": 28,
    "start_time": "2021-12-30T16:06:57.448Z"
   },
   {
    "duration": 31,
    "start_time": "2021-12-30T16:07:23.508Z"
   },
   {
    "duration": 43,
    "start_time": "2021-12-30T16:09:27.314Z"
   },
   {
    "duration": 748,
    "start_time": "2021-12-30T16:09:44.827Z"
   },
   {
    "duration": 46,
    "start_time": "2021-12-30T16:09:52.454Z"
   },
   {
    "duration": 28,
    "start_time": "2021-12-30T16:10:30.646Z"
   },
   {
    "duration": 37,
    "start_time": "2021-12-30T16:10:53.139Z"
   },
   {
    "duration": 48,
    "start_time": "2021-12-30T16:11:53.988Z"
   },
   {
    "duration": 771,
    "start_time": "2021-12-30T16:11:58.206Z"
   },
   {
    "duration": 19,
    "start_time": "2021-12-30T16:12:15.382Z"
   },
   {
    "duration": 753,
    "start_time": "2021-12-30T16:12:54.905Z"
   },
   {
    "duration": 152,
    "start_time": "2021-12-30T16:23:29.797Z"
   },
   {
    "duration": 52,
    "start_time": "2021-12-30T16:23:37.396Z"
   },
   {
    "duration": 57,
    "start_time": "2021-12-30T16:23:45.436Z"
   },
   {
    "duration": 55,
    "start_time": "2021-12-30T16:23:59.616Z"
   },
   {
    "duration": 134,
    "start_time": "2021-12-30T16:24:46.318Z"
   },
   {
    "duration": 116,
    "start_time": "2021-12-30T16:25:01.848Z"
   },
   {
    "duration": 33,
    "start_time": "2021-12-30T16:25:14.737Z"
   },
   {
    "duration": 562,
    "start_time": "2021-12-30T16:25:33.540Z"
   },
   {
    "duration": 48,
    "start_time": "2021-12-30T16:25:55.905Z"
   },
   {
    "duration": 452,
    "start_time": "2021-12-30T16:26:04.137Z"
   },
   {
    "duration": 36,
    "start_time": "2021-12-30T16:26:15.312Z"
   },
   {
    "duration": 37,
    "start_time": "2021-12-30T16:26:22.821Z"
   },
   {
    "duration": 43,
    "start_time": "2021-12-30T16:33:39.189Z"
   },
   {
    "duration": 31,
    "start_time": "2021-12-30T16:34:20.662Z"
   },
   {
    "duration": 32,
    "start_time": "2021-12-30T16:36:17.599Z"
   },
   {
    "duration": 41,
    "start_time": "2021-12-30T16:36:38.008Z"
   },
   {
    "duration": 5,
    "start_time": "2021-12-30T16:36:42.598Z"
   },
   {
    "duration": 690,
    "start_time": "2021-12-30T16:36:42.606Z"
   },
   {
    "duration": 134,
    "start_time": "2021-12-30T16:36:43.301Z"
   },
   {
    "duration": 7,
    "start_time": "2021-12-30T16:36:43.438Z"
   },
   {
    "duration": 23,
    "start_time": "2021-12-30T16:36:43.448Z"
   },
   {
    "duration": 91,
    "start_time": "2021-12-30T16:36:43.473Z"
   },
   {
    "duration": 59,
    "start_time": "2021-12-30T16:36:43.567Z"
   },
   {
    "duration": 60,
    "start_time": "2021-12-30T16:36:43.630Z"
   },
   {
    "duration": 68,
    "start_time": "2021-12-30T16:36:43.693Z"
   },
   {
    "duration": 39,
    "start_time": "2021-12-30T16:36:43.764Z"
   },
   {
    "duration": 33,
    "start_time": "2021-12-30T16:38:17.435Z"
   },
   {
    "duration": 9,
    "start_time": "2021-12-30T16:38:53.946Z"
   },
   {
    "duration": 15,
    "start_time": "2021-12-30T16:40:52.359Z"
   },
   {
    "duration": 49,
    "start_time": "2021-12-30T16:41:36.419Z"
   },
   {
    "duration": 14,
    "start_time": "2021-12-30T16:42:47.539Z"
   },
   {
    "duration": 17,
    "start_time": "2021-12-30T16:42:59.331Z"
   },
   {
    "duration": 20,
    "start_time": "2021-12-30T16:43:27.543Z"
   },
   {
    "duration": 18,
    "start_time": "2021-12-30T16:44:51.992Z"
   },
   {
    "duration": 20,
    "start_time": "2021-12-30T16:46:37.404Z"
   },
   {
    "duration": 212,
    "start_time": "2021-12-30T16:48:29.809Z"
   },
   {
    "duration": 856,
    "start_time": "2021-12-30T16:48:34.808Z"
   },
   {
    "duration": 31,
    "start_time": "2021-12-30T16:48:47.311Z"
   },
   {
    "duration": 38,
    "start_time": "2021-12-30T16:50:58.908Z"
   },
   {
    "duration": 348,
    "start_time": "2021-12-30T16:51:10.154Z"
   },
   {
    "duration": 422,
    "start_time": "2021-12-30T16:51:30.372Z"
   },
   {
    "duration": 346,
    "start_time": "2021-12-30T16:52:24.639Z"
   },
   {
    "duration": 27,
    "start_time": "2021-12-30T16:53:47.792Z"
   },
   {
    "duration": 372,
    "start_time": "2021-12-30T16:55:03.256Z"
   },
   {
    "duration": 353,
    "start_time": "2021-12-30T16:55:12.237Z"
   },
   {
    "duration": 5,
    "start_time": "2021-12-30T16:55:38.544Z"
   },
   {
    "duration": 676,
    "start_time": "2021-12-30T16:55:38.552Z"
   },
   {
    "duration": 149,
    "start_time": "2021-12-30T16:55:39.230Z"
   },
   {
    "duration": 7,
    "start_time": "2021-12-30T16:55:39.382Z"
   },
   {
    "duration": 16,
    "start_time": "2021-12-30T16:55:39.391Z"
   },
   {
    "duration": 90,
    "start_time": "2021-12-30T16:55:39.409Z"
   },
   {
    "duration": 92,
    "start_time": "2021-12-30T16:55:39.501Z"
   },
   {
    "duration": 36,
    "start_time": "2021-12-30T16:55:39.595Z"
   },
   {
    "duration": 62,
    "start_time": "2021-12-30T16:55:39.635Z"
   },
   {
    "duration": 37,
    "start_time": "2021-12-30T16:55:39.700Z"
   },
   {
    "duration": 24,
    "start_time": "2021-12-30T16:55:39.759Z"
   },
   {
    "duration": 343,
    "start_time": "2021-12-30T16:55:39.786Z"
   },
   {
    "duration": 59,
    "start_time": "2021-12-30T17:05:56.843Z"
   },
   {
    "duration": 47,
    "start_time": "2021-12-30T17:06:14.813Z"
   },
   {
    "duration": 400,
    "start_time": "2021-12-30T17:09:23.484Z"
   },
   {
    "duration": 6,
    "start_time": "2021-12-30T17:10:25.093Z"
   },
   {
    "duration": 700,
    "start_time": "2021-12-30T17:10:25.102Z"
   },
   {
    "duration": 127,
    "start_time": "2021-12-30T17:10:25.807Z"
   },
   {
    "duration": 6,
    "start_time": "2021-12-30T17:10:25.937Z"
   },
   {
    "duration": 23,
    "start_time": "2021-12-30T17:10:25.946Z"
   },
   {
    "duration": 108,
    "start_time": "2021-12-30T17:10:25.972Z"
   },
   {
    "duration": 99,
    "start_time": "2021-12-30T17:10:26.083Z"
   },
   {
    "duration": 50,
    "start_time": "2021-12-30T17:10:26.185Z"
   },
   {
    "duration": 69,
    "start_time": "2021-12-30T17:10:26.239Z"
   },
   {
    "duration": 77,
    "start_time": "2021-12-30T17:10:26.312Z"
   },
   {
    "duration": 23,
    "start_time": "2021-12-30T17:10:26.392Z"
   },
   {
    "duration": 941,
    "start_time": "2021-12-30T17:10:26.418Z"
   },
   {
    "duration": 23,
    "start_time": "2021-12-30T17:10:47.165Z"
   },
   {
    "duration": 773,
    "start_time": "2021-12-30T17:13:19.025Z"
   },
   {
    "duration": 778,
    "start_time": "2021-12-30T17:13:38.687Z"
   },
   {
    "duration": 1063,
    "start_time": "2021-12-30T17:13:57.609Z"
   },
   {
    "duration": 423,
    "start_time": "2021-12-30T17:24:58.302Z"
   },
   {
    "duration": 350,
    "start_time": "2021-12-30T17:25:33.997Z"
   },
   {
    "duration": 368,
    "start_time": "2021-12-30T17:25:46.757Z"
   },
   {
    "duration": 394,
    "start_time": "2021-12-30T17:29:50.868Z"
   },
   {
    "duration": 20,
    "start_time": "2021-12-30T17:34:27.872Z"
   },
   {
    "duration": 19,
    "start_time": "2021-12-30T17:34:38.515Z"
   },
   {
    "duration": 394,
    "start_time": "2021-12-30T17:34:39.345Z"
   },
   {
    "duration": 6,
    "start_time": "2021-12-30T17:34:47.733Z"
   },
   {
    "duration": 733,
    "start_time": "2021-12-30T17:34:47.741Z"
   },
   {
    "duration": 166,
    "start_time": "2021-12-30T17:34:48.478Z"
   },
   {
    "duration": 17,
    "start_time": "2021-12-30T17:34:48.647Z"
   },
   {
    "duration": 24,
    "start_time": "2021-12-30T17:34:48.667Z"
   },
   {
    "duration": 79,
    "start_time": "2021-12-30T17:34:48.693Z"
   },
   {
    "duration": 85,
    "start_time": "2021-12-30T17:34:48.775Z"
   },
   {
    "duration": 44,
    "start_time": "2021-12-30T17:34:48.865Z"
   },
   {
    "duration": 70,
    "start_time": "2021-12-30T17:34:48.911Z"
   },
   {
    "duration": 18,
    "start_time": "2021-12-30T17:34:48.984Z"
   },
   {
    "duration": 17,
    "start_time": "2021-12-30T17:34:49.004Z"
   },
   {
    "duration": 429,
    "start_time": "2021-12-30T17:34:49.023Z"
   },
   {
    "duration": 416,
    "start_time": "2021-12-30T17:36:24.215Z"
   },
   {
    "duration": 29,
    "start_time": "2021-12-30T17:36:35.508Z"
   },
   {
    "duration": 25,
    "start_time": "2021-12-30T17:37:02.499Z"
   },
   {
    "duration": 41,
    "start_time": "2021-12-30T17:39:52.560Z"
   },
   {
    "duration": 22,
    "start_time": "2021-12-30T17:40:11.214Z"
   },
   {
    "duration": 404,
    "start_time": "2021-12-30T17:40:13.609Z"
   },
   {
    "duration": 350,
    "start_time": "2021-12-30T17:40:31.197Z"
   },
   {
    "duration": 19,
    "start_time": "2021-12-30T17:42:25.487Z"
   },
   {
    "duration": 391,
    "start_time": "2021-12-30T17:42:28.010Z"
   },
   {
    "duration": 5,
    "start_time": "2021-12-30T17:46:35.749Z"
   },
   {
    "duration": 653,
    "start_time": "2021-12-30T17:46:35.756Z"
   },
   {
    "duration": 126,
    "start_time": "2021-12-30T17:46:36.412Z"
   },
   {
    "duration": 6,
    "start_time": "2021-12-30T17:46:36.541Z"
   },
   {
    "duration": 21,
    "start_time": "2021-12-30T17:46:36.549Z"
   },
   {
    "duration": 86,
    "start_time": "2021-12-30T17:46:36.573Z"
   },
   {
    "duration": 60,
    "start_time": "2021-12-30T17:46:36.661Z"
   },
   {
    "duration": 62,
    "start_time": "2021-12-30T17:46:36.724Z"
   },
   {
    "duration": 43,
    "start_time": "2021-12-30T17:46:36.788Z"
   },
   {
    "duration": 57,
    "start_time": "2021-12-30T17:46:36.833Z"
   },
   {
    "duration": 17,
    "start_time": "2021-12-30T17:46:36.892Z"
   },
   {
    "duration": 345,
    "start_time": "2021-12-30T17:46:36.912Z"
   },
   {
    "duration": 322,
    "start_time": "2021-12-30T17:47:24.078Z"
   },
   {
    "duration": 334,
    "start_time": "2021-12-30T17:47:32.151Z"
   },
   {
    "duration": 320,
    "start_time": "2021-12-30T17:47:39.634Z"
   },
   {
    "duration": 353,
    "start_time": "2021-12-30T17:51:26.502Z"
   },
   {
    "duration": 27,
    "start_time": "2021-12-30T18:00:28.884Z"
   },
   {
    "duration": 33,
    "start_time": "2021-12-30T18:00:51.206Z"
   },
   {
    "duration": 21,
    "start_time": "2021-12-30T18:13:04.801Z"
   },
   {
    "duration": 186,
    "start_time": "2021-12-30T18:13:19.497Z"
   },
   {
    "duration": 29,
    "start_time": "2021-12-30T18:13:26.269Z"
   },
   {
    "duration": 4,
    "start_time": "2021-12-30T18:34:38.235Z"
   },
   {
    "duration": 740,
    "start_time": "2021-12-30T18:34:38.242Z"
   },
   {
    "duration": 120,
    "start_time": "2021-12-30T18:34:38.987Z"
   },
   {
    "duration": 6,
    "start_time": "2021-12-30T18:34:39.111Z"
   },
   {
    "duration": 16,
    "start_time": "2021-12-30T18:34:39.120Z"
   },
   {
    "duration": 121,
    "start_time": "2021-12-30T18:34:39.138Z"
   },
   {
    "duration": 64,
    "start_time": "2021-12-30T18:34:39.262Z"
   },
   {
    "duration": 66,
    "start_time": "2021-12-30T18:34:39.330Z"
   },
   {
    "duration": 62,
    "start_time": "2021-12-30T18:34:39.399Z"
   },
   {
    "duration": 46,
    "start_time": "2021-12-30T18:34:39.464Z"
   },
   {
    "duration": 55,
    "start_time": "2021-12-30T18:34:39.512Z"
   },
   {
    "duration": 26,
    "start_time": "2021-12-30T18:34:55.290Z"
   },
   {
    "duration": 25,
    "start_time": "2021-12-30T18:35:18.039Z"
   },
   {
    "duration": 25,
    "start_time": "2021-12-30T18:36:39.182Z"
   },
   {
    "duration": 24,
    "start_time": "2021-12-30T18:37:11.779Z"
   },
   {
    "duration": 26,
    "start_time": "2021-12-30T18:40:20.723Z"
   },
   {
    "duration": 1374,
    "start_time": "2022-01-02T14:29:27.989Z"
   },
   {
    "duration": 597,
    "start_time": "2022-01-02T14:29:29.365Z"
   },
   {
    "duration": 122,
    "start_time": "2022-01-02T14:29:29.965Z"
   },
   {
    "duration": 6,
    "start_time": "2022-01-02T14:29:30.089Z"
   },
   {
    "duration": 26,
    "start_time": "2022-01-02T14:29:30.098Z"
   },
   {
    "duration": 66,
    "start_time": "2022-01-02T14:29:30.127Z"
   },
   {
    "duration": 78,
    "start_time": "2022-01-02T14:29:30.195Z"
   },
   {
    "duration": 58,
    "start_time": "2022-01-02T14:29:30.277Z"
   },
   {
    "duration": 42,
    "start_time": "2022-01-02T14:29:30.338Z"
   },
   {
    "duration": 63,
    "start_time": "2022-01-02T14:29:30.383Z"
   },
   {
    "duration": 25,
    "start_time": "2022-01-02T14:29:30.448Z"
   },
   {
    "duration": 439,
    "start_time": "2022-01-02T14:37:22.111Z"
   },
   {
    "duration": 333,
    "start_time": "2022-01-02T14:43:14.824Z"
   },
   {
    "duration": 15,
    "start_time": "2022-01-02T14:43:27.567Z"
   },
   {
    "duration": 20,
    "start_time": "2022-01-02T14:46:31.209Z"
   },
   {
    "duration": 4,
    "start_time": "2022-01-02T14:46:53.267Z"
   },
   {
    "duration": 576,
    "start_time": "2022-01-02T14:46:53.273Z"
   },
   {
    "duration": 104,
    "start_time": "2022-01-02T14:46:53.852Z"
   },
   {
    "duration": 6,
    "start_time": "2022-01-02T14:46:53.959Z"
   },
   {
    "duration": 14,
    "start_time": "2022-01-02T14:46:53.967Z"
   },
   {
    "duration": 73,
    "start_time": "2022-01-02T14:46:53.983Z"
   },
   {
    "duration": 80,
    "start_time": "2022-01-02T14:46:54.059Z"
   },
   {
    "duration": 34,
    "start_time": "2022-01-02T14:46:54.141Z"
   },
   {
    "duration": 61,
    "start_time": "2022-01-02T14:46:54.178Z"
   },
   {
    "duration": 36,
    "start_time": "2022-01-02T14:46:54.241Z"
   },
   {
    "duration": 49,
    "start_time": "2022-01-02T14:46:54.280Z"
   },
   {
    "duration": 4377,
    "start_time": "2022-01-02T14:47:42.833Z"
   },
   {
    "duration": 4,
    "start_time": "2022-01-02T14:48:52.330Z"
   },
   {
    "duration": 611,
    "start_time": "2022-01-02T14:48:52.337Z"
   },
   {
    "duration": 108,
    "start_time": "2022-01-02T14:48:52.951Z"
   },
   {
    "duration": 6,
    "start_time": "2022-01-02T14:48:53.061Z"
   },
   {
    "duration": 22,
    "start_time": "2022-01-02T14:48:53.069Z"
   },
   {
    "duration": 67,
    "start_time": "2022-01-02T14:48:53.093Z"
   },
   {
    "duration": 92,
    "start_time": "2022-01-02T14:48:53.162Z"
   },
   {
    "duration": 35,
    "start_time": "2022-01-02T14:48:53.257Z"
   },
   {
    "duration": 57,
    "start_time": "2022-01-02T14:48:53.294Z"
   },
   {
    "duration": 35,
    "start_time": "2022-01-02T14:48:53.353Z"
   },
   {
    "duration": 9,
    "start_time": "2022-01-02T14:49:02.959Z"
   },
   {
    "duration": 345,
    "start_time": "2022-01-02T14:51:16.164Z"
   },
   {
    "duration": 13,
    "start_time": "2022-01-02T14:52:02.732Z"
   },
   {
    "duration": 25,
    "start_time": "2022-01-02T14:52:28.660Z"
   },
   {
    "duration": 4,
    "start_time": "2022-01-02T14:53:54.733Z"
   },
   {
    "duration": 613,
    "start_time": "2022-01-02T14:53:54.740Z"
   },
   {
    "duration": 110,
    "start_time": "2022-01-02T14:53:55.357Z"
   },
   {
    "duration": 7,
    "start_time": "2022-01-02T14:53:55.470Z"
   },
   {
    "duration": 14,
    "start_time": "2022-01-02T14:53:55.479Z"
   },
   {
    "duration": 83,
    "start_time": "2022-01-02T14:53:55.495Z"
   },
   {
    "duration": 91,
    "start_time": "2022-01-02T14:53:55.581Z"
   },
   {
    "duration": 58,
    "start_time": "2022-01-02T14:53:55.676Z"
   },
   {
    "duration": 51,
    "start_time": "2022-01-02T14:53:55.737Z"
   },
   {
    "duration": 64,
    "start_time": "2022-01-02T14:53:55.791Z"
   },
   {
    "duration": 26,
    "start_time": "2022-01-02T14:53:55.858Z"
   },
   {
    "duration": 109,
    "start_time": "2022-01-02T14:54:17.880Z"
   },
   {
    "duration": 46,
    "start_time": "2022-01-02T14:54:42.634Z"
   },
   {
    "duration": 44,
    "start_time": "2022-01-02T14:54:51.377Z"
   },
   {
    "duration": 43,
    "start_time": "2022-01-02T14:55:02.244Z"
   },
   {
    "duration": 41,
    "start_time": "2022-01-02T14:55:12.659Z"
   },
   {
    "duration": 5,
    "start_time": "2022-01-02T14:55:16.667Z"
   },
   {
    "duration": 588,
    "start_time": "2022-01-02T14:55:16.675Z"
   },
   {
    "duration": 128,
    "start_time": "2022-01-02T14:55:17.267Z"
   },
   {
    "duration": 6,
    "start_time": "2022-01-02T14:55:17.398Z"
   },
   {
    "duration": 24,
    "start_time": "2022-01-02T14:55:17.407Z"
   },
   {
    "duration": 90,
    "start_time": "2022-01-02T14:55:17.433Z"
   },
   {
    "duration": 59,
    "start_time": "2022-01-02T14:55:17.526Z"
   },
   {
    "duration": 60,
    "start_time": "2022-01-02T14:55:17.589Z"
   },
   {
    "duration": 42,
    "start_time": "2022-01-02T14:55:17.652Z"
   },
   {
    "duration": 57,
    "start_time": "2022-01-02T14:55:17.697Z"
   },
   {
    "duration": 24,
    "start_time": "2022-01-02T14:55:17.756Z"
   },
   {
    "duration": 26,
    "start_time": "2022-01-02T14:57:57.691Z"
   },
   {
    "duration": 26,
    "start_time": "2022-01-02T14:58:07.403Z"
   },
   {
    "duration": 27,
    "start_time": "2022-01-02T14:58:14.892Z"
   },
   {
    "duration": 422,
    "start_time": "2022-01-02T15:06:48.699Z"
   },
   {
    "duration": 28,
    "start_time": "2022-01-02T15:06:53.431Z"
   },
   {
    "duration": 5110,
    "start_time": "2022-01-02T15:08:06.840Z"
   },
   {
    "duration": 4,
    "start_time": "2022-01-02T15:09:02.101Z"
   },
   {
    "duration": 623,
    "start_time": "2022-01-02T15:09:02.108Z"
   },
   {
    "duration": 99,
    "start_time": "2022-01-02T15:09:02.734Z"
   },
   {
    "duration": 6,
    "start_time": "2022-01-02T15:09:02.835Z"
   },
   {
    "duration": 14,
    "start_time": "2022-01-02T15:09:02.843Z"
   },
   {
    "duration": 84,
    "start_time": "2022-01-02T15:09:02.860Z"
   },
   {
    "duration": 76,
    "start_time": "2022-01-02T15:09:02.947Z"
   },
   {
    "duration": 35,
    "start_time": "2022-01-02T15:09:03.027Z"
   },
   {
    "duration": 63,
    "start_time": "2022-01-02T15:09:03.065Z"
   },
   {
    "duration": 41,
    "start_time": "2022-01-02T15:09:03.130Z"
   },
   {
    "duration": 61,
    "start_time": "2022-01-02T15:09:03.174Z"
   },
   {
    "duration": 4455,
    "start_time": "2022-01-02T15:09:03.238Z"
   },
   {
    "duration": 9529,
    "start_time": "2022-01-02T15:09:20.084Z"
   },
   {
    "duration": 30,
    "start_time": "2022-01-02T15:12:27.313Z"
   },
   {
    "duration": 9526,
    "start_time": "2022-01-02T15:12:41.440Z"
   },
   {
    "duration": 31,
    "start_time": "2022-01-02T15:13:20.886Z"
   },
   {
    "duration": 9368,
    "start_time": "2022-01-02T15:13:22.452Z"
   },
   {
    "duration": 9715,
    "start_time": "2022-01-02T15:14:35.878Z"
   },
   {
    "duration": 567,
    "start_time": "2022-01-02T15:15:22.989Z"
   },
   {
    "duration": 6,
    "start_time": "2022-01-02T15:15:34.366Z"
   },
   {
    "duration": 588,
    "start_time": "2022-01-02T15:15:34.375Z"
   },
   {
    "duration": 118,
    "start_time": "2022-01-02T15:15:34.966Z"
   },
   {
    "duration": 7,
    "start_time": "2022-01-02T15:15:35.087Z"
   },
   {
    "duration": 27,
    "start_time": "2022-01-02T15:15:35.097Z"
   },
   {
    "duration": 62,
    "start_time": "2022-01-02T15:15:35.127Z"
   },
   {
    "duration": 58,
    "start_time": "2022-01-02T15:15:35.224Z"
   },
   {
    "duration": 57,
    "start_time": "2022-01-02T15:15:35.285Z"
   },
   {
    "duration": 45,
    "start_time": "2022-01-02T15:15:35.345Z"
   },
   {
    "duration": 58,
    "start_time": "2022-01-02T15:15:35.392Z"
   },
   {
    "duration": 31,
    "start_time": "2022-01-02T15:15:35.452Z"
   },
   {
    "duration": 902,
    "start_time": "2022-01-02T15:15:35.485Z"
   },
   {
    "duration": 27,
    "start_time": "2022-01-02T15:16:11.111Z"
   },
   {
    "duration": 579,
    "start_time": "2022-01-02T15:16:35.089Z"
   },
   {
    "duration": 32,
    "start_time": "2022-01-02T15:17:46.732Z"
   },
   {
    "duration": 591,
    "start_time": "2022-01-02T15:17:48.034Z"
   },
   {
    "duration": 584,
    "start_time": "2022-01-02T15:19:15.208Z"
   },
   {
    "duration": 4733,
    "start_time": "2022-01-02T15:19:36.638Z"
   },
   {
    "duration": 93,
    "start_time": "2022-01-02T15:25:51.031Z"
   },
   {
    "duration": 92,
    "start_time": "2022-01-02T15:26:52.497Z"
   },
   {
    "duration": 51,
    "start_time": "2022-01-02T15:28:26.380Z"
   },
   {
    "duration": 55,
    "start_time": "2022-01-02T15:29:04.527Z"
   },
   {
    "duration": 451,
    "start_time": "2022-01-02T15:31:13.386Z"
   },
   {
    "duration": 8738,
    "start_time": "2022-01-02T15:31:29.119Z"
   },
   {
    "duration": 7904,
    "start_time": "2022-01-02T15:32:18.629Z"
   },
   {
    "duration": 5,
    "start_time": "2022-01-02T15:32:29.536Z"
   },
   {
    "duration": 718,
    "start_time": "2022-01-02T15:32:29.544Z"
   },
   {
    "duration": 115,
    "start_time": "2022-01-02T15:32:30.265Z"
   },
   {
    "duration": 6,
    "start_time": "2022-01-02T15:32:30.384Z"
   },
   {
    "duration": 23,
    "start_time": "2022-01-02T15:32:30.393Z"
   },
   {
    "duration": 60,
    "start_time": "2022-01-02T15:32:30.424Z"
   },
   {
    "duration": 137,
    "start_time": "2022-01-02T15:32:30.487Z"
   },
   {
    "duration": 53,
    "start_time": "2022-01-02T15:32:30.628Z"
   },
   {
    "duration": 8093,
    "start_time": "2022-01-02T15:32:30.684Z"
   },
   {
    "duration": 6769,
    "start_time": "2022-01-02T15:32:32.011Z"
   },
   {
    "duration": 6766,
    "start_time": "2022-01-02T15:32:32.017Z"
   },
   {
    "duration": 6763,
    "start_time": "2022-01-02T15:32:32.022Z"
   },
   {
    "duration": 8301,
    "start_time": "2022-01-02T15:33:54.654Z"
   },
   {
    "duration": 129,
    "start_time": "2022-01-02T15:34:46.273Z"
   },
   {
    "duration": 36,
    "start_time": "2022-01-02T15:34:55.238Z"
   },
   {
    "duration": 56,
    "start_time": "2022-01-02T15:35:51.653Z"
   },
   {
    "duration": 8364,
    "start_time": "2022-01-02T15:36:34.076Z"
   },
   {
    "duration": 56,
    "start_time": "2022-01-02T15:37:05.519Z"
   },
   {
    "duration": 52,
    "start_time": "2022-01-02T15:37:27.585Z"
   },
   {
    "duration": 53,
    "start_time": "2022-01-02T15:38:12.243Z"
   },
   {
    "duration": 96,
    "start_time": "2022-01-02T15:38:36.029Z"
   },
   {
    "duration": 97,
    "start_time": "2022-01-02T15:39:11.146Z"
   },
   {
    "duration": 5,
    "start_time": "2022-01-02T15:41:58.941Z"
   },
   {
    "duration": 600,
    "start_time": "2022-01-02T15:41:58.948Z"
   },
   {
    "duration": 113,
    "start_time": "2022-01-02T15:41:59.551Z"
   },
   {
    "duration": 7,
    "start_time": "2022-01-02T15:41:59.667Z"
   },
   {
    "duration": 11,
    "start_time": "2022-01-02T15:41:59.676Z"
   },
   {
    "duration": 8,
    "start_time": "2022-01-02T15:41:59.689Z"
   },
   {
    "duration": 78,
    "start_time": "2022-01-02T15:41:59.699Z"
   },
   {
    "duration": 120,
    "start_time": "2022-01-02T15:41:59.780Z"
   },
   {
    "duration": 63,
    "start_time": "2022-01-02T15:41:59.903Z"
   },
   {
    "duration": 80,
    "start_time": "2022-01-02T15:41:59.968Z"
   },
   {
    "duration": 38,
    "start_time": "2022-01-02T15:42:00.050Z"
   },
   {
    "duration": 51,
    "start_time": "2022-01-02T15:42:00.090Z"
   },
   {
    "duration": 4623,
    "start_time": "2022-01-02T15:42:00.143Z"
   },
   {
    "duration": 5,
    "start_time": "2022-01-02T15:42:39.461Z"
   },
   {
    "duration": 583,
    "start_time": "2022-01-02T15:42:39.469Z"
   },
   {
    "duration": 113,
    "start_time": "2022-01-02T15:42:40.055Z"
   },
   {
    "duration": 6,
    "start_time": "2022-01-02T15:42:40.171Z"
   },
   {
    "duration": 13,
    "start_time": "2022-01-02T15:42:40.179Z"
   },
   {
    "duration": 29,
    "start_time": "2022-01-02T15:42:40.194Z"
   },
   {
    "duration": 58,
    "start_time": "2022-01-02T15:42:40.225Z"
   },
   {
    "duration": 114,
    "start_time": "2022-01-02T15:42:40.287Z"
   },
   {
    "duration": 71,
    "start_time": "2022-01-02T15:42:40.404Z"
   },
   {
    "duration": 69,
    "start_time": "2022-01-02T15:42:40.477Z"
   },
   {
    "duration": 44,
    "start_time": "2022-01-02T15:42:40.548Z"
   },
   {
    "duration": 47,
    "start_time": "2022-01-02T15:42:40.595Z"
   },
   {
    "duration": 5471,
    "start_time": "2022-01-02T15:42:40.644Z"
   },
   {
    "duration": 23,
    "start_time": "2022-01-02T15:49:53.463Z"
   },
   {
    "duration": 33,
    "start_time": "2022-01-02T15:51:38.975Z"
   },
   {
    "duration": 41,
    "start_time": "2022-01-02T15:53:13.751Z"
   },
   {
    "duration": 54,
    "start_time": "2022-01-02T15:56:46.127Z"
   },
   {
    "duration": 54,
    "start_time": "2022-01-02T15:57:11.413Z"
   },
   {
    "duration": 54,
    "start_time": "2022-01-02T15:57:21.978Z"
   },
   {
    "duration": 62,
    "start_time": "2022-01-02T15:58:33.409Z"
   },
   {
    "duration": 4393,
    "start_time": "2022-01-02T16:00:11.015Z"
   },
   {
    "duration": 5,
    "start_time": "2022-01-02T16:00:27.136Z"
   },
   {
    "duration": 584,
    "start_time": "2022-01-02T16:00:27.144Z"
   },
   {
    "duration": 101,
    "start_time": "2022-01-02T16:00:27.731Z"
   },
   {
    "duration": 6,
    "start_time": "2022-01-02T16:00:27.834Z"
   },
   {
    "duration": 12,
    "start_time": "2022-01-02T16:00:27.843Z"
   },
   {
    "duration": 11,
    "start_time": "2022-01-02T16:00:27.858Z"
   },
   {
    "duration": 80,
    "start_time": "2022-01-02T16:00:27.872Z"
   },
   {
    "duration": 110,
    "start_time": "2022-01-02T16:00:27.954Z"
   },
   {
    "duration": 77,
    "start_time": "2022-01-02T16:00:28.067Z"
   },
   {
    "duration": 84,
    "start_time": "2022-01-02T16:00:28.147Z"
   },
   {
    "duration": 73,
    "start_time": "2022-01-02T16:00:28.234Z"
   },
   {
    "duration": 61,
    "start_time": "2022-01-02T16:00:28.323Z"
   },
   {
    "duration": 4400,
    "start_time": "2022-01-02T16:00:28.387Z"
   },
   {
    "duration": 271,
    "start_time": "2022-01-02T16:02:54.384Z"
   },
   {
    "duration": 255,
    "start_time": "2022-01-02T16:03:12.716Z"
   },
   {
    "duration": 310,
    "start_time": "2022-01-02T16:03:24.865Z"
   },
   {
    "duration": 85,
    "start_time": "2022-01-02T16:07:11.090Z"
   },
   {
    "duration": 53,
    "start_time": "2022-01-02T16:07:56.163Z"
   },
   {
    "duration": 53,
    "start_time": "2022-01-02T16:09:31.500Z"
   },
   {
    "duration": 57,
    "start_time": "2022-01-02T16:10:29.856Z"
   },
   {
    "duration": 4,
    "start_time": "2022-01-02T16:15:53.561Z"
   },
   {
    "duration": 583,
    "start_time": "2022-01-02T16:15:53.568Z"
   },
   {
    "duration": 113,
    "start_time": "2022-01-02T16:15:54.155Z"
   },
   {
    "duration": 5,
    "start_time": "2022-01-02T16:15:54.271Z"
   },
   {
    "duration": 12,
    "start_time": "2022-01-02T16:15:54.279Z"
   },
   {
    "duration": 9,
    "start_time": "2022-01-02T16:15:54.294Z"
   },
   {
    "duration": 54,
    "start_time": "2022-01-02T16:15:54.323Z"
   },
   {
    "duration": 120,
    "start_time": "2022-01-02T16:15:54.380Z"
   },
   {
    "duration": 62,
    "start_time": "2022-01-02T16:15:54.502Z"
   },
   {
    "duration": 71,
    "start_time": "2022-01-02T16:15:54.566Z"
   },
   {
    "duration": 49,
    "start_time": "2022-01-02T16:15:54.640Z"
   },
   {
    "duration": 77,
    "start_time": "2022-01-02T16:15:54.692Z"
   },
   {
    "duration": 256,
    "start_time": "2022-01-02T16:15:54.771Z"
   },
   {
    "duration": 314,
    "start_time": "2022-01-02T16:18:58.768Z"
   },
   {
    "duration": 21,
    "start_time": "2022-01-02T16:19:05.717Z"
   },
   {
    "duration": 13,
    "start_time": "2022-01-02T16:20:12.933Z"
   },
   {
    "duration": 334,
    "start_time": "2022-01-02T16:22:01.749Z"
   },
   {
    "duration": 8,
    "start_time": "2022-01-02T16:22:13.229Z"
   },
   {
    "duration": 336,
    "start_time": "2022-01-02T16:29:09.000Z"
   },
   {
    "duration": 319,
    "start_time": "2022-01-02T16:29:19.468Z"
   },
   {
    "duration": 504,
    "start_time": "2022-01-02T16:29:36.657Z"
   },
   {
    "duration": 202,
    "start_time": "2022-01-02T16:31:10.621Z"
   },
   {
    "duration": 523,
    "start_time": "2022-01-02T16:33:48.644Z"
   },
   {
    "duration": 268,
    "start_time": "2022-01-02T16:34:28.192Z"
   },
   {
    "duration": 14,
    "start_time": "2022-01-02T16:38:51.242Z"
   },
   {
    "duration": 195,
    "start_time": "2022-01-02T16:39:33.375Z"
   },
   {
    "duration": 190,
    "start_time": "2022-01-02T16:39:50.381Z"
   },
   {
    "duration": 566,
    "start_time": "2022-01-02T16:44:12.410Z"
   },
   {
    "duration": 255,
    "start_time": "2022-01-02T16:44:32.079Z"
   },
   {
    "duration": 5,
    "start_time": "2022-01-02T16:45:01.538Z"
   },
   {
    "duration": 623,
    "start_time": "2022-01-02T16:45:01.546Z"
   },
   {
    "duration": 113,
    "start_time": "2022-01-02T16:45:02.172Z"
   },
   {
    "duration": 6,
    "start_time": "2022-01-02T16:45:02.287Z"
   },
   {
    "duration": 13,
    "start_time": "2022-01-02T16:45:02.295Z"
   },
   {
    "duration": 8,
    "start_time": "2022-01-02T16:45:02.323Z"
   },
   {
    "duration": 63,
    "start_time": "2022-01-02T16:45:02.334Z"
   },
   {
    "duration": 99,
    "start_time": "2022-01-02T16:45:02.424Z"
   },
   {
    "duration": 53,
    "start_time": "2022-01-02T16:45:02.526Z"
   },
   {
    "duration": 78,
    "start_time": "2022-01-02T16:45:02.581Z"
   },
   {
    "duration": 62,
    "start_time": "2022-01-02T16:45:02.661Z"
   },
   {
    "duration": 54,
    "start_time": "2022-01-02T16:45:02.725Z"
   },
   {
    "duration": 269,
    "start_time": "2022-01-02T16:45:02.782Z"
   },
   {
    "duration": 8240,
    "start_time": "2022-01-02T16:45:03.053Z"
   },
   {
    "duration": 6776,
    "start_time": "2022-01-02T16:45:04.519Z"
   },
   {
    "duration": 6770,
    "start_time": "2022-01-02T16:45:04.527Z"
   },
   {
    "duration": 6767,
    "start_time": "2022-01-02T16:45:04.531Z"
   },
   {
    "duration": 6765,
    "start_time": "2022-01-02T16:45:04.534Z"
   },
   {
    "duration": 14,
    "start_time": "2022-01-02T16:45:21.132Z"
   },
   {
    "duration": 7,
    "start_time": "2022-01-02T16:45:27.912Z"
   },
   {
    "duration": 274,
    "start_time": "2022-01-02T16:45:34.936Z"
   },
   {
    "duration": 15,
    "start_time": "2022-01-02T16:45:42.525Z"
   },
   {
    "duration": 200,
    "start_time": "2022-01-02T16:45:45.753Z"
   },
   {
    "duration": 234,
    "start_time": "2022-01-02T16:57:05.781Z"
   },
   {
    "duration": 1536,
    "start_time": "2022-01-03T13:05:50.051Z"
   },
   {
    "duration": 729,
    "start_time": "2022-01-03T13:05:51.590Z"
   },
   {
    "duration": 205,
    "start_time": "2022-01-03T13:05:52.324Z"
   },
   {
    "duration": 9,
    "start_time": "2022-01-03T13:05:52.533Z"
   },
   {
    "duration": 36,
    "start_time": "2022-01-03T13:05:52.545Z"
   },
   {
    "duration": 12,
    "start_time": "2022-01-03T13:05:52.584Z"
   },
   {
    "duration": 101,
    "start_time": "2022-01-03T13:05:52.600Z"
   },
   {
    "duration": 160,
    "start_time": "2022-01-03T13:05:52.704Z"
   },
   {
    "duration": 65,
    "start_time": "2022-01-03T13:05:52.869Z"
   },
   {
    "duration": 97,
    "start_time": "2022-01-03T13:05:52.937Z"
   },
   {
    "duration": 92,
    "start_time": "2022-01-03T13:05:53.036Z"
   },
   {
    "duration": 76,
    "start_time": "2022-01-03T13:05:53.131Z"
   },
   {
    "duration": 303,
    "start_time": "2022-01-03T13:05:53.210Z"
   },
   {
    "duration": 30,
    "start_time": "2022-01-03T13:05:53.516Z"
   },
   {
    "duration": 26,
    "start_time": "2022-01-03T13:06:13.895Z"
   },
   {
    "duration": 21,
    "start_time": "2022-01-03T13:06:26.560Z"
   },
   {
    "duration": 2615,
    "start_time": "2022-01-03T13:09:46.783Z"
   },
   {
    "duration": 6799,
    "start_time": "2022-01-03T13:12:21.073Z"
   },
   {
    "duration": 2800,
    "start_time": "2022-01-03T13:12:46.749Z"
   },
   {
    "duration": 7744,
    "start_time": "2022-01-03T13:19:33.902Z"
   },
   {
    "duration": 791,
    "start_time": "2022-01-03T13:22:44.035Z"
   },
   {
    "duration": 9,
    "start_time": "2022-01-03T13:26:06.679Z"
   },
   {
    "duration": 13,
    "start_time": "2022-01-03T13:27:35.615Z"
   },
   {
    "duration": 267,
    "start_time": "2022-01-03T13:29:13.328Z"
   },
   {
    "duration": 255,
    "start_time": "2022-01-03T13:29:25.238Z"
   },
   {
    "duration": 85,
    "start_time": "2022-01-03T13:32:49.255Z"
   },
   {
    "duration": 245,
    "start_time": "2022-01-03T13:33:09.842Z"
   },
   {
    "duration": 80,
    "start_time": "2022-01-03T13:33:20.136Z"
   },
   {
    "duration": 89,
    "start_time": "2022-01-03T13:33:22.946Z"
   },
   {
    "duration": 245,
    "start_time": "2022-01-03T13:33:26.882Z"
   },
   {
    "duration": 452,
    "start_time": "2022-01-03T13:33:52.329Z"
   },
   {
    "duration": 261,
    "start_time": "2022-01-03T13:34:35.645Z"
   },
   {
    "duration": 268,
    "start_time": "2022-01-03T13:35:27.517Z"
   },
   {
    "duration": 259,
    "start_time": "2022-01-03T13:35:42.804Z"
   },
   {
    "duration": 257,
    "start_time": "2022-01-03T13:36:37.619Z"
   },
   {
    "duration": 271,
    "start_time": "2022-01-03T13:36:50.125Z"
   },
   {
    "duration": 299,
    "start_time": "2022-01-03T13:37:05.557Z"
   },
   {
    "duration": 278,
    "start_time": "2022-01-03T13:37:28.969Z"
   },
   {
    "duration": 43,
    "start_time": "2022-01-03T13:38:18.317Z"
   },
   {
    "duration": 71,
    "start_time": "2022-01-03T13:39:02.240Z"
   },
   {
    "duration": 83,
    "start_time": "2022-01-03T13:40:05.277Z"
   },
   {
    "duration": 102,
    "start_time": "2022-01-03T13:40:21.076Z"
   },
   {
    "duration": 82,
    "start_time": "2022-01-03T13:40:28.851Z"
   },
   {
    "duration": 103,
    "start_time": "2022-01-03T13:40:39.369Z"
   },
   {
    "duration": 46,
    "start_time": "2022-01-03T13:41:06.329Z"
   },
   {
    "duration": 42,
    "start_time": "2022-01-03T13:42:05.622Z"
   },
   {
    "duration": 47,
    "start_time": "2022-01-03T13:42:08.517Z"
   },
   {
    "duration": 41,
    "start_time": "2022-01-03T13:42:42.160Z"
   },
   {
    "duration": 47,
    "start_time": "2022-01-03T13:42:44.085Z"
   },
   {
    "duration": 496,
    "start_time": "2022-01-03T13:43:33.531Z"
   },
   {
    "duration": 40,
    "start_time": "2022-01-03T13:43:48.289Z"
   },
   {
    "duration": 293,
    "start_time": "2022-01-03T13:45:01.629Z"
   },
   {
    "duration": 128,
    "start_time": "2022-01-03T13:45:39.742Z"
   },
   {
    "duration": 948,
    "start_time": "2022-01-03T13:45:39.873Z"
   },
   {
    "duration": 219,
    "start_time": "2022-01-03T13:45:40.826Z"
   },
   {
    "duration": 14,
    "start_time": "2022-01-03T13:45:41.049Z"
   },
   {
    "duration": 17,
    "start_time": "2022-01-03T13:45:41.066Z"
   },
   {
    "duration": 11,
    "start_time": "2022-01-03T13:45:41.087Z"
   },
   {
    "duration": 107,
    "start_time": "2022-01-03T13:45:41.101Z"
   },
   {
    "duration": 134,
    "start_time": "2022-01-03T13:45:41.212Z"
   },
   {
    "duration": 65,
    "start_time": "2022-01-03T13:45:41.349Z"
   },
   {
    "duration": 98,
    "start_time": "2022-01-03T13:45:41.417Z"
   },
   {
    "duration": 75,
    "start_time": "2022-01-03T13:45:41.517Z"
   },
   {
    "duration": 70,
    "start_time": "2022-01-03T13:45:41.594Z"
   },
   {
    "duration": 280,
    "start_time": "2022-01-03T13:45:41.667Z"
   },
   {
    "duration": 816,
    "start_time": "2022-01-03T13:45:41.950Z"
   },
   {
    "duration": 8,
    "start_time": "2022-01-03T13:45:42.769Z"
   },
   {
    "duration": 40,
    "start_time": "2022-01-03T13:45:42.780Z"
   },
   {
    "duration": 281,
    "start_time": "2022-01-03T13:45:42.824Z"
   },
   {
    "duration": 1422,
    "start_time": "2022-01-03T13:46:06.215Z"
   },
   {
    "duration": 271,
    "start_time": "2022-01-03T13:49:10.374Z"
   },
   {
    "duration": 244,
    "start_time": "2022-01-03T13:49:43.814Z"
   },
   {
    "duration": 244,
    "start_time": "2022-01-03T13:49:57.136Z"
   },
   {
    "duration": 261,
    "start_time": "2022-01-03T13:50:06.872Z"
   },
   {
    "duration": 715,
    "start_time": "2022-01-03T13:50:15.433Z"
   },
   {
    "duration": 241,
    "start_time": "2022-01-03T13:51:14.530Z"
   },
   {
    "duration": 246,
    "start_time": "2022-01-03T13:51:21.927Z"
   },
   {
    "duration": 654,
    "start_time": "2022-01-03T13:52:05.656Z"
   },
   {
    "duration": 419,
    "start_time": "2022-01-03T14:11:31.627Z"
   },
   {
    "duration": 1530,
    "start_time": "2022-01-03T14:11:59.338Z"
   },
   {
    "duration": 1460,
    "start_time": "2022-01-03T14:12:36.459Z"
   },
   {
    "duration": 351,
    "start_time": "2022-01-03T14:16:31.802Z"
   },
   {
    "duration": 214,
    "start_time": "2022-01-03T14:17:15.872Z"
   },
   {
    "duration": 1480,
    "start_time": "2022-01-03T14:18:54.849Z"
   },
   {
    "duration": 246,
    "start_time": "2022-01-03T14:20:52.900Z"
   },
   {
    "duration": 17,
    "start_time": "2022-01-03T14:21:12.706Z"
   },
   {
    "duration": 251,
    "start_time": "2022-01-03T14:23:23.610Z"
   },
   {
    "duration": 375,
    "start_time": "2022-01-03T14:24:49.242Z"
   },
   {
    "duration": 1706,
    "start_time": "2022-01-03T14:28:26.509Z"
   },
   {
    "duration": 1711,
    "start_time": "2022-01-03T14:28:51.683Z"
   },
   {
    "duration": 1762,
    "start_time": "2022-01-03T14:29:00.263Z"
   },
   {
    "duration": 1643,
    "start_time": "2022-01-03T14:30:42.603Z"
   },
   {
    "duration": 1813,
    "start_time": "2022-01-03T14:30:55.722Z"
   },
   {
    "duration": 1453,
    "start_time": "2022-01-03T14:33:35.314Z"
   },
   {
    "duration": 1744,
    "start_time": "2022-01-03T14:34:30.203Z"
   },
   {
    "duration": 1840,
    "start_time": "2022-01-03T14:35:58.770Z"
   },
   {
    "duration": 727,
    "start_time": "2022-01-03T14:38:46.151Z"
   },
   {
    "duration": 2030,
    "start_time": "2022-01-03T14:40:16.221Z"
   },
   {
    "duration": 2008,
    "start_time": "2022-01-03T14:41:02.291Z"
   },
   {
    "duration": 2171,
    "start_time": "2022-01-03T14:41:18.264Z"
   },
   {
    "duration": 2031,
    "start_time": "2022-01-03T14:41:35.920Z"
   },
   {
    "duration": 2206,
    "start_time": "2022-01-03T14:41:43.503Z"
   },
   {
    "duration": 2337,
    "start_time": "2022-01-03T14:42:47.668Z"
   },
   {
    "duration": 2361,
    "start_time": "2022-01-03T14:43:08.468Z"
   },
   {
    "duration": 306,
    "start_time": "2022-01-03T14:50:36.412Z"
   },
   {
    "duration": 248,
    "start_time": "2022-01-03T15:04:11.210Z"
   },
   {
    "duration": 258,
    "start_time": "2022-01-03T15:04:39.102Z"
   },
   {
    "duration": 602,
    "start_time": "2022-01-03T15:05:25.288Z"
   },
   {
    "duration": 509,
    "start_time": "2022-01-03T15:05:37.115Z"
   },
   {
    "duration": 493,
    "start_time": "2022-01-03T15:06:24.874Z"
   },
   {
    "duration": 240,
    "start_time": "2022-01-03T15:06:58.727Z"
   },
   {
    "duration": 519,
    "start_time": "2022-01-03T15:10:38.449Z"
   },
   {
    "duration": 183,
    "start_time": "2022-01-03T15:11:02.010Z"
   },
   {
    "duration": 86,
    "start_time": "2022-01-03T15:11:14.395Z"
   },
   {
    "duration": 524,
    "start_time": "2022-01-03T15:11:20.968Z"
   },
   {
    "duration": 479,
    "start_time": "2022-01-03T15:11:49.406Z"
   },
   {
    "duration": 695,
    "start_time": "2022-01-03T15:12:54.590Z"
   },
   {
    "duration": 489,
    "start_time": "2022-01-03T15:13:27.255Z"
   },
   {
    "duration": 593,
    "start_time": "2022-01-03T15:14:03.772Z"
   },
   {
    "duration": 509,
    "start_time": "2022-01-03T15:15:05.792Z"
   },
   {
    "duration": 242,
    "start_time": "2022-01-03T15:44:06.967Z"
   },
   {
    "duration": 245,
    "start_time": "2022-01-03T15:44:17.629Z"
   },
   {
    "duration": 234,
    "start_time": "2022-01-03T15:44:27.531Z"
   },
   {
    "duration": 247,
    "start_time": "2022-01-03T15:44:32.777Z"
   },
   {
    "duration": 12,
    "start_time": "2022-01-03T15:44:45.716Z"
   },
   {
    "duration": 809,
    "start_time": "2022-01-03T15:46:50.089Z"
   },
   {
    "duration": 265,
    "start_time": "2022-01-03T15:47:27.412Z"
   },
   {
    "duration": 811,
    "start_time": "2022-01-03T15:48:03.884Z"
   },
   {
    "duration": 871,
    "start_time": "2022-01-03T15:48:28.969Z"
   },
   {
    "duration": 877,
    "start_time": "2022-01-03T15:49:01.212Z"
   },
   {
    "duration": 5,
    "start_time": "2022-01-03T15:49:39.048Z"
   },
   {
    "duration": 863,
    "start_time": "2022-01-03T15:49:39.056Z"
   },
   {
    "duration": 133,
    "start_time": "2022-01-03T15:49:39.923Z"
   },
   {
    "duration": 8,
    "start_time": "2022-01-03T15:49:40.064Z"
   },
   {
    "duration": 15,
    "start_time": "2022-01-03T15:49:40.076Z"
   },
   {
    "duration": 11,
    "start_time": "2022-01-03T15:49:40.094Z"
   },
   {
    "duration": 116,
    "start_time": "2022-01-03T15:49:40.108Z"
   },
   {
    "duration": 163,
    "start_time": "2022-01-03T15:49:40.230Z"
   },
   {
    "duration": 102,
    "start_time": "2022-01-03T15:49:40.398Z"
   },
   {
    "duration": 100,
    "start_time": "2022-01-03T15:49:40.503Z"
   },
   {
    "duration": 104,
    "start_time": "2022-01-03T15:49:40.606Z"
   },
   {
    "duration": 110,
    "start_time": "2022-01-03T15:49:40.713Z"
   },
   {
    "duration": 294,
    "start_time": "2022-01-03T15:49:40.826Z"
   },
   {
    "duration": 841,
    "start_time": "2022-01-03T15:49:41.123Z"
   },
   {
    "duration": 284,
    "start_time": "2022-01-03T15:49:41.967Z"
   },
   {
    "duration": -598,
    "start_time": "2022-01-03T15:49:42.853Z"
   },
   {
    "duration": -600,
    "start_time": "2022-01-03T15:49:42.857Z"
   },
   {
    "duration": -601,
    "start_time": "2022-01-03T15:49:42.860Z"
   },
   {
    "duration": -603,
    "start_time": "2022-01-03T15:49:42.864Z"
   },
   {
    "duration": -604,
    "start_time": "2022-01-03T15:49:42.867Z"
   },
   {
    "duration": -604,
    "start_time": "2022-01-03T15:49:42.870Z"
   },
   {
    "duration": 5,
    "start_time": "2022-01-03T15:50:31.314Z"
   },
   {
    "duration": 693,
    "start_time": "2022-01-03T15:50:31.322Z"
   },
   {
    "duration": 124,
    "start_time": "2022-01-03T15:50:32.019Z"
   },
   {
    "duration": 6,
    "start_time": "2022-01-03T15:50:32.146Z"
   },
   {
    "duration": 22,
    "start_time": "2022-01-03T15:50:32.155Z"
   },
   {
    "duration": 9,
    "start_time": "2022-01-03T15:50:32.181Z"
   },
   {
    "duration": 94,
    "start_time": "2022-01-03T15:50:32.193Z"
   },
   {
    "duration": 116,
    "start_time": "2022-01-03T15:50:32.290Z"
   },
   {
    "duration": 75,
    "start_time": "2022-01-03T15:50:32.412Z"
   },
   {
    "duration": 83,
    "start_time": "2022-01-03T15:50:32.489Z"
   },
   {
    "duration": 56,
    "start_time": "2022-01-03T15:50:32.575Z"
   },
   {
    "duration": 81,
    "start_time": "2022-01-03T15:50:32.633Z"
   },
   {
    "duration": 288,
    "start_time": "2022-01-03T15:50:32.717Z"
   },
   {
    "duration": 851,
    "start_time": "2022-01-03T15:50:33.007Z"
   },
   {
    "duration": 47,
    "start_time": "2022-01-03T15:50:33.863Z"
   },
   {
    "duration": 2218,
    "start_time": "2022-01-03T15:50:33.912Z"
   },
   {
    "duration": 540,
    "start_time": "2022-01-03T15:50:36.132Z"
   },
   {
    "duration": 679,
    "start_time": "2022-01-03T15:50:36.675Z"
   },
   {
    "duration": -524,
    "start_time": "2022-01-03T15:50:37.880Z"
   },
   {
    "duration": -521,
    "start_time": "2022-01-03T15:50:37.883Z"
   },
   {
    "duration": -522,
    "start_time": "2022-01-03T15:50:37.886Z"
   },
   {
    "duration": 6,
    "start_time": "2022-01-03T15:52:05.954Z"
   },
   {
    "duration": 728,
    "start_time": "2022-01-03T15:52:05.965Z"
   },
   {
    "duration": 131,
    "start_time": "2022-01-03T15:52:06.697Z"
   },
   {
    "duration": 7,
    "start_time": "2022-01-03T15:52:06.831Z"
   },
   {
    "duration": 32,
    "start_time": "2022-01-03T15:52:06.841Z"
   },
   {
    "duration": 10,
    "start_time": "2022-01-03T15:52:06.876Z"
   },
   {
    "duration": 93,
    "start_time": "2022-01-03T15:52:06.888Z"
   },
   {
    "duration": 116,
    "start_time": "2022-01-03T15:52:06.984Z"
   },
   {
    "duration": 73,
    "start_time": "2022-01-03T15:52:07.103Z"
   },
   {
    "duration": 67,
    "start_time": "2022-01-03T15:52:07.179Z"
   },
   {
    "duration": 58,
    "start_time": "2022-01-03T15:52:07.263Z"
   },
   {
    "duration": 84,
    "start_time": "2022-01-03T15:52:07.324Z"
   },
   {
    "duration": 285,
    "start_time": "2022-01-03T15:52:07.411Z"
   },
   {
    "duration": 845,
    "start_time": "2022-01-03T15:52:07.699Z"
   },
   {
    "duration": 55,
    "start_time": "2022-01-03T15:52:08.546Z"
   },
   {
    "duration": 2315,
    "start_time": "2022-01-03T15:52:08.603Z"
   },
   {
    "duration": 533,
    "start_time": "2022-01-03T15:52:10.920Z"
   },
   {
    "duration": 485,
    "start_time": "2022-01-03T15:52:11.466Z"
   },
   {
    "duration": 511,
    "start_time": "2022-01-03T15:52:11.954Z"
   },
   {
    "duration": 998,
    "start_time": "2022-01-03T15:52:12.468Z"
   },
   {
    "duration": 11,
    "start_time": "2022-01-03T15:52:13.469Z"
   },
   {
    "duration": 4,
    "start_time": "2022-01-03T15:54:34.837Z"
   },
   {
    "duration": 721,
    "start_time": "2022-01-03T15:54:34.844Z"
   },
   {
    "duration": 115,
    "start_time": "2022-01-03T15:54:35.568Z"
   },
   {
    "duration": 6,
    "start_time": "2022-01-03T15:54:35.686Z"
   },
   {
    "duration": 16,
    "start_time": "2022-01-03T15:54:35.695Z"
   },
   {
    "duration": 9,
    "start_time": "2022-01-03T15:54:35.713Z"
   },
   {
    "duration": 95,
    "start_time": "2022-01-03T15:54:35.725Z"
   },
   {
    "duration": 112,
    "start_time": "2022-01-03T15:54:35.823Z"
   },
   {
    "duration": 71,
    "start_time": "2022-01-03T15:54:35.937Z"
   },
   {
    "duration": 74,
    "start_time": "2022-01-03T15:54:36.011Z"
   },
   {
    "duration": 55,
    "start_time": "2022-01-03T15:54:36.087Z"
   },
   {
    "duration": 82,
    "start_time": "2022-01-03T15:54:36.144Z"
   },
   {
    "duration": 299,
    "start_time": "2022-01-03T15:54:36.228Z"
   },
   {
    "duration": 854,
    "start_time": "2022-01-03T15:54:36.530Z"
   },
   {
    "duration": 40,
    "start_time": "2022-01-03T15:54:37.387Z"
   },
   {
    "duration": 2102,
    "start_time": "2022-01-03T15:54:37.429Z"
   },
   {
    "duration": 507,
    "start_time": "2022-01-03T15:54:39.534Z"
   },
   {
    "duration": 668,
    "start_time": "2022-01-03T15:54:40.043Z"
   },
   {
    "duration": -543,
    "start_time": "2022-01-03T15:54:41.256Z"
   },
   {
    "duration": -545,
    "start_time": "2022-01-03T15:54:41.260Z"
   },
   {
    "duration": -545,
    "start_time": "2022-01-03T15:54:41.261Z"
   },
   {
    "duration": 841,
    "start_time": "2022-01-03T15:55:01.085Z"
   },
   {
    "duration": 834,
    "start_time": "2022-01-03T15:57:12.011Z"
   },
   {
    "duration": 5,
    "start_time": "2022-01-03T16:00:18.304Z"
   },
   {
    "duration": 683,
    "start_time": "2022-01-03T16:00:18.312Z"
   },
   {
    "duration": 131,
    "start_time": "2022-01-03T16:00:18.998Z"
   },
   {
    "duration": 6,
    "start_time": "2022-01-03T16:00:19.132Z"
   },
   {
    "duration": 30,
    "start_time": "2022-01-03T16:00:19.141Z"
   },
   {
    "duration": 13,
    "start_time": "2022-01-03T16:00:19.173Z"
   },
   {
    "duration": 84,
    "start_time": "2022-01-03T16:00:19.189Z"
   },
   {
    "duration": 117,
    "start_time": "2022-01-03T16:00:19.277Z"
   },
   {
    "duration": 72,
    "start_time": "2022-01-03T16:00:19.397Z"
   },
   {
    "duration": 62,
    "start_time": "2022-01-03T16:00:19.472Z"
   },
   {
    "duration": 74,
    "start_time": "2022-01-03T16:00:19.537Z"
   },
   {
    "duration": 84,
    "start_time": "2022-01-03T16:00:19.614Z"
   },
   {
    "duration": 268,
    "start_time": "2022-01-03T16:00:19.700Z"
   },
   {
    "duration": 824,
    "start_time": "2022-01-03T16:00:19.971Z"
   },
   {
    "duration": 261,
    "start_time": "2022-01-03T16:00:20.798Z"
   },
   {
    "duration": -572,
    "start_time": "2022-01-03T16:00:21.634Z"
   },
   {
    "duration": -581,
    "start_time": "2022-01-03T16:00:21.644Z"
   },
   {
    "duration": -584,
    "start_time": "2022-01-03T16:00:21.649Z"
   },
   {
    "duration": -588,
    "start_time": "2022-01-03T16:00:21.654Z"
   },
   {
    "duration": -588,
    "start_time": "2022-01-03T16:00:21.656Z"
   },
   {
    "duration": -589,
    "start_time": "2022-01-03T16:00:21.658Z"
   },
   {
    "duration": 8,
    "start_time": "2022-01-03T16:04:22.546Z"
   },
   {
    "duration": 677,
    "start_time": "2022-01-03T16:04:22.557Z"
   },
   {
    "duration": 136,
    "start_time": "2022-01-03T16:04:23.237Z"
   },
   {
    "duration": 9,
    "start_time": "2022-01-03T16:04:23.376Z"
   },
   {
    "duration": 17,
    "start_time": "2022-01-03T16:04:23.388Z"
   },
   {
    "duration": 11,
    "start_time": "2022-01-03T16:04:23.408Z"
   },
   {
    "duration": 131,
    "start_time": "2022-01-03T16:04:23.422Z"
   },
   {
    "duration": 113,
    "start_time": "2022-01-03T16:04:23.570Z"
   },
   {
    "duration": 56,
    "start_time": "2022-01-03T16:04:23.686Z"
   },
   {
    "duration": 80,
    "start_time": "2022-01-03T16:04:23.745Z"
   },
   {
    "duration": 80,
    "start_time": "2022-01-03T16:04:23.828Z"
   },
   {
    "duration": 76,
    "start_time": "2022-01-03T16:04:23.911Z"
   },
   {
    "duration": 354,
    "start_time": "2022-01-03T16:04:23.989Z"
   },
   {
    "duration": 910,
    "start_time": "2022-01-03T16:04:24.346Z"
   },
   {
    "duration": 290,
    "start_time": "2022-01-03T16:04:25.262Z"
   },
   {
    "duration": -517,
    "start_time": "2022-01-03T16:04:26.071Z"
   },
   {
    "duration": -520,
    "start_time": "2022-01-03T16:04:26.076Z"
   },
   {
    "duration": -522,
    "start_time": "2022-01-03T16:04:26.079Z"
   },
   {
    "duration": -523,
    "start_time": "2022-01-03T16:04:26.081Z"
   },
   {
    "duration": -523,
    "start_time": "2022-01-03T16:04:26.084Z"
   },
   {
    "duration": -524,
    "start_time": "2022-01-03T16:04:26.086Z"
   },
   {
    "duration": 6,
    "start_time": "2022-01-03T16:04:59.002Z"
   },
   {
    "duration": 807,
    "start_time": "2022-01-03T16:04:59.011Z"
   },
   {
    "duration": 138,
    "start_time": "2022-01-03T16:04:59.823Z"
   },
   {
    "duration": 6,
    "start_time": "2022-01-03T16:04:59.964Z"
   },
   {
    "duration": 15,
    "start_time": "2022-01-03T16:04:59.973Z"
   },
   {
    "duration": 14,
    "start_time": "2022-01-03T16:04:59.991Z"
   },
   {
    "duration": 92,
    "start_time": "2022-01-03T16:05:00.008Z"
   },
   {
    "duration": 128,
    "start_time": "2022-01-03T16:05:00.102Z"
   },
   {
    "duration": 74,
    "start_time": "2022-01-03T16:05:00.234Z"
   },
   {
    "duration": 82,
    "start_time": "2022-01-03T16:05:00.311Z"
   },
   {
    "duration": 80,
    "start_time": "2022-01-03T16:05:00.396Z"
   },
   {
    "duration": 63,
    "start_time": "2022-01-03T16:05:00.479Z"
   },
   {
    "duration": 311,
    "start_time": "2022-01-03T16:05:00.545Z"
   },
   {
    "duration": 851,
    "start_time": "2022-01-03T16:05:00.862Z"
   },
   {
    "duration": 273,
    "start_time": "2022-01-03T16:05:01.715Z"
   },
   {
    "duration": -525,
    "start_time": "2022-01-03T16:05:02.516Z"
   },
   {
    "duration": -530,
    "start_time": "2022-01-03T16:05:02.522Z"
   },
   {
    "duration": -532,
    "start_time": "2022-01-03T16:05:02.525Z"
   },
   {
    "duration": -539,
    "start_time": "2022-01-03T16:05:02.534Z"
   },
   {
    "duration": -542,
    "start_time": "2022-01-03T16:05:02.538Z"
   },
   {
    "duration": -544,
    "start_time": "2022-01-03T16:05:02.541Z"
   },
   {
    "duration": 5,
    "start_time": "2022-01-03T16:06:15.613Z"
   },
   {
    "duration": 761,
    "start_time": "2022-01-03T16:06:15.621Z"
   },
   {
    "duration": 115,
    "start_time": "2022-01-03T16:06:16.386Z"
   },
   {
    "duration": 7,
    "start_time": "2022-01-03T16:06:16.504Z"
   },
   {
    "duration": 14,
    "start_time": "2022-01-03T16:06:16.514Z"
   },
   {
    "duration": 11,
    "start_time": "2022-01-03T16:06:16.531Z"
   },
   {
    "duration": 106,
    "start_time": "2022-01-03T16:06:16.563Z"
   },
   {
    "duration": 110,
    "start_time": "2022-01-03T16:06:16.677Z"
   },
   {
    "duration": 73,
    "start_time": "2022-01-03T16:06:16.790Z"
   },
   {
    "duration": 65,
    "start_time": "2022-01-03T16:06:16.870Z"
   },
   {
    "duration": 76,
    "start_time": "2022-01-03T16:06:16.937Z"
   },
   {
    "duration": 74,
    "start_time": "2022-01-03T16:06:17.015Z"
   },
   {
    "duration": 296,
    "start_time": "2022-01-03T16:06:17.092Z"
   },
   {
    "duration": 932,
    "start_time": "2022-01-03T16:06:17.391Z"
   },
   {
    "duration": 57,
    "start_time": "2022-01-03T16:06:18.325Z"
   },
   {
    "duration": 2364,
    "start_time": "2022-01-03T16:06:18.384Z"
   },
   {
    "duration": 514,
    "start_time": "2022-01-03T16:06:20.751Z"
   },
   {
    "duration": 588,
    "start_time": "2022-01-03T16:06:21.268Z"
   },
   {
    "duration": -529,
    "start_time": "2022-01-03T16:06:22.387Z"
   },
   {
    "duration": -535,
    "start_time": "2022-01-03T16:06:22.397Z"
   },
   {
    "duration": -537,
    "start_time": "2022-01-03T16:06:22.401Z"
   },
   {
    "duration": 13,
    "start_time": "2022-01-03T16:06:46.059Z"
   },
   {
    "duration": 6,
    "start_time": "2022-01-03T16:06:56.546Z"
   },
   {
    "duration": 651,
    "start_time": "2022-01-03T16:06:56.554Z"
   },
   {
    "duration": 123,
    "start_time": "2022-01-03T16:06:57.208Z"
   },
   {
    "duration": 7,
    "start_time": "2022-01-03T16:06:57.333Z"
   },
   {
    "duration": 33,
    "start_time": "2022-01-03T16:06:57.342Z"
   },
   {
    "duration": 9,
    "start_time": "2022-01-03T16:06:57.377Z"
   },
   {
    "duration": 93,
    "start_time": "2022-01-03T16:06:57.388Z"
   },
   {
    "duration": 108,
    "start_time": "2022-01-03T16:06:57.486Z"
   },
   {
    "duration": 71,
    "start_time": "2022-01-03T16:06:57.599Z"
   },
   {
    "duration": 62,
    "start_time": "2022-01-03T16:06:57.673Z"
   },
   {
    "duration": 78,
    "start_time": "2022-01-03T16:06:57.737Z"
   },
   {
    "duration": 84,
    "start_time": "2022-01-03T16:06:57.818Z"
   },
   {
    "duration": 285,
    "start_time": "2022-01-03T16:06:57.904Z"
   },
   {
    "duration": 815,
    "start_time": "2022-01-03T16:06:58.191Z"
   },
   {
    "duration": 38,
    "start_time": "2022-01-03T16:06:59.008Z"
   },
   {
    "duration": 2083,
    "start_time": "2022-01-03T16:06:59.048Z"
   },
   {
    "duration": 12,
    "start_time": "2022-01-03T16:07:01.133Z"
   },
   {
    "duration": 517,
    "start_time": "2022-01-03T16:07:01.163Z"
   },
   {
    "duration": 510,
    "start_time": "2022-01-03T16:07:01.683Z"
   },
   {
    "duration": -520,
    "start_time": "2022-01-03T16:07:02.716Z"
   },
   {
    "duration": -524,
    "start_time": "2022-01-03T16:07:02.721Z"
   },
   {
    "duration": -529,
    "start_time": "2022-01-03T16:07:02.727Z"
   },
   {
    "duration": 5,
    "start_time": "2022-01-03T16:08:01.416Z"
   },
   {
    "duration": 703,
    "start_time": "2022-01-03T16:08:01.424Z"
   },
   {
    "duration": 106,
    "start_time": "2022-01-03T16:08:02.131Z"
   },
   {
    "duration": 6,
    "start_time": "2022-01-03T16:08:02.240Z"
   },
   {
    "duration": 16,
    "start_time": "2022-01-03T16:08:02.248Z"
   },
   {
    "duration": 11,
    "start_time": "2022-01-03T16:08:02.267Z"
   },
   {
    "duration": 61,
    "start_time": "2022-01-03T16:08:02.281Z"
   },
   {
    "duration": 123,
    "start_time": "2022-01-03T16:08:02.345Z"
   },
   {
    "duration": 122,
    "start_time": "2022-01-03T16:08:02.472Z"
   },
   {
    "duration": 85,
    "start_time": "2022-01-03T16:08:02.597Z"
   },
   {
    "duration": 98,
    "start_time": "2022-01-03T16:08:02.684Z"
   },
   {
    "duration": 60,
    "start_time": "2022-01-03T16:08:02.784Z"
   },
   {
    "duration": 285,
    "start_time": "2022-01-03T16:08:02.867Z"
   },
   {
    "duration": 944,
    "start_time": "2022-01-03T16:08:03.154Z"
   },
   {
    "duration": 39,
    "start_time": "2022-01-03T16:08:04.100Z"
   },
   {
    "duration": 2177,
    "start_time": "2022-01-03T16:08:04.142Z"
   },
   {
    "duration": 14,
    "start_time": "2022-01-03T16:08:06.322Z"
   },
   {
    "duration": 553,
    "start_time": "2022-01-03T16:08:06.338Z"
   },
   {
    "duration": 508,
    "start_time": "2022-01-03T16:08:06.893Z"
   },
   {
    "duration": -533,
    "start_time": "2022-01-03T16:08:07.937Z"
   },
   {
    "duration": -540,
    "start_time": "2022-01-03T16:08:07.946Z"
   },
   {
    "duration": -541,
    "start_time": "2022-01-03T16:08:07.949Z"
   },
   {
    "duration": 7,
    "start_time": "2022-01-03T16:08:33.558Z"
   },
   {
    "duration": 741,
    "start_time": "2022-01-03T16:08:33.568Z"
   },
   {
    "duration": 129,
    "start_time": "2022-01-03T16:08:34.312Z"
   },
   {
    "duration": 6,
    "start_time": "2022-01-03T16:08:34.444Z"
   },
   {
    "duration": 19,
    "start_time": "2022-01-03T16:08:34.453Z"
   },
   {
    "duration": 11,
    "start_time": "2022-01-03T16:08:34.474Z"
   },
   {
    "duration": 101,
    "start_time": "2022-01-03T16:08:34.487Z"
   },
   {
    "duration": 116,
    "start_time": "2022-01-03T16:08:34.592Z"
   },
   {
    "duration": 81,
    "start_time": "2022-01-03T16:08:34.711Z"
   },
   {
    "duration": 76,
    "start_time": "2022-01-03T16:08:34.794Z"
   },
   {
    "duration": 60,
    "start_time": "2022-01-03T16:08:34.873Z"
   },
   {
    "duration": 79,
    "start_time": "2022-01-03T16:08:34.935Z"
   },
   {
    "duration": 287,
    "start_time": "2022-01-03T16:08:35.017Z"
   },
   {
    "duration": 830,
    "start_time": "2022-01-03T16:08:35.306Z"
   },
   {
    "duration": 50,
    "start_time": "2022-01-03T16:08:36.139Z"
   },
   {
    "duration": 2103,
    "start_time": "2022-01-03T16:08:36.191Z"
   },
   {
    "duration": 19,
    "start_time": "2022-01-03T16:08:38.298Z"
   },
   {
    "duration": 522,
    "start_time": "2022-01-03T16:08:38.319Z"
   },
   {
    "duration": 619,
    "start_time": "2022-01-03T16:08:38.844Z"
   },
   {
    "duration": 695,
    "start_time": "2022-01-03T16:08:39.466Z"
   },
   {
    "duration": -523,
    "start_time": "2022-01-03T16:08:40.687Z"
   },
   {
    "duration": -525,
    "start_time": "2022-01-03T16:08:40.690Z"
   },
   {
    "duration": 21,
    "start_time": "2022-01-03T16:09:21.459Z"
   },
   {
    "duration": 5,
    "start_time": "2022-01-03T16:09:24.502Z"
   },
   {
    "duration": 700,
    "start_time": "2022-01-03T16:09:24.509Z"
   },
   {
    "duration": 128,
    "start_time": "2022-01-03T16:09:25.213Z"
   },
   {
    "duration": 7,
    "start_time": "2022-01-03T16:09:25.343Z"
   },
   {
    "duration": 13,
    "start_time": "2022-01-03T16:09:25.363Z"
   },
   {
    "duration": 11,
    "start_time": "2022-01-03T16:09:25.379Z"
   },
   {
    "duration": 111,
    "start_time": "2022-01-03T16:09:25.393Z"
   },
   {
    "duration": 127,
    "start_time": "2022-01-03T16:09:25.510Z"
   },
   {
    "duration": 78,
    "start_time": "2022-01-03T16:09:25.640Z"
   },
   {
    "duration": 82,
    "start_time": "2022-01-03T16:09:25.721Z"
   },
   {
    "duration": 68,
    "start_time": "2022-01-03T16:09:25.805Z"
   },
   {
    "duration": 64,
    "start_time": "2022-01-03T16:09:25.879Z"
   },
   {
    "duration": 302,
    "start_time": "2022-01-03T16:09:25.945Z"
   },
   {
    "duration": 890,
    "start_time": "2022-01-03T16:09:26.249Z"
   },
   {
    "duration": 54,
    "start_time": "2022-01-03T16:09:27.142Z"
   },
   {
    "duration": 2093,
    "start_time": "2022-01-03T16:09:27.199Z"
   },
   {
    "duration": 18,
    "start_time": "2022-01-03T16:09:29.294Z"
   },
   {
    "duration": 575,
    "start_time": "2022-01-03T16:09:29.315Z"
   },
   {
    "duration": 495,
    "start_time": "2022-01-03T16:09:29.893Z"
   },
   {
    "duration": 545,
    "start_time": "2022-01-03T16:09:30.390Z"
   },
   {
    "duration": 1032,
    "start_time": "2022-01-03T16:09:30.938Z"
   },
   {
    "duration": 10,
    "start_time": "2022-01-03T16:09:31.979Z"
   },
   {
    "duration": 7653,
    "start_time": "2022-01-03T16:10:35.877Z"
   },
   {
    "duration": 917,
    "start_time": "2022-01-03T16:11:46.621Z"
   },
   {
    "duration": 7,
    "start_time": "2022-01-03T16:16:10.840Z"
   },
   {
    "duration": 732,
    "start_time": "2022-01-03T16:16:10.851Z"
   },
   {
    "duration": 123,
    "start_time": "2022-01-03T16:16:11.586Z"
   },
   {
    "duration": 8,
    "start_time": "2022-01-03T16:16:11.712Z"
   },
   {
    "duration": 23,
    "start_time": "2022-01-03T16:16:11.723Z"
   },
   {
    "duration": 23,
    "start_time": "2022-01-03T16:16:11.748Z"
   },
   {
    "duration": 96,
    "start_time": "2022-01-03T16:16:11.774Z"
   },
   {
    "duration": 112,
    "start_time": "2022-01-03T16:16:11.875Z"
   },
   {
    "duration": 74,
    "start_time": "2022-01-03T16:16:11.990Z"
   },
   {
    "duration": 62,
    "start_time": "2022-01-03T16:16:12.066Z"
   },
   {
    "duration": 76,
    "start_time": "2022-01-03T16:16:12.131Z"
   },
   {
    "duration": 74,
    "start_time": "2022-01-03T16:16:12.210Z"
   },
   {
    "duration": 279,
    "start_time": "2022-01-03T16:16:12.287Z"
   },
   {
    "duration": 51,
    "start_time": "2022-01-03T16:16:12.569Z"
   },
   {
    "duration": 2165,
    "start_time": "2022-01-03T16:16:12.623Z"
   },
   {
    "duration": 492,
    "start_time": "2022-01-03T16:16:14.791Z"
   },
   {
    "duration": 652,
    "start_time": "2022-01-03T16:16:15.287Z"
   },
   {
    "duration": -522,
    "start_time": "2022-01-03T16:16:16.463Z"
   },
   {
    "duration": 60,
    "start_time": "2022-01-03T16:16:33.868Z"
   },
   {
    "duration": 5,
    "start_time": "2022-01-03T16:16:54.368Z"
   },
   {
    "duration": 633,
    "start_time": "2022-01-03T16:16:54.376Z"
   },
   {
    "duration": 123,
    "start_time": "2022-01-03T16:16:55.012Z"
   },
   {
    "duration": 7,
    "start_time": "2022-01-03T16:16:55.137Z"
   },
   {
    "duration": 23,
    "start_time": "2022-01-03T16:16:55.146Z"
   },
   {
    "duration": 10,
    "start_time": "2022-01-03T16:16:55.171Z"
   },
   {
    "duration": 89,
    "start_time": "2022-01-03T16:16:55.184Z"
   },
   {
    "duration": 108,
    "start_time": "2022-01-03T16:16:55.275Z"
   },
   {
    "duration": 59,
    "start_time": "2022-01-03T16:16:55.387Z"
   },
   {
    "duration": 74,
    "start_time": "2022-01-03T16:16:55.449Z"
   },
   {
    "duration": 78,
    "start_time": "2022-01-03T16:16:55.525Z"
   },
   {
    "duration": 75,
    "start_time": "2022-01-03T16:16:55.605Z"
   },
   {
    "duration": 270,
    "start_time": "2022-01-03T16:16:55.682Z"
   },
   {
    "duration": 61,
    "start_time": "2022-01-03T16:16:55.954Z"
   },
   {
    "duration": 2022,
    "start_time": "2022-01-03T16:16:56.018Z"
   },
   {
    "duration": 496,
    "start_time": "2022-01-03T16:16:58.042Z"
   },
   {
    "duration": 489,
    "start_time": "2022-01-03T16:16:58.542Z"
   },
   {
    "duration": 505,
    "start_time": "2022-01-03T16:16:59.034Z"
   },
   {
    "duration": 498,
    "start_time": "2022-01-03T16:24:00.980Z"
   },
   {
    "duration": 615,
    "start_time": "2022-01-03T16:25:49.334Z"
   },
   {
    "duration": 518,
    "start_time": "2022-01-03T16:26:00.283Z"
   },
   {
    "duration": 505,
    "start_time": "2022-01-03T16:26:42.689Z"
   },
   {
    "duration": 531,
    "start_time": "2022-01-03T16:28:02.463Z"
   },
   {
    "duration": 602,
    "start_time": "2022-01-03T16:31:11.420Z"
   },
   {
    "duration": 488,
    "start_time": "2022-01-03T16:31:22.247Z"
   },
   {
    "duration": 251,
    "start_time": "2022-01-03T16:31:49.318Z"
   },
   {
    "duration": 619,
    "start_time": "2022-01-03T16:34:43.799Z"
   },
   {
    "duration": 400,
    "start_time": "2022-01-03T16:34:50.800Z"
   },
   {
    "duration": 806,
    "start_time": "2022-01-03T16:35:04.204Z"
   },
   {
    "duration": 1553,
    "start_time": "2022-01-03T16:36:28.978Z"
   },
   {
    "duration": 1357,
    "start_time": "2022-01-03T16:36:42.790Z"
   },
   {
    "duration": 1400,
    "start_time": "2022-01-03T16:37:01.413Z"
   },
   {
    "duration": 1226,
    "start_time": "2022-01-03T16:37:16.700Z"
   },
   {
    "duration": 663,
    "start_time": "2022-01-03T16:37:22.902Z"
   },
   {
    "duration": 37,
    "start_time": "2022-01-03T16:40:31.762Z"
   },
   {
    "duration": 39,
    "start_time": "2022-01-03T16:41:06.918Z"
   },
   {
    "duration": 20,
    "start_time": "2022-01-03T16:41:16.875Z"
   },
   {
    "duration": 11,
    "start_time": "2022-01-03T16:41:38.728Z"
   },
   {
    "duration": 1306,
    "start_time": "2022-01-09T15:18:27.046Z"
   },
   {
    "duration": 600,
    "start_time": "2022-01-09T15:18:28.354Z"
   },
   {
    "duration": 110,
    "start_time": "2022-01-09T15:18:28.956Z"
   },
   {
    "duration": 4,
    "start_time": "2022-01-09T15:18:29.068Z"
   },
   {
    "duration": 10,
    "start_time": "2022-01-09T15:18:29.074Z"
   },
   {
    "duration": 7,
    "start_time": "2022-01-09T15:18:29.086Z"
   },
   {
    "duration": 50,
    "start_time": "2022-01-09T15:18:29.095Z"
   },
   {
    "duration": 81,
    "start_time": "2022-01-09T15:18:29.147Z"
   },
   {
    "duration": 37,
    "start_time": "2022-01-09T15:18:29.230Z"
   },
   {
    "duration": 42,
    "start_time": "2022-01-09T15:18:29.269Z"
   },
   {
    "duration": 47,
    "start_time": "2022-01-09T15:18:29.313Z"
   },
   {
    "duration": 32,
    "start_time": "2022-01-09T15:18:29.361Z"
   },
   {
    "duration": 159,
    "start_time": "2022-01-09T15:18:29.394Z"
   },
   {
    "duration": 33,
    "start_time": "2022-01-09T15:18:29.555Z"
   },
   {
    "duration": 1390,
    "start_time": "2022-01-09T15:18:29.589Z"
   },
   {
    "duration": 348,
    "start_time": "2022-01-09T15:18:30.980Z"
   },
   {
    "duration": 256,
    "start_time": "2022-01-09T15:18:31.330Z"
   },
   {
    "duration": 326,
    "start_time": "2022-01-09T15:18:31.587Z"
   },
   {
    "duration": 14,
    "start_time": "2022-01-09T15:18:31.914Z"
   },
   {
    "duration": 333,
    "start_time": "2022-01-09T15:23:45.499Z"
   },
   {
    "duration": 256,
    "start_time": "2022-01-09T15:24:40.524Z"
   },
   {
    "duration": 272,
    "start_time": "2022-01-09T15:25:05.668Z"
   },
   {
    "duration": 3,
    "start_time": "2022-01-09T15:30:19.177Z"
   },
   {
    "duration": 423,
    "start_time": "2022-01-09T15:30:19.182Z"
   },
   {
    "duration": 63,
    "start_time": "2022-01-09T15:30:19.607Z"
   },
   {
    "duration": 3,
    "start_time": "2022-01-09T15:30:19.672Z"
   },
   {
    "duration": 14,
    "start_time": "2022-01-09T15:30:19.677Z"
   },
   {
    "duration": 9,
    "start_time": "2022-01-09T15:30:19.693Z"
   },
   {
    "duration": 45,
    "start_time": "2022-01-09T15:30:19.704Z"
   },
   {
    "duration": 56,
    "start_time": "2022-01-09T15:30:19.751Z"
   },
   {
    "duration": 51,
    "start_time": "2022-01-09T15:30:19.810Z"
   },
   {
    "duration": 37,
    "start_time": "2022-01-09T15:30:19.863Z"
   },
   {
    "duration": 48,
    "start_time": "2022-01-09T15:30:19.902Z"
   },
   {
    "duration": 32,
    "start_time": "2022-01-09T15:30:19.952Z"
   },
   {
    "duration": 157,
    "start_time": "2022-01-09T15:30:19.986Z"
   },
   {
    "duration": 30,
    "start_time": "2022-01-09T15:30:20.144Z"
   },
   {
    "duration": 1281,
    "start_time": "2022-01-09T15:30:20.176Z"
   },
   {
    "duration": 409,
    "start_time": "2022-01-09T15:30:21.459Z"
   },
   {
    "duration": 266,
    "start_time": "2022-01-09T15:30:21.870Z"
   },
   {
    "duration": 344,
    "start_time": "2022-01-09T15:30:22.137Z"
   },
   {
    "duration": 9,
    "start_time": "2022-01-09T15:44:42.897Z"
   },
   {
    "duration": 9,
    "start_time": "2022-01-09T15:46:23.269Z"
   },
   {
    "duration": 9,
    "start_time": "2022-01-09T15:47:56.617Z"
   },
   {
    "duration": 12,
    "start_time": "2022-01-09T15:51:59.510Z"
   },
   {
    "duration": 11,
    "start_time": "2022-01-09T15:52:17.248Z"
   },
   {
    "duration": 11,
    "start_time": "2022-01-09T15:52:23.193Z"
   },
   {
    "duration": 451,
    "start_time": "2022-01-09T16:11:33.806Z"
   },
   {
    "duration": 11,
    "start_time": "2022-01-09T17:51:10.567Z"
   },
   {
    "duration": 9,
    "start_time": "2022-01-09T17:52:14.842Z"
   },
   {
    "duration": 13,
    "start_time": "2022-01-09T17:54:14.498Z"
   },
   {
    "duration": 3,
    "start_time": "2022-01-09T17:55:58.930Z"
   },
   {
    "duration": 532,
    "start_time": "2022-01-09T17:55:58.935Z"
   },
   {
    "duration": 81,
    "start_time": "2022-01-09T17:55:59.469Z"
   },
   {
    "duration": 4,
    "start_time": "2022-01-09T17:55:59.552Z"
   },
   {
    "duration": 9,
    "start_time": "2022-01-09T17:55:59.557Z"
   },
   {
    "duration": 6,
    "start_time": "2022-01-09T17:55:59.568Z"
   },
   {
    "duration": 69,
    "start_time": "2022-01-09T17:55:59.576Z"
   },
   {
    "duration": 88,
    "start_time": "2022-01-09T17:55:59.649Z"
   },
   {
    "duration": 50,
    "start_time": "2022-01-09T17:55:59.739Z"
   },
   {
    "duration": 55,
    "start_time": "2022-01-09T17:55:59.791Z"
   },
   {
    "duration": 33,
    "start_time": "2022-01-09T17:55:59.848Z"
   },
   {
    "duration": 56,
    "start_time": "2022-01-09T17:55:59.883Z"
   },
   {
    "duration": 157,
    "start_time": "2022-01-09T17:55:59.941Z"
   },
   {
    "duration": 44,
    "start_time": "2022-01-09T17:56:00.099Z"
   },
   {
    "duration": 1583,
    "start_time": "2022-01-09T17:56:00.144Z"
   },
   {
    "duration": 379,
    "start_time": "2022-01-09T17:56:01.729Z"
   },
   {
    "duration": 286,
    "start_time": "2022-01-09T17:56:02.110Z"
   },
   {
    "duration": 347,
    "start_time": "2022-01-09T17:56:02.398Z"
   },
   {
    "duration": 12,
    "start_time": "2022-01-09T17:56:02.746Z"
   },
   {
    "duration": 16,
    "start_time": "2022-01-09T17:56:02.760Z"
   },
   {
    "duration": 10,
    "start_time": "2022-01-09T17:56:02.778Z"
   },
   {
    "duration": 39,
    "start_time": "2022-01-09T17:56:02.790Z"
   },
   {
    "duration": 12,
    "start_time": "2022-01-09T17:59:24.053Z"
   },
   {
    "duration": 3,
    "start_time": "2022-01-09T18:04:34.226Z"
   },
   {
    "duration": 431,
    "start_time": "2022-01-09T18:04:34.231Z"
   },
   {
    "duration": 74,
    "start_time": "2022-01-09T18:04:34.664Z"
   },
   {
    "duration": 5,
    "start_time": "2022-01-09T18:04:34.740Z"
   },
   {
    "duration": 9,
    "start_time": "2022-01-09T18:04:34.746Z"
   },
   {
    "duration": 7,
    "start_time": "2022-01-09T18:04:34.756Z"
   },
   {
    "duration": 63,
    "start_time": "2022-01-09T18:04:34.765Z"
   },
   {
    "duration": 57,
    "start_time": "2022-01-09T18:04:34.830Z"
   },
   {
    "duration": 52,
    "start_time": "2022-01-09T18:04:34.889Z"
   },
   {
    "duration": 36,
    "start_time": "2022-01-09T18:04:34.943Z"
   },
   {
    "duration": 31,
    "start_time": "2022-01-09T18:04:34.980Z"
   },
   {
    "duration": 31,
    "start_time": "2022-01-09T18:04:35.027Z"
   },
   {
    "duration": 144,
    "start_time": "2022-01-09T18:04:35.059Z"
   },
   {
    "duration": 42,
    "start_time": "2022-01-09T18:04:35.204Z"
   },
   {
    "duration": 1545,
    "start_time": "2022-01-09T18:04:35.247Z"
   },
   {
    "duration": 365,
    "start_time": "2022-01-09T18:04:36.794Z"
   },
   {
    "duration": 272,
    "start_time": "2022-01-09T18:04:37.161Z"
   },
   {
    "duration": 287,
    "start_time": "2022-01-09T18:04:37.435Z"
   },
   {
    "duration": 8,
    "start_time": "2022-01-09T18:04:37.726Z"
   },
   {
    "duration": 11,
    "start_time": "2022-01-09T18:04:37.736Z"
   },
   {
    "duration": 9,
    "start_time": "2022-01-09T18:04:37.748Z"
   },
   {
    "duration": 12,
    "start_time": "2022-01-09T18:04:37.758Z"
   },
   {
    "duration": 3,
    "start_time": "2022-01-09T18:09:52.465Z"
   },
   {
    "duration": 423,
    "start_time": "2022-01-09T18:09:52.469Z"
   },
   {
    "duration": 80,
    "start_time": "2022-01-09T18:09:52.894Z"
   },
   {
    "duration": 4,
    "start_time": "2022-01-09T18:09:52.976Z"
   },
   {
    "duration": 8,
    "start_time": "2022-01-09T18:09:52.981Z"
   },
   {
    "duration": 7,
    "start_time": "2022-01-09T18:09:52.990Z"
   },
   {
    "duration": 50,
    "start_time": "2022-01-09T18:09:52.998Z"
   },
   {
    "duration": 57,
    "start_time": "2022-01-09T18:09:53.051Z"
   },
   {
    "duration": 37,
    "start_time": "2022-01-09T18:09:53.128Z"
   },
   {
    "duration": 37,
    "start_time": "2022-01-09T18:09:53.166Z"
   },
   {
    "duration": 48,
    "start_time": "2022-01-09T18:09:53.205Z"
   },
   {
    "duration": 32,
    "start_time": "2022-01-09T18:09:53.254Z"
   },
   {
    "duration": 151,
    "start_time": "2022-01-09T18:09:53.287Z"
   },
   {
    "duration": 85,
    "start_time": "2022-01-09T18:09:53.440Z"
   },
   {
    "duration": -48,
    "start_time": "2022-01-09T18:09:53.574Z"
   },
   {
    "duration": -49,
    "start_time": "2022-01-09T18:09:53.576Z"
   },
   {
    "duration": -50,
    "start_time": "2022-01-09T18:09:53.578Z"
   },
   {
    "duration": -51,
    "start_time": "2022-01-09T18:09:53.580Z"
   },
   {
    "duration": -53,
    "start_time": "2022-01-09T18:09:53.582Z"
   },
   {
    "duration": -62,
    "start_time": "2022-01-09T18:09:53.592Z"
   },
   {
    "duration": -64,
    "start_time": "2022-01-09T18:09:53.595Z"
   },
   {
    "duration": -66,
    "start_time": "2022-01-09T18:09:53.598Z"
   },
   {
    "duration": 3,
    "start_time": "2022-01-09T18:10:10.619Z"
   },
   {
    "duration": 583,
    "start_time": "2022-01-09T18:10:10.623Z"
   },
   {
    "duration": 103,
    "start_time": "2022-01-09T18:10:11.208Z"
   },
   {
    "duration": 4,
    "start_time": "2022-01-09T18:10:11.313Z"
   },
   {
    "duration": 13,
    "start_time": "2022-01-09T18:10:11.318Z"
   },
   {
    "duration": 8,
    "start_time": "2022-01-09T18:10:11.333Z"
   },
   {
    "duration": 37,
    "start_time": "2022-01-09T18:10:11.342Z"
   },
   {
    "duration": 80,
    "start_time": "2022-01-09T18:10:11.381Z"
   },
   {
    "duration": 35,
    "start_time": "2022-01-09T18:10:11.463Z"
   },
   {
    "duration": 58,
    "start_time": "2022-01-09T18:10:11.500Z"
   },
   {
    "duration": 37,
    "start_time": "2022-01-09T18:10:11.559Z"
   },
   {
    "duration": 44,
    "start_time": "2022-01-09T18:10:11.598Z"
   },
   {
    "duration": 211,
    "start_time": "2022-01-09T18:10:11.643Z"
   },
   {
    "duration": 1004,
    "start_time": "2022-01-09T18:10:11.855Z"
   },
   {
    "duration": -79,
    "start_time": "2022-01-09T18:10:12.939Z"
   },
   {
    "duration": -88,
    "start_time": "2022-01-09T18:10:12.949Z"
   },
   {
    "duration": -97,
    "start_time": "2022-01-09T18:10:12.958Z"
   },
   {
    "duration": -100,
    "start_time": "2022-01-09T18:10:12.962Z"
   },
   {
    "duration": -103,
    "start_time": "2022-01-09T18:10:12.966Z"
   },
   {
    "duration": -106,
    "start_time": "2022-01-09T18:10:12.969Z"
   },
   {
    "duration": -109,
    "start_time": "2022-01-09T18:10:12.973Z"
   },
   {
    "duration": -111,
    "start_time": "2022-01-09T18:10:12.976Z"
   },
   {
    "duration": 3,
    "start_time": "2022-01-09T18:10:36.615Z"
   },
   {
    "duration": 429,
    "start_time": "2022-01-09T18:10:36.620Z"
   },
   {
    "duration": 55,
    "start_time": "2022-01-09T18:10:37.051Z"
   },
   {
    "duration": 3,
    "start_time": "2022-01-09T18:10:37.128Z"
   },
   {
    "duration": 11,
    "start_time": "2022-01-09T18:10:37.133Z"
   },
   {
    "duration": 6,
    "start_time": "2022-01-09T18:10:37.146Z"
   },
   {
    "duration": 34,
    "start_time": "2022-01-09T18:10:37.154Z"
   },
   {
    "duration": 81,
    "start_time": "2022-01-09T18:10:37.190Z"
   },
   {
    "duration": 34,
    "start_time": "2022-01-09T18:10:37.273Z"
   },
   {
    "duration": 53,
    "start_time": "2022-01-09T18:10:37.308Z"
   },
   {
    "duration": 31,
    "start_time": "2022-01-09T18:10:37.362Z"
   },
   {
    "duration": 54,
    "start_time": "2022-01-09T18:10:37.394Z"
   },
   {
    "duration": 140,
    "start_time": "2022-01-09T18:10:37.449Z"
   },
   {
    "duration": 25,
    "start_time": "2022-01-09T18:10:37.591Z"
   },
   {
    "duration": 1247,
    "start_time": "2022-01-09T18:10:37.627Z"
   },
   {
    "duration": 345,
    "start_time": "2022-01-09T18:10:38.876Z"
   },
   {
    "duration": 286,
    "start_time": "2022-01-09T18:10:39.222Z"
   },
   {
    "duration": 382,
    "start_time": "2022-01-09T18:10:39.509Z"
   },
   {
    "duration": 9,
    "start_time": "2022-01-09T18:10:39.892Z"
   },
   {
    "duration": 11,
    "start_time": "2022-01-09T18:10:39.902Z"
   },
   {
    "duration": 27,
    "start_time": "2022-01-09T18:10:39.915Z"
   },
   {
    "duration": 14,
    "start_time": "2022-01-09T18:10:39.944Z"
   },
   {
    "duration": 3,
    "start_time": "2022-01-09T18:11:19.050Z"
   },
   {
    "duration": 417,
    "start_time": "2022-01-09T18:11:19.056Z"
   },
   {
    "duration": 76,
    "start_time": "2022-01-09T18:11:19.475Z"
   },
   {
    "duration": 3,
    "start_time": "2022-01-09T18:11:19.553Z"
   },
   {
    "duration": 8,
    "start_time": "2022-01-09T18:11:19.558Z"
   },
   {
    "duration": 9,
    "start_time": "2022-01-09T18:11:19.567Z"
   },
   {
    "duration": 53,
    "start_time": "2022-01-09T18:11:19.577Z"
   },
   {
    "duration": 52,
    "start_time": "2022-01-09T18:11:19.632Z"
   },
   {
    "duration": 47,
    "start_time": "2022-01-09T18:11:19.686Z"
   },
   {
    "duration": 35,
    "start_time": "2022-01-09T18:11:19.735Z"
   },
   {
    "duration": 30,
    "start_time": "2022-01-09T18:11:19.772Z"
   },
   {
    "duration": 48,
    "start_time": "2022-01-09T18:11:19.803Z"
   },
   {
    "duration": 150,
    "start_time": "2022-01-09T18:11:19.852Z"
   },
   {
    "duration": 42,
    "start_time": "2022-01-09T18:11:20.004Z"
   },
   {
    "duration": 1542,
    "start_time": "2022-01-09T18:11:20.048Z"
   },
   {
    "duration": 341,
    "start_time": "2022-01-09T18:11:21.591Z"
   },
   {
    "duration": 321,
    "start_time": "2022-01-09T18:11:21.934Z"
   },
   {
    "duration": 332,
    "start_time": "2022-01-09T18:11:22.258Z"
   },
   {
    "duration": 9,
    "start_time": "2022-01-09T18:11:22.591Z"
   },
   {
    "duration": 11,
    "start_time": "2022-01-09T18:11:22.601Z"
   },
   {
    "duration": 19,
    "start_time": "2022-01-09T18:11:22.613Z"
   },
   {
    "duration": 14,
    "start_time": "2022-01-09T18:11:22.634Z"
   },
   {
    "duration": 3,
    "start_time": "2022-01-09T18:30:57.943Z"
   },
   {
    "duration": 1513,
    "start_time": "2022-01-09T18:30:57.948Z"
   },
   {
    "duration": 98,
    "start_time": "2022-01-09T18:30:59.463Z"
   },
   {
    "duration": 5,
    "start_time": "2022-01-09T18:30:59.564Z"
   },
   {
    "duration": 20,
    "start_time": "2022-01-09T18:30:59.571Z"
   },
   {
    "duration": 17,
    "start_time": "2022-01-09T18:30:59.592Z"
   },
   {
    "duration": 56,
    "start_time": "2022-01-09T18:30:59.611Z"
   },
   {
    "duration": 83,
    "start_time": "2022-01-09T18:30:59.669Z"
   },
   {
    "duration": 51,
    "start_time": "2022-01-09T18:30:59.755Z"
   },
   {
    "duration": 49,
    "start_time": "2022-01-09T18:30:59.807Z"
   },
   {
    "duration": 31,
    "start_time": "2022-01-09T18:30:59.857Z"
   },
   {
    "duration": 44,
    "start_time": "2022-01-09T18:30:59.889Z"
   },
   {
    "duration": 147,
    "start_time": "2022-01-09T18:30:59.934Z"
   },
   {
    "duration": 32,
    "start_time": "2022-01-09T18:31:00.082Z"
   },
   {
    "duration": 1801,
    "start_time": "2022-01-09T18:31:00.128Z"
   },
   {
    "duration": 700,
    "start_time": "2022-01-09T18:31:01.931Z"
   },
   {
    "duration": 440,
    "start_time": "2022-01-09T18:31:02.633Z"
   },
   {
    "duration": 469,
    "start_time": "2022-01-09T18:31:03.075Z"
   },
   {
    "duration": 12,
    "start_time": "2022-01-09T18:31:03.546Z"
   },
   {
    "duration": 14,
    "start_time": "2022-01-09T18:31:03.560Z"
   },
   {
    "duration": 10,
    "start_time": "2022-01-09T18:31:03.576Z"
   },
   {
    "duration": 41,
    "start_time": "2022-01-09T18:31:03.588Z"
   },
   {
    "duration": 3,
    "start_time": "2022-01-09T18:38:40.067Z"
   },
   {
    "duration": 433,
    "start_time": "2022-01-09T18:38:40.071Z"
   },
   {
    "duration": 69,
    "start_time": "2022-01-09T18:38:40.505Z"
   },
   {
    "duration": 4,
    "start_time": "2022-01-09T18:38:40.575Z"
   },
   {
    "duration": 9,
    "start_time": "2022-01-09T18:38:40.580Z"
   },
   {
    "duration": 7,
    "start_time": "2022-01-09T18:38:40.591Z"
   },
   {
    "duration": 49,
    "start_time": "2022-01-09T18:38:40.600Z"
   },
   {
    "duration": 56,
    "start_time": "2022-01-09T18:38:40.651Z"
   },
   {
    "duration": 51,
    "start_time": "2022-01-09T18:38:40.709Z"
   },
   {
    "duration": 36,
    "start_time": "2022-01-09T18:38:40.761Z"
   },
   {
    "duration": 47,
    "start_time": "2022-01-09T18:38:40.798Z"
   },
   {
    "duration": 31,
    "start_time": "2022-01-09T18:38:40.847Z"
   },
   {
    "duration": 152,
    "start_time": "2022-01-09T18:38:40.880Z"
   },
   {
    "duration": 34,
    "start_time": "2022-01-09T18:38:41.034Z"
   },
   {
    "duration": 1265,
    "start_time": "2022-01-09T18:38:41.069Z"
   },
   {
    "duration": 346,
    "start_time": "2022-01-09T18:38:42.335Z"
   },
   {
    "duration": 330,
    "start_time": "2022-01-09T18:38:42.682Z"
   },
   {
    "duration": 281,
    "start_time": "2022-01-09T18:38:43.014Z"
   },
   {
    "duration": 9,
    "start_time": "2022-01-09T18:38:43.297Z"
   },
   {
    "duration": 19,
    "start_time": "2022-01-09T18:38:43.308Z"
   },
   {
    "duration": 7,
    "start_time": "2022-01-09T18:38:43.329Z"
   },
   {
    "duration": 11,
    "start_time": "2022-01-09T18:38:43.338Z"
   },
   {
    "duration": 335,
    "start_time": "2022-01-09T18:41:22.493Z"
   },
   {
    "duration": 311,
    "start_time": "2022-01-09T18:41:39.413Z"
   },
   {
    "duration": 106,
    "start_time": "2022-01-09T18:42:33.541Z"
   },
   {
    "duration": 319,
    "start_time": "2022-01-09T18:43:07.958Z"
   },
   {
    "duration": 3,
    "start_time": "2022-01-09T18:43:49.560Z"
   },
   {
    "duration": 418,
    "start_time": "2022-01-09T18:43:49.564Z"
   },
   {
    "duration": 71,
    "start_time": "2022-01-09T18:43:49.984Z"
   },
   {
    "duration": 3,
    "start_time": "2022-01-09T18:43:50.057Z"
   },
   {
    "duration": 11,
    "start_time": "2022-01-09T18:43:50.061Z"
   },
   {
    "duration": 8,
    "start_time": "2022-01-09T18:43:50.073Z"
   },
   {
    "duration": 50,
    "start_time": "2022-01-09T18:43:50.082Z"
   },
   {
    "duration": 58,
    "start_time": "2022-01-09T18:43:50.133Z"
   },
   {
    "duration": 47,
    "start_time": "2022-01-09T18:43:50.193Z"
   },
   {
    "duration": 36,
    "start_time": "2022-01-09T18:43:50.242Z"
   },
   {
    "duration": 28,
    "start_time": "2022-01-09T18:43:50.280Z"
   },
   {
    "duration": 30,
    "start_time": "2022-01-09T18:43:50.327Z"
   },
   {
    "duration": 142,
    "start_time": "2022-01-09T18:43:50.359Z"
   },
   {
    "duration": 39,
    "start_time": "2022-01-09T18:43:50.502Z"
   },
   {
    "duration": 1240,
    "start_time": "2022-01-09T18:43:50.542Z"
   },
   {
    "duration": 345,
    "start_time": "2022-01-09T18:43:51.784Z"
   },
   {
    "duration": 266,
    "start_time": "2022-01-09T18:43:52.130Z"
   },
   {
    "duration": 275,
    "start_time": "2022-01-09T18:43:52.397Z"
   },
   {
    "duration": 9,
    "start_time": "2022-01-09T18:43:52.674Z"
   },
   {
    "duration": 12,
    "start_time": "2022-01-09T18:43:52.684Z"
   },
   {
    "duration": 10,
    "start_time": "2022-01-09T18:43:52.697Z"
   },
   {
    "duration": 28,
    "start_time": "2022-01-09T18:43:52.708Z"
   },
   {
    "duration": 29,
    "start_time": "2022-01-09T18:50:20.791Z"
   },
   {
    "duration": 95,
    "start_time": "2022-01-09T18:50:55.406Z"
   },
   {
    "duration": 3,
    "start_time": "2022-01-09T18:51:59.162Z"
   },
   {
    "duration": 426,
    "start_time": "2022-01-09T18:51:59.167Z"
   },
   {
    "duration": 73,
    "start_time": "2022-01-09T18:51:59.595Z"
   },
   {
    "duration": 4,
    "start_time": "2022-01-09T18:51:59.669Z"
   },
   {
    "duration": 10,
    "start_time": "2022-01-09T18:51:59.674Z"
   },
   {
    "duration": 9,
    "start_time": "2022-01-09T18:51:59.685Z"
   },
   {
    "duration": 45,
    "start_time": "2022-01-09T18:51:59.696Z"
   },
   {
    "duration": 53,
    "start_time": "2022-01-09T18:51:59.743Z"
   },
   {
    "duration": 56,
    "start_time": "2022-01-09T18:51:59.797Z"
   },
   {
    "duration": 36,
    "start_time": "2022-01-09T18:51:59.854Z"
   },
   {
    "duration": 43,
    "start_time": "2022-01-09T18:51:59.891Z"
   },
   {
    "duration": 31,
    "start_time": "2022-01-09T18:51:59.935Z"
   },
   {
    "duration": 148,
    "start_time": "2022-01-09T18:51:59.967Z"
   },
   {
    "duration": 32,
    "start_time": "2022-01-09T18:52:00.116Z"
   },
   {
    "duration": 1245,
    "start_time": "2022-01-09T18:52:00.149Z"
   },
   {
    "duration": 355,
    "start_time": "2022-01-09T18:52:01.395Z"
   },
   {
    "duration": 276,
    "start_time": "2022-01-09T18:52:01.751Z"
   },
   {
    "duration": 277,
    "start_time": "2022-01-09T18:52:02.028Z"
   },
   {
    "duration": 10,
    "start_time": "2022-01-09T18:52:02.307Z"
   },
   {
    "duration": 11,
    "start_time": "2022-01-09T18:52:02.327Z"
   },
   {
    "duration": 24,
    "start_time": "2022-01-09T18:52:02.339Z"
   },
   {
    "duration": 13,
    "start_time": "2022-01-09T18:52:02.364Z"
   },
   {
    "duration": 33,
    "start_time": "2022-01-09T18:52:17.118Z"
   },
   {
    "duration": 4,
    "start_time": "2022-01-09T18:52:30.698Z"
   },
   {
    "duration": 463,
    "start_time": "2022-01-09T18:52:30.704Z"
   },
   {
    "duration": 70,
    "start_time": "2022-01-09T18:52:31.168Z"
   },
   {
    "duration": 4,
    "start_time": "2022-01-09T18:52:31.240Z"
   },
   {
    "duration": 10,
    "start_time": "2022-01-09T18:52:31.245Z"
   },
   {
    "duration": 7,
    "start_time": "2022-01-09T18:52:31.256Z"
   },
   {
    "duration": 63,
    "start_time": "2022-01-09T18:52:31.264Z"
   },
   {
    "duration": 54,
    "start_time": "2022-01-09T18:52:31.329Z"
   },
   {
    "duration": 50,
    "start_time": "2022-01-09T18:52:31.385Z"
   },
   {
    "duration": 37,
    "start_time": "2022-01-09T18:52:31.436Z"
   },
   {
    "duration": 32,
    "start_time": "2022-01-09T18:52:31.475Z"
   },
   {
    "duration": 47,
    "start_time": "2022-01-09T18:52:31.508Z"
   },
   {
    "duration": 145,
    "start_time": "2022-01-09T18:52:31.556Z"
   },
   {
    "duration": 42,
    "start_time": "2022-01-09T18:52:31.703Z"
   },
   {
    "duration": 1329,
    "start_time": "2022-01-09T18:52:31.747Z"
   },
   {
    "duration": 377,
    "start_time": "2022-01-09T18:52:33.078Z"
   },
   {
    "duration": 263,
    "start_time": "2022-01-09T18:52:33.456Z"
   },
   {
    "duration": 277,
    "start_time": "2022-01-09T18:52:33.720Z"
   },
   {
    "duration": 9,
    "start_time": "2022-01-09T18:52:33.998Z"
   },
   {
    "duration": 25,
    "start_time": "2022-01-09T18:52:34.008Z"
   },
   {
    "duration": 9,
    "start_time": "2022-01-09T18:52:34.034Z"
   },
   {
    "duration": 12,
    "start_time": "2022-01-09T18:52:34.044Z"
   },
   {
    "duration": 393,
    "start_time": "2022-01-11T14:43:23.846Z"
   },
   {
    "duration": 337,
    "start_time": "2022-01-11T14:44:00.682Z"
   },
   {
    "duration": 333,
    "start_time": "2022-01-11T14:44:22.668Z"
   },
   {
    "duration": 328,
    "start_time": "2022-01-11T14:44:48.311Z"
   },
   {
    "duration": 336,
    "start_time": "2022-01-11T14:45:19.816Z"
   },
   {
    "duration": 4,
    "start_time": "2022-01-11T14:51:17.613Z"
   },
   {
    "duration": 306,
    "start_time": "2022-01-11T14:51:39.056Z"
   },
   {
    "duration": 315,
    "start_time": "2022-01-11T14:52:27.210Z"
   },
   {
    "duration": 1514,
    "start_time": "2022-01-11T14:52:38.621Z"
   },
   {
    "duration": 868,
    "start_time": "2022-01-11T14:52:43.398Z"
   },
   {
    "duration": 284,
    "start_time": "2022-01-11T14:53:51.331Z"
   },
   {
    "duration": 5,
    "start_time": "2022-01-11T15:02:10.270Z"
   },
   {
    "duration": 103,
    "start_time": "2022-01-11T15:02:10.278Z"
   },
   {
    "duration": -52,
    "start_time": "2022-01-11T15:02:10.436Z"
   },
   {
    "duration": -54,
    "start_time": "2022-01-11T15:02:10.440Z"
   },
   {
    "duration": -56,
    "start_time": "2022-01-11T15:02:10.443Z"
   },
   {
    "duration": -58,
    "start_time": "2022-01-11T15:02:10.447Z"
   },
   {
    "duration": -60,
    "start_time": "2022-01-11T15:02:10.450Z"
   },
   {
    "duration": -62,
    "start_time": "2022-01-11T15:02:10.454Z"
   },
   {
    "duration": -64,
    "start_time": "2022-01-11T15:02:10.457Z"
   },
   {
    "duration": -66,
    "start_time": "2022-01-11T15:02:10.461Z"
   },
   {
    "duration": -69,
    "start_time": "2022-01-11T15:02:10.465Z"
   },
   {
    "duration": -72,
    "start_time": "2022-01-11T15:02:10.469Z"
   },
   {
    "duration": -73,
    "start_time": "2022-01-11T15:02:10.472Z"
   },
   {
    "duration": -77,
    "start_time": "2022-01-11T15:02:10.477Z"
   },
   {
    "duration": -78,
    "start_time": "2022-01-11T15:02:10.480Z"
   },
   {
    "duration": -89,
    "start_time": "2022-01-11T15:02:10.492Z"
   },
   {
    "duration": -91,
    "start_time": "2022-01-11T15:02:10.496Z"
   },
   {
    "duration": -92,
    "start_time": "2022-01-11T15:02:10.499Z"
   },
   {
    "duration": -93,
    "start_time": "2022-01-11T15:02:10.502Z"
   },
   {
    "duration": -97,
    "start_time": "2022-01-11T15:02:10.507Z"
   },
   {
    "duration": -99,
    "start_time": "2022-01-11T15:02:10.510Z"
   },
   {
    "duration": -101,
    "start_time": "2022-01-11T15:02:10.514Z"
   },
   {
    "duration": -104,
    "start_time": "2022-01-11T15:02:10.518Z"
   },
   {
    "duration": 7,
    "start_time": "2022-01-11T15:02:29.095Z"
   },
   {
    "duration": 885,
    "start_time": "2022-01-11T15:02:29.107Z"
   },
   {
    "duration": 330,
    "start_time": "2022-01-11T15:02:29.994Z"
   },
   {
    "duration": 106,
    "start_time": "2022-01-11T15:02:30.327Z"
   },
   {
    "duration": 7,
    "start_time": "2022-01-11T15:02:30.436Z"
   },
   {
    "duration": 26,
    "start_time": "2022-01-11T15:02:30.445Z"
   },
   {
    "duration": 11,
    "start_time": "2022-01-11T15:02:30.475Z"
   },
   {
    "duration": 119,
    "start_time": "2022-01-11T15:02:30.492Z"
   },
   {
    "duration": 133,
    "start_time": "2022-01-11T15:02:30.614Z"
   },
   {
    "duration": 60,
    "start_time": "2022-01-11T15:02:30.749Z"
   },
   {
    "duration": 95,
    "start_time": "2022-01-11T15:02:30.812Z"
   },
   {
    "duration": 72,
    "start_time": "2022-01-11T15:02:30.910Z"
   },
   {
    "duration": 111,
    "start_time": "2022-01-11T15:02:30.985Z"
   },
   {
    "duration": 530,
    "start_time": "2022-01-11T15:02:31.100Z"
   },
   {
    "duration": 105,
    "start_time": "2022-01-11T15:02:31.634Z"
   },
   {
    "duration": 2233,
    "start_time": "2022-01-11T15:02:31.742Z"
   },
   {
    "duration": 685,
    "start_time": "2022-01-11T15:02:33.977Z"
   },
   {
    "duration": 737,
    "start_time": "2022-01-11T15:02:34.665Z"
   },
   {
    "duration": 619,
    "start_time": "2022-01-11T15:02:35.404Z"
   },
   {
    "duration": 17,
    "start_time": "2022-01-11T15:02:36.025Z"
   },
   {
    "duration": 18,
    "start_time": "2022-01-11T15:02:36.060Z"
   },
   {
    "duration": 18,
    "start_time": "2022-01-11T15:02:36.080Z"
   },
   {
    "duration": 58,
    "start_time": "2022-01-11T15:02:36.103Z"
   },
   {
    "duration": 6,
    "start_time": "2022-01-11T15:05:37.450Z"
   },
   {
    "duration": 1146,
    "start_time": "2022-01-11T15:05:37.460Z"
   },
   {
    "duration": 397,
    "start_time": "2022-01-11T15:05:38.611Z"
   },
   {
    "duration": 4,
    "start_time": "2022-01-11T15:05:39.011Z"
   },
   {
    "duration": 3730,
    "start_time": "2022-01-11T15:05:39.018Z"
   },
   {
    "duration": -89,
    "start_time": "2022-01-11T15:05:42.843Z"
   },
   {
    "duration": -94,
    "start_time": "2022-01-11T15:05:42.849Z"
   },
   {
    "duration": -96,
    "start_time": "2022-01-11T15:05:42.853Z"
   },
   {
    "duration": -100,
    "start_time": "2022-01-11T15:05:42.858Z"
   },
   {
    "duration": -101,
    "start_time": "2022-01-11T15:05:42.861Z"
   },
   {
    "duration": -105,
    "start_time": "2022-01-11T15:05:42.867Z"
   },
   {
    "duration": -106,
    "start_time": "2022-01-11T15:05:42.871Z"
   },
   {
    "duration": -108,
    "start_time": "2022-01-11T15:05:42.875Z"
   },
   {
    "duration": -109,
    "start_time": "2022-01-11T15:05:42.879Z"
   },
   {
    "duration": -112,
    "start_time": "2022-01-11T15:05:42.883Z"
   },
   {
    "duration": -115,
    "start_time": "2022-01-11T15:05:42.888Z"
   },
   {
    "duration": -116,
    "start_time": "2022-01-11T15:05:42.891Z"
   },
   {
    "duration": -116,
    "start_time": "2022-01-11T15:05:42.893Z"
   },
   {
    "duration": -118,
    "start_time": "2022-01-11T15:05:42.896Z"
   },
   {
    "duration": -119,
    "start_time": "2022-01-11T15:05:42.899Z"
   },
   {
    "duration": -119,
    "start_time": "2022-01-11T15:05:42.901Z"
   },
   {
    "duration": -120,
    "start_time": "2022-01-11T15:05:42.903Z"
   },
   {
    "duration": -121,
    "start_time": "2022-01-11T15:05:42.906Z"
   },
   {
    "duration": 3253,
    "start_time": "2022-01-11T15:07:05.758Z"
   },
   {
    "duration": 20,
    "start_time": "2022-01-11T15:08:09.542Z"
   },
   {
    "duration": 31,
    "start_time": "2022-01-11T15:08:38.572Z"
   },
   {
    "duration": 21,
    "start_time": "2022-01-11T15:09:21.077Z"
   },
   {
    "duration": 5,
    "start_time": "2022-01-11T15:09:42.618Z"
   },
   {
    "duration": 660,
    "start_time": "2022-01-11T15:09:42.626Z"
   },
   {
    "duration": 294,
    "start_time": "2022-01-11T15:09:43.289Z"
   },
   {
    "duration": 18,
    "start_time": "2022-01-11T15:09:43.586Z"
   },
   {
    "duration": 131,
    "start_time": "2022-01-11T15:09:43.607Z"
   },
   {
    "duration": 24,
    "start_time": "2022-01-11T15:09:43.741Z"
   },
   {
    "duration": 10,
    "start_time": "2022-01-11T15:09:43.768Z"
   },
   {
    "duration": 91,
    "start_time": "2022-01-11T15:09:43.782Z"
   },
   {
    "duration": 158,
    "start_time": "2022-01-11T15:09:43.877Z"
   },
   {
    "duration": 70,
    "start_time": "2022-01-11T15:09:44.038Z"
   },
   {
    "duration": 78,
    "start_time": "2022-01-11T15:09:44.111Z"
   },
   {
    "duration": 71,
    "start_time": "2022-01-11T15:09:44.192Z"
   },
   {
    "duration": 61,
    "start_time": "2022-01-11T15:09:44.265Z"
   },
   {
    "duration": 291,
    "start_time": "2022-01-11T15:09:44.329Z"
   },
   {
    "duration": 72,
    "start_time": "2022-01-11T15:09:44.622Z"
   },
   {
    "duration": 2944,
    "start_time": "2022-01-11T15:09:44.697Z"
   },
   {
    "duration": 1187,
    "start_time": "2022-01-11T15:09:47.644Z"
   },
   {
    "duration": 529,
    "start_time": "2022-01-11T15:09:48.834Z"
   },
   {
    "duration": 563,
    "start_time": "2022-01-11T15:09:49.366Z"
   },
   {
    "duration": 27,
    "start_time": "2022-01-11T15:09:49.932Z"
   },
   {
    "duration": 18,
    "start_time": "2022-01-11T15:09:49.961Z"
   },
   {
    "duration": 14,
    "start_time": "2022-01-11T15:09:49.983Z"
   },
   {
    "duration": 58,
    "start_time": "2022-01-11T15:09:50.002Z"
   },
   {
    "duration": 5,
    "start_time": "2022-01-11T15:20:39.932Z"
   },
   {
    "duration": 672,
    "start_time": "2022-01-11T15:20:40.951Z"
   },
   {
    "duration": 308,
    "start_time": "2022-01-11T15:20:41.626Z"
   },
   {
    "duration": 5,
    "start_time": "2022-01-11T15:20:43.046Z"
   },
   {
    "duration": 99,
    "start_time": "2022-01-11T15:20:44.793Z"
   },
   {
    "duration": 13,
    "start_time": "2022-01-11T15:20:46.278Z"
   },
   {
    "duration": 10,
    "start_time": "2022-01-11T15:20:48.748Z"
   },
   {
    "duration": 66,
    "start_time": "2022-01-11T15:20:51.357Z"
   },
   {
    "duration": 179,
    "start_time": "2022-01-11T15:21:04.546Z"
   },
   {
    "duration": 62,
    "start_time": "2022-01-11T15:21:06.967Z"
   },
   {
    "duration": 59,
    "start_time": "2022-01-11T15:21:09.297Z"
   },
   {
    "duration": 56,
    "start_time": "2022-01-11T15:21:40.489Z"
   },
   {
    "duration": 80,
    "start_time": "2022-01-11T15:25:31.340Z"
   },
   {
    "duration": 448,
    "start_time": "2022-01-11T15:28:39.981Z"
   },
   {
    "duration": 318,
    "start_time": "2022-01-11T15:29:26.574Z"
   },
   {
    "duration": 303,
    "start_time": "2022-01-11T15:31:21.227Z"
   },
   {
    "duration": 444,
    "start_time": "2022-01-11T15:31:39.585Z"
   },
   {
    "duration": 342,
    "start_time": "2022-01-11T15:32:52.373Z"
   },
   {
    "duration": 7,
    "start_time": "2022-01-11T15:34:04.143Z"
   },
   {
    "duration": 7,
    "start_time": "2022-01-11T15:34:40.221Z"
   },
   {
    "duration": 12,
    "start_time": "2022-01-11T15:35:02.690Z"
   },
   {
    "duration": 8822,
    "start_time": "2022-01-11T15:35:46.969Z"
   },
   {
    "duration": 8,
    "start_time": "2022-01-11T15:36:13.742Z"
   },
   {
    "duration": 6,
    "start_time": "2022-01-11T15:36:34.625Z"
   },
   {
    "duration": 381,
    "start_time": "2022-01-11T15:38:01.178Z"
   },
   {
    "duration": 402,
    "start_time": "2022-01-11T15:44:40.485Z"
   },
   {
    "duration": 21,
    "start_time": "2022-01-11T15:45:18.455Z"
   },
   {
    "duration": 633,
    "start_time": "2022-01-11T15:50:08.147Z"
   },
   {
    "duration": 61,
    "start_time": "2022-01-11T15:52:36.559Z"
   },
   {
    "duration": 2400,
    "start_time": "2022-01-11T15:52:51.657Z"
   },
   {
    "duration": 1146,
    "start_time": "2022-01-11T15:52:54.065Z"
   },
   {
    "duration": 729,
    "start_time": "2022-01-11T15:52:55.246Z"
   },
   {
    "duration": -40,
    "start_time": "2022-01-11T15:52:56.019Z"
   },
   {
    "duration": 19,
    "start_time": "2022-01-11T15:52:57.837Z"
   },
   {
    "duration": 38,
    "start_time": "2022-01-11T15:52:58.251Z"
   },
   {
    "duration": 16,
    "start_time": "2022-01-11T15:52:59.909Z"
   },
   {
    "duration": 31,
    "start_time": "2022-01-11T15:53:00.356Z"
   },
   {
    "duration": 57,
    "start_time": "2022-01-11T15:54:52.095Z"
   },
   {
    "duration": 824,
    "start_time": "2022-01-11T15:58:37.978Z"
   },
   {
    "duration": 935,
    "start_time": "2022-01-11T15:59:08.655Z"
   },
   {
    "duration": 712,
    "start_time": "2022-01-11T15:59:21.536Z"
   },
   {
    "duration": 840,
    "start_time": "2022-01-11T16:00:08.534Z"
   },
   {
    "duration": 729,
    "start_time": "2022-01-11T16:00:20.675Z"
   },
   {
    "duration": 514,
    "start_time": "2022-01-11T16:00:27.609Z"
   },
   {
    "duration": 748,
    "start_time": "2022-01-11T16:00:38.681Z"
   },
   {
    "duration": 964,
    "start_time": "2022-01-11T16:00:49.913Z"
   },
   {
    "duration": 893,
    "start_time": "2022-01-11T16:00:55.941Z"
   },
   {
    "duration": 678,
    "start_time": "2022-01-11T16:01:12.663Z"
   },
   {
    "duration": 423,
    "start_time": "2022-01-11T16:14:01.996Z"
   },
   {
    "duration": 861,
    "start_time": "2022-01-11T16:14:25.399Z"
   },
   {
    "duration": 337,
    "start_time": "2022-01-11T16:14:46.273Z"
   },
   {
    "duration": 40,
    "start_time": "2022-01-11T16:14:57.860Z"
   }
  ],
  "kernelspec": {
   "display_name": "Python 3 (ipykernel)",
   "language": "python",
   "name": "python3"
  },
  "language_info": {
   "codemirror_mode": {
    "name": "ipython",
    "version": 3
   },
   "file_extension": ".py",
   "mimetype": "text/x-python",
   "name": "python",
   "nbconvert_exporter": "python",
   "pygments_lexer": "ipython3",
   "version": "3.9.7"
  },
  "toc": {
   "base_numbering": 1,
   "nav_menu": {},
   "number_sections": true,
   "sideBar": true,
   "skip_h1_title": true,
   "title_cell": "Table of Contents",
   "title_sidebar": "Contents",
   "toc_cell": false,
   "toc_position": {},
   "toc_section_display": true,
   "toc_window_display": false
  }
 },
 "nbformat": 4,
 "nbformat_minor": 2
}
